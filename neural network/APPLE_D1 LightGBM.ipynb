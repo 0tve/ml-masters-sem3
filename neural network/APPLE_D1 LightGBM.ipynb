{
 "cells": [
  {
   "attachments": {},
   "cell_type": "markdown",
   "metadata": {},
   "source": [
    "## Подготовка"
   ]
  },
  {
   "cell_type": "code",
   "execution_count": 1,
   "metadata": {},
   "outputs": [
    {
     "name": "stderr",
     "output_type": "stream",
     "text": [
      "c:\\MyFolder\\Projects\\University\\ml-masters-sem3\\.venv\\Lib\\site-packages\\tqdm\\auto.py:21: TqdmWarning: IProgress not found. Please update jupyter and ipywidgets. See https://ipywidgets.readthedocs.io/en/stable/user_install.html\n",
      "  from .autonotebook import tqdm as notebook_tqdm\n"
     ]
    }
   ],
   "source": [
    "import warnings\n",
    "\n",
    "import lightgbm as lgb\n",
    "import numpy as np\n",
    "import optuna\n",
    "import pandas as pd\n",
    "from sklearn.decomposition import PCA\n",
    "from sklearn.metrics import classification_report, precision_score\n",
    "from sklearn.model_selection import train_test_split\n",
    "from sklearn.preprocessing import MinMaxScaler"
   ]
  },
  {
   "cell_type": "code",
   "execution_count": 2,
   "metadata": {},
   "outputs": [],
   "source": [
    "warnings.filterwarnings('ignore')"
   ]
  },
  {
   "cell_type": "code",
   "execution_count": 3,
   "metadata": {},
   "outputs": [],
   "source": [
    "data = pd.read_csv('datasets/APLE_PERIOD_D1.csv', index_col=[0], parse_dates=[0])"
   ]
  },
  {
   "cell_type": "code",
   "execution_count": 4,
   "metadata": {},
   "outputs": [
    {
     "data": {
      "text/html": [
       "<div>\n",
       "<style scoped>\n",
       "    .dataframe tbody tr th:only-of-type {\n",
       "        vertical-align: middle;\n",
       "    }\n",
       "\n",
       "    .dataframe tbody tr th {\n",
       "        vertical-align: top;\n",
       "    }\n",
       "\n",
       "    .dataframe thead th {\n",
       "        text-align: right;\n",
       "    }\n",
       "</style>\n",
       "<table border=\"1\" class=\"dataframe\">\n",
       "  <thead>\n",
       "    <tr style=\"text-align: right;\">\n",
       "      <th></th>\n",
       "      <th>A1</th>\n",
       "      <th>A2</th>\n",
       "      <th>A3</th>\n",
       "      <th>A4</th>\n",
       "      <th>A5</th>\n",
       "      <th>A6</th>\n",
       "      <th>A7</th>\n",
       "      <th>A8</th>\n",
       "      <th>A9</th>\n",
       "      <th>A10</th>\n",
       "      <th>...</th>\n",
       "      <th>A30</th>\n",
       "      <th>A31</th>\n",
       "      <th>A32</th>\n",
       "      <th>A33</th>\n",
       "      <th>A34</th>\n",
       "      <th>A35</th>\n",
       "      <th>A36</th>\n",
       "      <th>A37</th>\n",
       "      <th>A38</th>\n",
       "      <th>Close</th>\n",
       "    </tr>\n",
       "    <tr>\n",
       "      <th>data</th>\n",
       "      <th></th>\n",
       "      <th></th>\n",
       "      <th></th>\n",
       "      <th></th>\n",
       "      <th></th>\n",
       "      <th></th>\n",
       "      <th></th>\n",
       "      <th></th>\n",
       "      <th></th>\n",
       "      <th></th>\n",
       "      <th></th>\n",
       "      <th></th>\n",
       "      <th></th>\n",
       "      <th></th>\n",
       "      <th></th>\n",
       "      <th></th>\n",
       "      <th></th>\n",
       "      <th></th>\n",
       "      <th></th>\n",
       "      <th></th>\n",
       "      <th></th>\n",
       "    </tr>\n",
       "  </thead>\n",
       "  <tbody>\n",
       "    <tr>\n",
       "      <th>2017-11-30</th>\n",
       "      <td>0.035</td>\n",
       "      <td>-0.015</td>\n",
       "      <td>0.0875</td>\n",
       "      <td>0.0075</td>\n",
       "      <td>-0.0175</td>\n",
       "      <td>-0.0375</td>\n",
       "      <td>0.0875</td>\n",
       "      <td>0.0075</td>\n",
       "      <td>1.000000e-02</td>\n",
       "      <td>7.105427e-15</td>\n",
       "      <td>...</td>\n",
       "      <td>-0.06</td>\n",
       "      <td>0.000050</td>\n",
       "      <td>-0.029931</td>\n",
       "      <td>0.000000</td>\n",
       "      <td>0.000000</td>\n",
       "      <td>0.03</td>\n",
       "      <td>0.03</td>\n",
       "      <td>3.552714e-15</td>\n",
       "      <td>-0.037431</td>\n",
       "      <td>1</td>\n",
       "    </tr>\n",
       "    <tr>\n",
       "      <th>2017-12-01</th>\n",
       "      <td>-0.015</td>\n",
       "      <td>-0.045</td>\n",
       "      <td>0.0075</td>\n",
       "      <td>0.0225</td>\n",
       "      <td>-0.0375</td>\n",
       "      <td>-0.1125</td>\n",
       "      <td>0.0075</td>\n",
       "      <td>0.0225</td>\n",
       "      <td>7.105427e-15</td>\n",
       "      <td>-6.000000e-02</td>\n",
       "      <td>...</td>\n",
       "      <td>-0.15</td>\n",
       "      <td>-0.029931</td>\n",
       "      <td>0.000069</td>\n",
       "      <td>0.000000</td>\n",
       "      <td>0.000000</td>\n",
       "      <td>0.00</td>\n",
       "      <td>0.00</td>\n",
       "      <td>1.500000e-01</td>\n",
       "      <td>-0.022431</td>\n",
       "      <td>0</td>\n",
       "    </tr>\n",
       "    <tr>\n",
       "      <th>2017-12-04</th>\n",
       "      <td>-0.045</td>\n",
       "      <td>0.060</td>\n",
       "      <td>0.0225</td>\n",
       "      <td>0.1500</td>\n",
       "      <td>-0.1125</td>\n",
       "      <td>-0.0300</td>\n",
       "      <td>0.0225</td>\n",
       "      <td>0.1500</td>\n",
       "      <td>-6.000000e-02</td>\n",
       "      <td>7.500000e-02</td>\n",
       "      <td>...</td>\n",
       "      <td>-0.03</td>\n",
       "      <td>0.000069</td>\n",
       "      <td>-0.029912</td>\n",
       "      <td>0.000000</td>\n",
       "      <td>0.000000</td>\n",
       "      <td>0.03</td>\n",
       "      <td>0.03</td>\n",
       "      <td>3.750000e-02</td>\n",
       "      <td>-0.179912</td>\n",
       "      <td>1</td>\n",
       "    </tr>\n",
       "    <tr>\n",
       "      <th>2017-12-05</th>\n",
       "      <td>0.060</td>\n",
       "      <td>-0.060</td>\n",
       "      <td>0.1500</td>\n",
       "      <td>0.0300</td>\n",
       "      <td>-0.0300</td>\n",
       "      <td>-0.1500</td>\n",
       "      <td>0.1500</td>\n",
       "      <td>0.0300</td>\n",
       "      <td>7.500000e-02</td>\n",
       "      <td>-7.500000e-02</td>\n",
       "      <td>...</td>\n",
       "      <td>-0.09</td>\n",
       "      <td>-0.029912</td>\n",
       "      <td>0.000088</td>\n",
       "      <td>0.000000</td>\n",
       "      <td>0.000000</td>\n",
       "      <td>0.00</td>\n",
       "      <td>0.00</td>\n",
       "      <td>1.875000e-01</td>\n",
       "      <td>-0.029912</td>\n",
       "      <td>0</td>\n",
       "    </tr>\n",
       "    <tr>\n",
       "      <th>2017-12-06</th>\n",
       "      <td>-0.060</td>\n",
       "      <td>0.045</td>\n",
       "      <td>0.0300</td>\n",
       "      <td>0.1125</td>\n",
       "      <td>-0.1500</td>\n",
       "      <td>-0.0225</td>\n",
       "      <td>0.0300</td>\n",
       "      <td>0.1125</td>\n",
       "      <td>-7.500000e-02</td>\n",
       "      <td>4.500000e-02</td>\n",
       "      <td>...</td>\n",
       "      <td>0.00</td>\n",
       "      <td>0.000088</td>\n",
       "      <td>0.000088</td>\n",
       "      <td>0.000000</td>\n",
       "      <td>0.000000</td>\n",
       "      <td>0.00</td>\n",
       "      <td>0.00</td>\n",
       "      <td>2.250000e-02</td>\n",
       "      <td>-0.112412</td>\n",
       "      <td>1</td>\n",
       "    </tr>\n",
       "    <tr>\n",
       "      <th>...</th>\n",
       "      <td>...</td>\n",
       "      <td>...</td>\n",
       "      <td>...</td>\n",
       "      <td>...</td>\n",
       "      <td>...</td>\n",
       "      <td>...</td>\n",
       "      <td>...</td>\n",
       "      <td>...</td>\n",
       "      <td>...</td>\n",
       "      <td>...</td>\n",
       "      <td>...</td>\n",
       "      <td>...</td>\n",
       "      <td>...</td>\n",
       "      <td>...</td>\n",
       "      <td>...</td>\n",
       "      <td>...</td>\n",
       "      <td>...</td>\n",
       "      <td>...</td>\n",
       "      <td>...</td>\n",
       "      <td>...</td>\n",
       "      <td>...</td>\n",
       "    </tr>\n",
       "    <tr>\n",
       "      <th>2024-03-15</th>\n",
       "      <td>0.075</td>\n",
       "      <td>0.165</td>\n",
       "      <td>0.1875</td>\n",
       "      <td>0.4125</td>\n",
       "      <td>-0.0375</td>\n",
       "      <td>-0.0825</td>\n",
       "      <td>0.3250</td>\n",
       "      <td>0.2375</td>\n",
       "      <td>1.350000e-01</td>\n",
       "      <td>1.100000e-01</td>\n",
       "      <td>...</td>\n",
       "      <td>-0.24</td>\n",
       "      <td>0.026316</td>\n",
       "      <td>0.056391</td>\n",
       "      <td>0.094411</td>\n",
       "      <td>0.014286</td>\n",
       "      <td>-0.09</td>\n",
       "      <td>0.32</td>\n",
       "      <td>6.928571e-02</td>\n",
       "      <td>-0.356109</td>\n",
       "      <td>0</td>\n",
       "    </tr>\n",
       "    <tr>\n",
       "      <th>2024-03-18</th>\n",
       "      <td>0.165</td>\n",
       "      <td>0.070</td>\n",
       "      <td>0.4125</td>\n",
       "      <td>0.1750</td>\n",
       "      <td>-0.0825</td>\n",
       "      <td>-0.0350</td>\n",
       "      <td>0.2375</td>\n",
       "      <td>0.1500</td>\n",
       "      <td>1.100000e-01</td>\n",
       "      <td>6.500000e-02</td>\n",
       "      <td>...</td>\n",
       "      <td>-0.12</td>\n",
       "      <td>0.056391</td>\n",
       "      <td>-0.033477</td>\n",
       "      <td>0.014286</td>\n",
       "      <td>-0.085777</td>\n",
       "      <td>0.02</td>\n",
       "      <td>0.31</td>\n",
       "      <td>-5.327694e-02</td>\n",
       "      <td>-0.208477</td>\n",
       "      <td>1</td>\n",
       "    </tr>\n",
       "    <tr>\n",
       "      <th>2024-03-19</th>\n",
       "      <td>0.070</td>\n",
       "      <td>-0.095</td>\n",
       "      <td>0.1750</td>\n",
       "      <td>0.0475</td>\n",
       "      <td>-0.0350</td>\n",
       "      <td>-0.2375</td>\n",
       "      <td>0.1500</td>\n",
       "      <td>0.0725</td>\n",
       "      <td>6.500000e-02</td>\n",
       "      <td>-5.000000e-02</td>\n",
       "      <td>...</td>\n",
       "      <td>-0.31</td>\n",
       "      <td>-0.033477</td>\n",
       "      <td>-0.183252</td>\n",
       "      <td>-0.085777</td>\n",
       "      <td>-0.145802</td>\n",
       "      <td>0.27</td>\n",
       "      <td>0.40</td>\n",
       "      <td>-2.080201e-02</td>\n",
       "      <td>-0.230752</td>\n",
       "      <td>1</td>\n",
       "    </tr>\n",
       "    <tr>\n",
       "      <th>2024-03-20</th>\n",
       "      <td>-0.095</td>\n",
       "      <td>0.010</td>\n",
       "      <td>0.0475</td>\n",
       "      <td>0.0250</td>\n",
       "      <td>-0.2375</td>\n",
       "      <td>-0.0050</td>\n",
       "      <td>0.0725</td>\n",
       "      <td>0.0100</td>\n",
       "      <td>-5.000000e-02</td>\n",
       "      <td>-1.050000e-01</td>\n",
       "      <td>...</td>\n",
       "      <td>-0.35</td>\n",
       "      <td>-0.183252</td>\n",
       "      <td>0.056823</td>\n",
       "      <td>-0.145802</td>\n",
       "      <td>-0.135833</td>\n",
       "      <td>0.09</td>\n",
       "      <td>0.17</td>\n",
       "      <td>1.266667e-01</td>\n",
       "      <td>0.031823</td>\n",
       "      <td>1</td>\n",
       "    </tr>\n",
       "    <tr>\n",
       "      <th>2024-03-21</th>\n",
       "      <td>0.010</td>\n",
       "      <td>-0.005</td>\n",
       "      <td>0.0250</td>\n",
       "      <td>0.0025</td>\n",
       "      <td>-0.0050</td>\n",
       "      <td>-0.0125</td>\n",
       "      <td>0.0100</td>\n",
       "      <td>0.0025</td>\n",
       "      <td>-1.050000e-01</td>\n",
       "      <td>2.500000e-02</td>\n",
       "      <td>...</td>\n",
       "      <td>-0.36</td>\n",
       "      <td>0.056823</td>\n",
       "      <td>0.026917</td>\n",
       "      <td>-0.135833</td>\n",
       "      <td>-0.105883</td>\n",
       "      <td>0.12</td>\n",
       "      <td>0.23</td>\n",
       "      <td>-9.338346e-02</td>\n",
       "      <td>0.024417</td>\n",
       "      <td>0</td>\n",
       "    </tr>\n",
       "  </tbody>\n",
       "</table>\n",
       "<p>1586 rows × 39 columns</p>\n",
       "</div>"
      ],
      "text/plain": [
       "               A1     A2      A3      A4      A5      A6      A7      A8  \\\n",
       "data                                                                       \n",
       "2017-11-30  0.035 -0.015  0.0875  0.0075 -0.0175 -0.0375  0.0875  0.0075   \n",
       "2017-12-01 -0.015 -0.045  0.0075  0.0225 -0.0375 -0.1125  0.0075  0.0225   \n",
       "2017-12-04 -0.045  0.060  0.0225  0.1500 -0.1125 -0.0300  0.0225  0.1500   \n",
       "2017-12-05  0.060 -0.060  0.1500  0.0300 -0.0300 -0.1500  0.1500  0.0300   \n",
       "2017-12-06 -0.060  0.045  0.0300  0.1125 -0.1500 -0.0225  0.0300  0.1125   \n",
       "...           ...    ...     ...     ...     ...     ...     ...     ...   \n",
       "2024-03-15  0.075  0.165  0.1875  0.4125 -0.0375 -0.0825  0.3250  0.2375   \n",
       "2024-03-18  0.165  0.070  0.4125  0.1750 -0.0825 -0.0350  0.2375  0.1500   \n",
       "2024-03-19  0.070 -0.095  0.1750  0.0475 -0.0350 -0.2375  0.1500  0.0725   \n",
       "2024-03-20 -0.095  0.010  0.0475  0.0250 -0.2375 -0.0050  0.0725  0.0100   \n",
       "2024-03-21  0.010 -0.005  0.0250  0.0025 -0.0050 -0.0125  0.0100  0.0025   \n",
       "\n",
       "                      A9           A10  ...   A30       A31       A32  \\\n",
       "data                                    ...                             \n",
       "2017-11-30  1.000000e-02  7.105427e-15  ... -0.06  0.000050 -0.029931   \n",
       "2017-12-01  7.105427e-15 -6.000000e-02  ... -0.15 -0.029931  0.000069   \n",
       "2017-12-04 -6.000000e-02  7.500000e-02  ... -0.03  0.000069 -0.029912   \n",
       "2017-12-05  7.500000e-02 -7.500000e-02  ... -0.09 -0.029912  0.000088   \n",
       "2017-12-06 -7.500000e-02  4.500000e-02  ...  0.00  0.000088  0.000088   \n",
       "...                  ...           ...  ...   ...       ...       ...   \n",
       "2024-03-15  1.350000e-01  1.100000e-01  ... -0.24  0.026316  0.056391   \n",
       "2024-03-18  1.100000e-01  6.500000e-02  ... -0.12  0.056391 -0.033477   \n",
       "2024-03-19  6.500000e-02 -5.000000e-02  ... -0.31 -0.033477 -0.183252   \n",
       "2024-03-20 -5.000000e-02 -1.050000e-01  ... -0.35 -0.183252  0.056823   \n",
       "2024-03-21 -1.050000e-01  2.500000e-02  ... -0.36  0.056823  0.026917   \n",
       "\n",
       "                 A33       A34   A35   A36           A37       A38  Close  \n",
       "data                                                                       \n",
       "2017-11-30  0.000000  0.000000  0.03  0.03  3.552714e-15 -0.037431      1  \n",
       "2017-12-01  0.000000  0.000000  0.00  0.00  1.500000e-01 -0.022431      0  \n",
       "2017-12-04  0.000000  0.000000  0.03  0.03  3.750000e-02 -0.179912      1  \n",
       "2017-12-05  0.000000  0.000000  0.00  0.00  1.875000e-01 -0.029912      0  \n",
       "2017-12-06  0.000000  0.000000  0.00  0.00  2.250000e-02 -0.112412      1  \n",
       "...              ...       ...   ...   ...           ...       ...    ...  \n",
       "2024-03-15  0.094411  0.014286 -0.09  0.32  6.928571e-02 -0.356109      0  \n",
       "2024-03-18  0.014286 -0.085777  0.02  0.31 -5.327694e-02 -0.208477      1  \n",
       "2024-03-19 -0.085777 -0.145802  0.27  0.40 -2.080201e-02 -0.230752      1  \n",
       "2024-03-20 -0.145802 -0.135833  0.09  0.17  1.266667e-01  0.031823      1  \n",
       "2024-03-21 -0.135833 -0.105883  0.12  0.23 -9.338346e-02  0.024417      0  \n",
       "\n",
       "[1586 rows x 39 columns]"
      ]
     },
     "execution_count": 4,
     "metadata": {},
     "output_type": "execute_result"
    }
   ],
   "source": [
    "data = data.iloc[::-1]\n",
    "data"
   ]
  },
  {
   "cell_type": "code",
   "execution_count": 5,
   "metadata": {},
   "outputs": [
    {
     "name": "stdout",
     "output_type": "stream",
     "text": [
      "<class 'pandas.core.frame.DataFrame'>\n",
      "DatetimeIndex: 1586 entries, 2017-11-30 to 2024-03-21\n",
      "Data columns (total 39 columns):\n",
      " #   Column  Non-Null Count  Dtype  \n",
      "---  ------  --------------  -----  \n",
      " 0   A1      1586 non-null   float64\n",
      " 1   A2      1586 non-null   float64\n",
      " 2   A3      1586 non-null   float64\n",
      " 3   A4      1586 non-null   float64\n",
      " 4   A5      1586 non-null   float64\n",
      " 5   A6      1586 non-null   float64\n",
      " 6   A7      1586 non-null   float64\n",
      " 7   A8      1586 non-null   float64\n",
      " 8   A9      1586 non-null   float64\n",
      " 9   A10     1586 non-null   float64\n",
      " 10  A11     1586 non-null   float64\n",
      " 11  A12     1586 non-null   float64\n",
      " 12  A13     1586 non-null   float64\n",
      " 13  A14     1586 non-null   float64\n",
      " 14  A15     1586 non-null   float64\n",
      " 15  A16     1586 non-null   float64\n",
      " 16  A17     1586 non-null   float64\n",
      " 17  A18     1586 non-null   float64\n",
      " 18  A19     1586 non-null   float64\n",
      " 19  A20     1586 non-null   float64\n",
      " 20  A21     1586 non-null   float64\n",
      " 21  A22     1586 non-null   float64\n",
      " 22  A23     1586 non-null   float64\n",
      " 23  A24     1586 non-null   float64\n",
      " 24  A25     1586 non-null   float64\n",
      " 25  A26     1586 non-null   float64\n",
      " 26  A27     1586 non-null   float64\n",
      " 27  A28     1586 non-null   float64\n",
      " 28  A29     1586 non-null   float64\n",
      " 29  A30     1586 non-null   float64\n",
      " 30  A31     1586 non-null   float64\n",
      " 31  A32     1586 non-null   float64\n",
      " 32  A33     1586 non-null   float64\n",
      " 33  A34     1586 non-null   float64\n",
      " 34  A35     1586 non-null   float64\n",
      " 35  A36     1586 non-null   float64\n",
      " 36  A37     1586 non-null   float64\n",
      " 37  A38     1586 non-null   float64\n",
      " 38  Close   1586 non-null   int64  \n",
      "dtypes: float64(38), int64(1)\n",
      "memory usage: 495.6 KB\n"
     ]
    }
   ],
   "source": [
    "data.info()"
   ]
  },
  {
   "attachments": {},
   "cell_type": "markdown",
   "metadata": {},
   "source": [
    "## Обучение"
   ]
  },
  {
   "cell_type": "code",
   "execution_count": 6,
   "metadata": {},
   "outputs": [],
   "source": [
    "X = data.drop('Close', axis=1)\n",
    "y = data[['Close']]"
   ]
  },
  {
   "cell_type": "code",
   "execution_count": 7,
   "metadata": {},
   "outputs": [],
   "source": [
    "X_train, X_test, y_train, y_test = train_test_split(X, y, shuffle=False, random_state=42)"
   ]
  },
  {
   "cell_type": "code",
   "execution_count": 8,
   "metadata": {},
   "outputs": [],
   "source": [
    "scaler = MinMaxScaler()\n",
    "X_train_scaled = scaler.fit_transform(X_train)\n",
    "X_test_scaled = scaler.transform(X_test)"
   ]
  },
  {
   "cell_type": "code",
   "execution_count": 9,
   "metadata": {},
   "outputs": [],
   "source": [
    "pca = PCA(n_components=7)\n",
    "X_train_pca = pca.fit_transform(X_train_scaled)\n",
    "X_test_pca = pca.transform(X_test_scaled)"
   ]
  },
  {
   "cell_type": "code",
   "execution_count": 10,
   "metadata": {},
   "outputs": [
    {
     "data": {
      "text/plain": [
       "array([0.57315351, 0.09923983, 0.08368575, 0.07269912, 0.03499105,\n",
       "       0.02666934, 0.02303646])"
      ]
     },
     "execution_count": 10,
     "metadata": {},
     "output_type": "execute_result"
    }
   ],
   "source": [
    "pca.explained_variance_ratio_"
   ]
  },
  {
   "cell_type": "code",
   "execution_count": 11,
   "metadata": {},
   "outputs": [
    {
     "name": "stdout",
     "output_type": "stream",
     "text": [
      "Суммарная доля объяснённой дисперсии: 0.9134750655407526\n"
     ]
    }
   ],
   "source": [
    "cumulative_variance = np.cumsum(pca.explained_variance_ratio_)\n",
    "print(\"Суммарная доля объяснённой дисперсии:\", cumulative_variance[-1])"
   ]
  },
  {
   "cell_type": "markdown",
   "metadata": {},
   "source": [
    "## Модель LightGBM"
   ]
  },
  {
   "cell_type": "code",
   "execution_count": 12,
   "metadata": {},
   "outputs": [
    {
     "name": "stdout",
     "output_type": "stream",
     "text": [
      "Training until validation scores don't improve for 50 rounds\n",
      "[10]\ttrain's binary_logloss: 0.562629\tvalid's binary_logloss: 0.632678\n",
      "[20]\ttrain's binary_logloss: 0.483412\tvalid's binary_logloss: 0.617783\n",
      "[30]\ttrain's binary_logloss: 0.425084\tvalid's binary_logloss: 0.618664\n",
      "[40]\ttrain's binary_logloss: 0.373981\tvalid's binary_logloss: 0.621302\n",
      "[50]\ttrain's binary_logloss: 0.329234\tvalid's binary_logloss: 0.627306\n",
      "[60]\ttrain's binary_logloss: 0.291211\tvalid's binary_logloss: 0.638099\n",
      "[70]\ttrain's binary_logloss: 0.258406\tvalid's binary_logloss: 0.647431\n",
      "Early stopping, best iteration is:\n",
      "[27]\ttrain's binary_logloss: 0.441735\tvalid's binary_logloss: 0.617009\n"
     ]
    }
   ],
   "source": [
    "train_set = lgb.Dataset(X_train, label=y_train)\n",
    "test_set = lgb.Dataset(X_test, label=y_test, reference=train_set)\n",
    "params = {\n",
    "    'objective': 'binary',\n",
    "    'metric': 'binary_logloss',\n",
    "    'boosting_type': 'gbdt',\n",
    "    'num_leaves': 31,\n",
    "    'learning_rate': 0.05,\n",
    "    'verbose': -1\n",
    "}\n",
    "early_stopping_cb = lgb.early_stopping(stopping_rounds=50)\n",
    "model = lgb.train(\n",
    "    params=params,\n",
    "    train_set=train_set,\n",
    "    num_boost_round=500,\n",
    "    valid_sets=[train_set, test_set],\n",
    "    valid_names=['train', 'valid'],\n",
    "    callbacks=[early_stopping_cb, lgb.log_evaluation(10)]\n",
    ")\n",
    "y_pred = model.predict(X_test)\n",
    "y_pred_binary = [1 if prob > 0.5 else 0 for prob in y_pred]"
   ]
  },
  {
   "cell_type": "code",
   "execution_count": 13,
   "metadata": {},
   "outputs": [
    {
     "name": "stdout",
     "output_type": "stream",
     "text": [
      "              precision    recall  f1-score   support\n",
      "\n",
      "           0       0.71      0.70      0.71       200\n",
      "           1       0.70      0.71      0.70       197\n",
      "\n",
      "    accuracy                           0.71       397\n",
      "   macro avg       0.71      0.71      0.71       397\n",
      "weighted avg       0.71      0.71      0.71       397\n",
      "\n"
     ]
    }
   ],
   "source": [
    "print(classification_report(y_test, y_pred_binary))"
   ]
  },
  {
   "cell_type": "markdown",
   "metadata": {},
   "source": [
    "#### Подбор параметров"
   ]
  },
  {
   "cell_type": "code",
   "execution_count": 14,
   "metadata": {},
   "outputs": [],
   "source": [
    "def objective(trial):\n",
    "    params = {\n",
    "        'objective': 'binary',\n",
    "        'metric': 'precision',\n",
    "        'boosting_type': 'gbdt',\n",
    "        'num_leaves': trial.suggest_int('num_leaves', 20, 150),\n",
    "        'learning_rate': trial.suggest_float('learning_rate', 0.01, 0.1),\n",
    "        'max_depth': trial.suggest_int('max_depth', 3, 15),\n",
    "        'n_estimators': trial.suggest_int('n_estimators', 100, 1000),\n",
    "        'random_state': 42\n",
    "    }\n",
    "    model = lgb.LGBMClassifier(**params)\n",
    "    model.fit(X_train, y_train)\n",
    "    y_pred = model.predict(X_test)\n",
    "    return precision_score(y_test, y_pred, average='weighted')"
   ]
  },
  {
   "cell_type": "code",
   "execution_count": 15,
   "metadata": {},
   "outputs": [
    {
     "name": "stderr",
     "output_type": "stream",
     "text": [
      "[I 2024-12-23 14:56:02,078] A new study created in memory with name: no-name-e43eee65-dc25-4f23-89ab-a72e53250797\n",
      "[I 2024-12-23 14:56:02,399] Trial 0 finished with value: 0.6706870130988518 and parameters: {'num_leaves': 30, 'learning_rate': 0.0782632058053588, 'max_depth': 11, 'n_estimators': 121}. Best is trial 0 with value: 0.6706870130988518.\n",
      "[I 2024-12-23 14:56:02,513] Trial 1 finished with value: 0.6694770430043038 and parameters: {'num_leaves': 48, 'learning_rate': 0.06164839578405947, 'max_depth': 3, 'n_estimators': 286}. Best is trial 0 with value: 0.6706870130988518.\n",
      "[I 2024-12-23 14:56:02,807] Trial 2 finished with value: 0.6816381273318337 and parameters: {'num_leaves': 114, 'learning_rate': 0.023816422854107126, 'max_depth': 3, 'n_estimators': 819}. Best is trial 2 with value: 0.6816381273318337.\n",
      "[I 2024-12-23 14:56:02,985] Trial 3 finished with value: 0.6718356906386604 and parameters: {'num_leaves': 26, 'learning_rate': 0.09072018036317622, 'max_depth': 8, 'n_estimators': 147}. Best is trial 2 with value: 0.6816381273318337.\n",
      "[I 2024-12-23 14:56:03,299] Trial 4 finished with value: 0.666755062395014 and parameters: {'num_leaves': 62, 'learning_rate': 0.047970044766557314, 'max_depth': 6, 'n_estimators': 365}. Best is trial 2 with value: 0.6816381273318337.\n",
      "[I 2024-12-23 14:56:03,970] Trial 5 finished with value: 0.6647714562311069 and parameters: {'num_leaves': 55, 'learning_rate': 0.043064091001497065, 'max_depth': 10, 'n_estimators': 373}. Best is trial 2 with value: 0.6816381273318337.\n",
      "[I 2024-12-23 14:56:05,130] Trial 6 finished with value: 0.6745625473178898 and parameters: {'num_leaves': 134, 'learning_rate': 0.044380310392289325, 'max_depth': 12, 'n_estimators': 603}. Best is trial 2 with value: 0.6816381273318337.\n",
      "[I 2024-12-23 14:56:05,321] Trial 7 finished with value: 0.686120207000678 and parameters: {'num_leaves': 47, 'learning_rate': 0.07191810208987945, 'max_depth': 8, 'n_estimators': 124}. Best is trial 7 with value: 0.686120207000678.\n",
      "[I 2024-12-23 14:56:05,462] Trial 8 finished with value: 0.6830133521738241 and parameters: {'num_leaves': 41, 'learning_rate': 0.05245584980053402, 'max_depth': 4, 'n_estimators': 260}. Best is trial 7 with value: 0.686120207000678.\n",
      "[I 2024-12-23 14:56:05,739] Trial 9 finished with value: 0.6605177717474637 and parameters: {'num_leaves': 34, 'learning_rate': 0.08475678335843145, 'max_depth': 4, 'n_estimators': 599}. Best is trial 7 with value: 0.686120207000678.\n",
      "[I 2024-12-23 14:56:07,593] Trial 10 finished with value: 0.672627332109465 and parameters: {'num_leaves': 86, 'learning_rate': 0.012069194010528132, 'max_depth': 14, 'n_estimators': 967}. Best is trial 7 with value: 0.686120207000678.\n",
      "[I 2024-12-23 14:56:07,887] Trial 11 finished with value: 0.6651868652905844 and parameters: {'num_leaves': 77, 'learning_rate': 0.06715912645416114, 'max_depth': 7, 'n_estimators': 237}. Best is trial 7 with value: 0.686120207000678.\n",
      "[I 2024-12-23 14:56:08,288] Trial 12 finished with value: 0.6661261788998888 and parameters: {'num_leaves': 87, 'learning_rate': 0.0987226686900812, 'max_depth': 6, 'n_estimators': 457}. Best is trial 7 with value: 0.686120207000678.\n",
      "[I 2024-12-23 14:56:08,452] Trial 13 finished with value: 0.6738716532392618 and parameters: {'num_leaves': 68, 'learning_rate': 0.07192149721826313, 'max_depth': 5, 'n_estimators': 208}. Best is trial 7 with value: 0.686120207000678.\n",
      "[I 2024-12-23 14:56:09,200] Trial 14 finished with value: 0.660079141483794 and parameters: {'num_leaves': 44, 'learning_rate': 0.0563750987722865, 'max_depth': 9, 'n_estimators': 478}. Best is trial 7 with value: 0.686120207000678.\n",
      "[I 2024-12-23 14:56:10,637] Trial 15 finished with value: 0.6647714562311069 and parameters: {'num_leaves': 105, 'learning_rate': 0.029356097966358883, 'max_depth': 14, 'n_estimators': 714}. Best is trial 7 with value: 0.686120207000678.\n",
      "[I 2024-12-23 14:56:10,847] Trial 16 finished with value: 0.7030240643636885 and parameters: {'num_leaves': 45, 'learning_rate': 0.03570153911679086, 'max_depth': 8, 'n_estimators': 116}. Best is trial 16 with value: 0.7030240643636885.\n",
      "[I 2024-12-23 14:56:10,992] Trial 17 finished with value: 0.7181477760876576 and parameters: {'num_leaves': 22, 'learning_rate': 0.033582307695807445, 'max_depth': 8, 'n_estimators': 105}. Best is trial 17 with value: 0.7181477760876576.\n",
      "[I 2024-12-23 14:56:11,342] Trial 18 finished with value: 0.6800596593893946 and parameters: {'num_leaves': 21, 'learning_rate': 0.031231333372612243, 'max_depth': 12, 'n_estimators': 340}. Best is trial 17 with value: 0.7181477760876576.\n",
      "[I 2024-12-23 14:56:11,783] Trial 19 finished with value: 0.6616744341513675 and parameters: {'num_leaves': 20, 'learning_rate': 0.034697605546989654, 'max_depth': 9, 'n_estimators': 447}. Best is trial 17 with value: 0.7181477760876576.\n",
      "[I 2024-12-23 14:56:12,114] Trial 20 finished with value: 0.6979828271223655 and parameters: {'num_leaves': 147, 'learning_rate': 0.015199734692024652, 'max_depth': 7, 'n_estimators': 199}. Best is trial 17 with value: 0.7181477760876576.\n",
      "[I 2024-12-23 14:56:12,405] Trial 21 finished with value: 0.700331867176412 and parameters: {'num_leaves': 147, 'learning_rate': 0.01343962776788004, 'max_depth': 7, 'n_estimators': 117}. Best is trial 17 with value: 0.7181477760876576.\n",
      "[I 2024-12-23 14:56:12,647] Trial 22 finished with value: 0.7033997032152535 and parameters: {'num_leaves': 106, 'learning_rate': 0.020872379691964916, 'max_depth': 8, 'n_estimators': 128}. Best is trial 17 with value: 0.7181477760876576.\n",
      "[I 2024-12-23 14:56:12,992] Trial 23 finished with value: 0.6800596593893946 and parameters: {'num_leaves': 100, 'learning_rate': 0.037764166199577544, 'max_depth': 10, 'n_estimators': 194}. Best is trial 17 with value: 0.7181477760876576.\n",
      "[I 2024-12-23 14:56:13,476] Trial 24 finished with value: 0.6911486004981339 and parameters: {'num_leaves': 121, 'learning_rate': 0.02215408119981866, 'max_depth': 8, 'n_estimators': 326}. Best is trial 17 with value: 0.7181477760876576.\n",
      "[I 2024-12-23 14:56:13,730] Trial 25 finished with value: 0.7031911081075546 and parameters: {'num_leaves': 97, 'learning_rate': 0.022451976288933383, 'max_depth': 10, 'n_estimators': 102}. Best is trial 17 with value: 0.7181477760876576.\n",
      "[I 2024-12-23 14:56:14,121] Trial 26 finished with value: 0.6887617483775722 and parameters: {'num_leaves': 96, 'learning_rate': 0.021384810484389893, 'max_depth': 11, 'n_estimators': 192}. Best is trial 17 with value: 0.7181477760876576.\n",
      "[I 2024-12-23 14:56:14,581] Trial 27 finished with value: 0.6664230876150055 and parameters: {'num_leaves': 123, 'learning_rate': 0.026738781675873267, 'max_depth': 10, 'n_estimators': 281}. Best is trial 17 with value: 0.7181477760876576.\n",
      "[I 2024-12-23 14:56:15,384] Trial 28 finished with value: 0.6894267702890513 and parameters: {'num_leaves': 76, 'learning_rate': 0.02068777174077349, 'max_depth': 15, 'n_estimators': 415}. Best is trial 17 with value: 0.7181477760876576.\n",
      "[I 2024-12-23 14:56:16,307] Trial 29 finished with value: 0.6777290904174735 and parameters: {'num_leaves': 111, 'learning_rate': 0.017739261011627573, 'max_depth': 12, 'n_estimators': 540}. Best is trial 17 with value: 0.7181477760876576.\n",
      "[I 2024-12-23 14:56:16,566] Trial 30 finished with value: 0.6928202763491953 and parameters: {'num_leaves': 96, 'learning_rate': 0.010546794932214217, 'max_depth': 11, 'n_estimators': 108}. Best is trial 17 with value: 0.7181477760876576.\n",
      "[I 2024-12-23 14:56:16,758] Trial 31 finished with value: 0.7054760794816161 and parameters: {'num_leaves': 37, 'learning_rate': 0.03866926551475583, 'max_depth': 9, 'n_estimators': 101}. Best is trial 17 with value: 0.7181477760876576.\n",
      "[I 2024-12-23 14:56:17,024] Trial 32 finished with value: 0.6680590059824478 and parameters: {'num_leaves': 34, 'learning_rate': 0.04058062765163335, 'max_depth': 9, 'n_estimators': 165}. Best is trial 17 with value: 0.7181477760876576.\n",
      "[I 2024-12-23 14:56:17,506] Trial 33 finished with value: 0.6675255738014565 and parameters: {'num_leaves': 59, 'learning_rate': 0.031163558925169595, 'max_depth': 10, 'n_estimators': 282}. Best is trial 17 with value: 0.7181477760876576.\n",
      "[I 2024-12-23 14:56:17,749] Trial 34 finished with value: 0.7033997032152535 and parameters: {'num_leaves': 29, 'learning_rate': 0.026160504693943196, 'max_depth': 11, 'n_estimators': 166}. Best is trial 17 with value: 0.7181477760876576.\n",
      "[I 2024-12-23 14:56:17,955] Trial 35 finished with value: 0.6911486004981339 and parameters: {'num_leaves': 28, 'learning_rate': 0.02805243931042012, 'max_depth': 6, 'n_estimators': 162}. Best is trial 17 with value: 0.7181477760876576.\n",
      "[I 2024-12-23 14:56:18,359] Trial 36 finished with value: 0.6536012335833714 and parameters: {'num_leaves': 36, 'learning_rate': 0.04831454580914914, 'max_depth': 13, 'n_estimators': 240}. Best is trial 17 with value: 0.7181477760876576.\n",
      "[I 2024-12-23 14:56:18,811] Trial 37 finished with value: 0.6626323410032554 and parameters: {'num_leaves': 53, 'learning_rate': 0.05796051522250678, 'max_depth': 9, 'n_estimators': 311}. Best is trial 17 with value: 0.7181477760876576.\n",
      "[I 2024-12-23 14:56:19,774] Trial 38 finished with value: 0.6671224150892341 and parameters: {'num_leaves': 30, 'learning_rate': 0.046582776595130444, 'max_depth': 11, 'n_estimators': 745}. Best is trial 17 with value: 0.7181477760876576.\n",
      "[I 2024-12-23 14:56:19,945] Trial 39 finished with value: 0.690495630261606 and parameters: {'num_leaves': 24, 'learning_rate': 0.03480690473807467, 'max_depth': 7, 'n_estimators': 165}. Best is trial 17 with value: 0.7181477760876576.\n",
      "[I 2024-12-23 14:56:20,396] Trial 40 finished with value: 0.6781929464549111 and parameters: {'num_leaves': 39, 'learning_rate': 0.04115851096339264, 'max_depth': 8, 'n_estimators': 390}. Best is trial 17 with value: 0.7181477760876576.\n",
      "[I 2024-12-23 14:56:20,622] Trial 41 finished with value: 0.6879003526397194 and parameters: {'num_leaves': 112, 'learning_rate': 0.02347482520958702, 'max_depth': 10, 'n_estimators': 100}. Best is trial 17 with value: 0.7181477760876576.\n",
      "[I 2024-12-23 14:56:20,955] Trial 42 finished with value: 0.6856277082438935 and parameters: {'num_leaves': 92, 'learning_rate': 0.017156499570230615, 'max_depth': 11, 'n_estimators': 146}. Best is trial 17 with value: 0.7181477760876576.\n",
      "[I 2024-12-23 14:56:21,279] Trial 43 finished with value: 0.6781563480489636 and parameters: {'num_leaves': 106, 'learning_rate': 0.026728557777947352, 'max_depth': 9, 'n_estimators': 219}. Best is trial 17 with value: 0.7181477760876576.\n",
      "[I 2024-12-23 14:56:21,521] Trial 44 finished with value: 0.700766986066008 and parameters: {'num_leaves': 77, 'learning_rate': 0.025617876728488007, 'max_depth': 8, 'n_estimators': 154}. Best is trial 17 with value: 0.7181477760876576.\n",
      "[I 2024-12-23 14:56:21,742] Trial 45 finished with value: 0.6931022301406894 and parameters: {'num_leaves': 121, 'learning_rate': 0.019220393591195054, 'max_depth': 12, 'n_estimators': 100}. Best is trial 17 with value: 0.7181477760876576.\n",
      "[I 2024-12-23 14:56:23,056] Trial 46 finished with value: 0.6633139727768337 and parameters: {'num_leaves': 68, 'learning_rate': 0.03275324732458531, 'max_depth': 9, 'n_estimators': 923}. Best is trial 17 with value: 0.7181477760876576.\n",
      "[I 2024-12-23 14:56:23,514] Trial 47 finished with value: 0.6796480516314758 and parameters: {'num_leaves': 53, 'learning_rate': 0.05282100864922071, 'max_depth': 10, 'n_estimators': 250}. Best is trial 17 with value: 0.7181477760876576.\n",
      "[I 2024-12-23 14:56:23,752] Trial 48 finished with value: 0.6882536901154797 and parameters: {'num_leaves': 30, 'learning_rate': 0.03939770182665551, 'max_depth': 8, 'n_estimators': 145}. Best is trial 17 with value: 0.7181477760876576.\n",
      "[I 2024-12-23 14:56:24,019] Trial 49 finished with value: 0.698146669124122 and parameters: {'num_leaves': 130, 'learning_rate': 0.024683741743926242, 'max_depth': 6, 'n_estimators': 190}. Best is trial 17 with value: 0.7181477760876576.\n",
      "[I 2024-12-23 14:56:24,203] Trial 50 finished with value: 0.675738188017785 and parameters: {'num_leaves': 82, 'learning_rate': 0.043567864385651384, 'max_depth': 5, 'n_estimators': 232}. Best is trial 17 with value: 0.7181477760876576.\n",
      "[I 2024-12-23 14:56:24,431] Trial 51 finished with value: 0.6903560148690707 and parameters: {'num_leaves': 44, 'learning_rate': 0.03478772166270609, 'max_depth': 8, 'n_estimators': 133}. Best is trial 17 with value: 0.7181477760876576.\n",
      "[I 2024-12-23 14:56:24,673] Trial 52 finished with value: 0.6805812823031887 and parameters: {'num_leaves': 49, 'learning_rate': 0.03714695878154568, 'max_depth': 9, 'n_estimators': 132}. Best is trial 17 with value: 0.7181477760876576.\n",
      "[I 2024-12-23 14:56:24,900] Trial 53 finished with value: 0.6860916383956835 and parameters: {'num_leaves': 39, 'learning_rate': 0.02993677932011333, 'max_depth': 7, 'n_estimators': 180}. Best is trial 17 with value: 0.7181477760876576.\n",
      "[I 2024-12-23 14:56:25,044] Trial 54 finished with value: 0.7054760794816161 and parameters: {'num_leaves': 25, 'learning_rate': 0.049510886956622695, 'max_depth': 9, 'n_estimators': 104}. Best is trial 17 with value: 0.7181477760876576.\n",
      "[I 2024-12-23 14:56:25,358] Trial 55 finished with value: 0.6738716532392618 and parameters: {'num_leaves': 25, 'learning_rate': 0.048378178207540014, 'max_depth': 10, 'n_estimators': 278}. Best is trial 17 with value: 0.7181477760876576.\n",
      "[I 2024-12-23 14:56:25,574] Trial 56 finished with value: 0.6754023129041651 and parameters: {'num_leaves': 20, 'learning_rate': 0.062117322608003234, 'max_depth': 11, 'n_estimators': 212}. Best is trial 17 with value: 0.7181477760876576.\n",
      "[I 2024-12-23 14:56:25,789] Trial 57 finished with value: 0.6953960364065858 and parameters: {'num_leaves': 30, 'learning_rate': 0.044996754212349506, 'max_depth': 9, 'n_estimators': 103}. Best is trial 17 with value: 0.7181477760876576.\n",
      "[I 2024-12-23 14:56:26,280] Trial 58 finished with value: 0.6858405378556512 and parameters: {'num_leaves': 107, 'learning_rate': 0.014717702079031, 'max_depth': 10, 'n_estimators': 175}. Best is trial 17 with value: 0.7181477760876576.\n",
      "[I 2024-12-23 14:56:26,536] Trial 59 finished with value: 0.6677354036744274 and parameters: {'num_leaves': 34, 'learning_rate': 0.05127455099561641, 'max_depth': 13, 'n_estimators': 131}. Best is trial 17 with value: 0.7181477760876576.\n",
      "[I 2024-12-23 14:56:26,900] Trial 60 finished with value: 0.6773037156460341 and parameters: {'num_leaves': 100, 'learning_rate': 0.03187525246490691, 'max_depth': 7, 'n_estimators': 308}. Best is trial 17 with value: 0.7181477760876576.\n",
      "[I 2024-12-23 14:56:27,073] Trial 61 finished with value: 0.6882536901154797 and parameters: {'num_leaves': 24, 'learning_rate': 0.0372240457017129, 'max_depth': 8, 'n_estimators': 132}. Best is trial 17 with value: 0.7181477760876576.\n",
      "[I 2024-12-23 14:56:27,358] Trial 62 finished with value: 0.6593060343771322 and parameters: {'num_leaves': 35, 'learning_rate': 0.04219337667537389, 'max_depth': 8, 'n_estimators': 207}. Best is trial 17 with value: 0.7181477760876576.\n",
      "[I 2024-12-23 14:56:27,540] Trial 63 finished with value: 0.7033997032152535 and parameters: {'num_leaves': 48, 'learning_rate': 0.022344001032698953, 'max_depth': 7, 'n_estimators': 100}. Best is trial 17 with value: 0.7181477760876576.\n",
      "[I 2024-12-23 14:56:27,784] Trial 64 finished with value: 0.698146669124122 and parameters: {'num_leaves': 42, 'learning_rate': 0.020823870717562268, 'max_depth': 7, 'n_estimators': 163}. Best is trial 17 with value: 0.7181477760876576.\n",
      "[I 2024-12-23 14:56:28,023] Trial 65 finished with value: 0.6903560148690707 and parameters: {'num_leaves': 91, 'learning_rate': 0.017333577737098118, 'max_depth': 5, 'n_estimators': 254}. Best is trial 17 with value: 0.7181477760876576.\n",
      "[I 2024-12-23 14:56:28,208] Trial 66 finished with value: 0.7183244250578524 and parameters: {'num_leaves': 116, 'learning_rate': 0.02839138096774397, 'max_depth': 6, 'n_estimators': 103}. Best is trial 66 with value: 0.7183244250578524.\n",
      "[I 2024-12-23 14:56:28,795] Trial 67 finished with value: 0.6512030171870788 and parameters: {'num_leaves': 49, 'learning_rate': 0.08227217969774162, 'max_depth': 6, 'n_estimators': 591}. Best is trial 66 with value: 0.7183244250578524.\n",
      "[I 2024-12-23 14:56:29,030] Trial 68 finished with value: 0.7129765248706348 and parameters: {'num_leaves': 129, 'learning_rate': 0.029720629433658764, 'max_depth': 7, 'n_estimators': 132}. Best is trial 66 with value: 0.7183244250578524.\n",
      "[I 2024-12-23 14:56:29,267] Trial 69 finished with value: 0.6935421956027223 and parameters: {'num_leaves': 140, 'learning_rate': 0.028923870368779844, 'max_depth': 6, 'n_estimators': 190}. Best is trial 66 with value: 0.7183244250578524.\n",
      "[I 2024-12-23 14:56:29,522] Trial 70 finished with value: 0.6628510482414764 and parameters: {'num_leaves': 126, 'learning_rate': 0.059132847149252724, 'max_depth': 3, 'n_estimators': 693}. Best is trial 66 with value: 0.7183244250578524.\n",
      "[I 2024-12-23 14:56:29,725] Trial 71 finished with value: 0.6933023611487377 and parameters: {'num_leaves': 138, 'learning_rate': 0.03339520293006446, 'max_depth': 7, 'n_estimators': 131}. Best is trial 66 with value: 0.7183244250578524.\n",
      "[I 2024-12-23 14:56:29,953] Trial 72 finished with value: 0.6903560148690707 and parameters: {'num_leaves': 119, 'learning_rate': 0.027640854807077606, 'max_depth': 6, 'n_estimators': 152}. Best is trial 66 with value: 0.7183244250578524.\n",
      "[I 2024-12-23 14:56:30,181] Trial 73 finished with value: 0.6983510321819956 and parameters: {'num_leaves': 116, 'learning_rate': 0.023896306770274055, 'max_depth': 8, 'n_estimators': 100}. Best is trial 66 with value: 0.7183244250578524.\n",
      "[I 2024-12-23 14:56:30,326] Trial 74 finished with value: 0.7030240643636885 and parameters: {'num_leaves': 129, 'learning_rate': 0.03902215790116089, 'max_depth': 5, 'n_estimators': 124}. Best is trial 66 with value: 0.7183244250578524.\n",
      "[I 2024-12-23 14:56:30,574] Trial 75 finished with value: 0.6813174921035764 and parameters: {'num_leaves': 27, 'learning_rate': 0.030850840284475704, 'max_depth': 7, 'n_estimators': 175}. Best is trial 66 with value: 0.7183244250578524.\n",
      "[I 2024-12-23 14:56:30,907] Trial 76 finished with value: 0.6879003526397194 and parameters: {'num_leaves': 33, 'learning_rate': 0.011222617536552782, 'max_depth': 7, 'n_estimators': 219}. Best is trial 66 with value: 0.7183244250578524.\n",
      "[I 2024-12-23 14:56:31,115] Trial 77 finished with value: 0.6758792328993922 and parameters: {'num_leaves': 38, 'learning_rate': 0.09755972232602515, 'max_depth': 8, 'n_estimators': 159}. Best is trial 66 with value: 0.7183244250578524.\n",
      "[I 2024-12-23 14:56:31,411] Trial 78 finished with value: 0.7063194868054847 and parameters: {'num_leaves': 116, 'learning_rate': 0.025466057864151855, 'max_depth': 9, 'n_estimators': 131}. Best is trial 66 with value: 0.7183244250578524.\n",
      "[I 2024-12-23 14:56:32,291] Trial 79 finished with value: 0.6613514077093959 and parameters: {'num_leaves': 136, 'learning_rate': 0.025916678132968295, 'max_depth': 9, 'n_estimators': 495}. Best is trial 66 with value: 0.7183244250578524.\n",
      "[I 2024-12-23 14:56:32,540] Trial 80 finished with value: 0.6988822426158787 and parameters: {'num_leaves': 142, 'learning_rate': 0.02884389528951992, 'max_depth': 9, 'n_estimators': 128}. Best is trial 66 with value: 0.7183244250578524.\n",
      "[I 2024-12-23 14:56:32,845] Trial 81 finished with value: 0.698596133938469 and parameters: {'num_leaves': 114, 'learning_rate': 0.019016947650015437, 'max_depth': 8, 'n_estimators': 148}. Best is trial 66 with value: 0.7183244250578524.\n",
      "[I 2024-12-23 14:56:33,018] Trial 82 finished with value: 0.7053702259330767 and parameters: {'num_leaves': 125, 'learning_rate': 0.02296254063514457, 'max_depth': 6, 'n_estimators': 121}. Best is trial 66 with value: 0.7183244250578524.\n",
      "[I 2024-12-23 14:56:33,317] Trial 83 finished with value: 0.7129765248706348 and parameters: {'num_leaves': 109, 'learning_rate': 0.01553700598463342, 'max_depth': 6, 'n_estimators': 191}. Best is trial 66 with value: 0.7183244250578524.\n",
      "[I 2024-12-23 14:56:33,620] Trial 84 finished with value: 0.7104085846897416 and parameters: {'num_leaves': 110, 'learning_rate': 0.01357816932272832, 'max_depth': 6, 'n_estimators': 196}. Best is trial 66 with value: 0.7183244250578524.\n",
      "[I 2024-12-23 14:56:33,853] Trial 85 finished with value: 0.7159062638881224 and parameters: {'num_leaves': 110, 'learning_rate': 0.013355114329699751, 'max_depth': 5, 'n_estimators': 230}. Best is trial 66 with value: 0.7183244250578524.\n",
      "[I 2024-12-23 14:56:34,043] Trial 86 finished with value: 0.7179277298893009 and parameters: {'num_leaves': 109, 'learning_rate': 0.013873096532417627, 'max_depth': 4, 'n_estimators': 222}. Best is trial 66 with value: 0.7183244250578524.\n",
      "[I 2024-12-23 14:56:34,269] Trial 87 finished with value: 0.71327998607442 and parameters: {'num_leaves': 109, 'learning_rate': 0.012915343968537347, 'max_depth': 4, 'n_estimators': 340}. Best is trial 66 with value: 0.7183244250578524.\n",
      "[I 2024-12-23 14:56:34,516] Trial 88 finished with value: 0.7030240643636885 and parameters: {'num_leaves': 110, 'learning_rate': 0.013348380658449767, 'max_depth': 4, 'n_estimators': 376}. Best is trial 66 with value: 0.7183244250578524.\n",
      "[I 2024-12-23 14:56:34,686] Trial 89 finished with value: 0.7164334110103853 and parameters: {'num_leaves': 117, 'learning_rate': 0.015116284505450037, 'max_depth': 3, 'n_estimators': 351}. Best is trial 66 with value: 0.7183244250578524.\n",
      "[I 2024-12-23 14:56:34,860] Trial 90 finished with value: 0.7140629839733383 and parameters: {'num_leaves': 103, 'learning_rate': 0.010300560522169284, 'max_depth': 3, 'n_estimators': 349}. Best is trial 66 with value: 0.7183244250578524.\n",
      "[I 2024-12-23 14:56:35,057] Trial 91 finished with value: 0.7140629839733383 and parameters: {'num_leaves': 102, 'learning_rate': 0.012911420845372168, 'max_depth': 3, 'n_estimators': 350}. Best is trial 66 with value: 0.7183244250578524.\n",
      "[I 2024-12-23 14:56:35,252] Trial 92 finished with value: 0.7164334110103853 and parameters: {'num_leaves': 102, 'learning_rate': 0.010297163092474061, 'max_depth': 3, 'n_estimators': 344}. Best is trial 66 with value: 0.7183244250578524.\n",
      "[I 2024-12-23 14:56:35,471] Trial 93 finished with value: 0.7140629839733383 and parameters: {'num_leaves': 104, 'learning_rate': 0.011675415165086562, 'max_depth': 3, 'n_estimators': 422}. Best is trial 66 with value: 0.7183244250578524.\n",
      "[I 2024-12-23 14:56:35,656] Trial 94 finished with value: 0.7164334110103853 and parameters: {'num_leaves': 102, 'learning_rate': 0.010086302923403992, 'max_depth': 3, 'n_estimators': 348}. Best is trial 66 with value: 0.7183244250578524.\n",
      "[I 2024-12-23 14:56:35,869] Trial 95 finished with value: 0.7164334110103853 and parameters: {'num_leaves': 103, 'learning_rate': 0.010208698079236444, 'max_depth': 3, 'n_estimators': 404}. Best is trial 66 with value: 0.7183244250578524.\n",
      "[I 2024-12-23 14:56:36,081] Trial 96 finished with value: 0.7113764489079352 and parameters: {'num_leaves': 101, 'learning_rate': 0.010822474019509571, 'max_depth': 3, 'n_estimators': 411}. Best is trial 66 with value: 0.7183244250578524.\n",
      "[I 2024-12-23 14:56:36,325] Trial 97 finished with value: 0.7009940626124506 and parameters: {'num_leaves': 92, 'learning_rate': 0.015861271900520103, 'max_depth': 4, 'n_estimators': 357}. Best is trial 66 with value: 0.7183244250578524.\n",
      "[I 2024-12-23 14:56:36,509] Trial 98 finished with value: 0.7117002583116361 and parameters: {'num_leaves': 103, 'learning_rate': 0.010087306229382486, 'max_depth': 3, 'n_estimators': 464}. Best is trial 66 with value: 0.7183244250578524.\n",
      "[I 2024-12-23 14:56:36,668] Trial 99 finished with value: 0.7164334110103853 and parameters: {'num_leaves': 96, 'learning_rate': 0.018850944771165334, 'max_depth': 3, 'n_estimators': 305}. Best is trial 66 with value: 0.7183244250578524.\n",
      "[I 2024-12-23 14:56:36,881] Trial 100 finished with value: 0.6908917127745842 and parameters: {'num_leaves': 97, 'learning_rate': 0.01953086180787662, 'max_depth': 4, 'n_estimators': 306}. Best is trial 66 with value: 0.7183244250578524.\n",
      "[I 2024-12-23 14:56:37,062] Trial 101 finished with value: 0.7110964124503167 and parameters: {'num_leaves': 94, 'learning_rate': 0.01646772968027334, 'max_depth': 3, 'n_estimators': 334}. Best is trial 66 with value: 0.7183244250578524.\n",
      "[I 2024-12-23 14:56:37,294] Trial 102 finished with value: 0.7113764489079352 and parameters: {'num_leaves': 85, 'learning_rate': 0.015001711693350791, 'max_depth': 3, 'n_estimators': 387}. Best is trial 66 with value: 0.7183244250578524.\n",
      "[I 2024-12-23 14:56:37,557] Trial 103 finished with value: 0.7106664685947205 and parameters: {'num_leaves': 88, 'learning_rate': 0.010028344515275145, 'max_depth': 4, 'n_estimators': 273}. Best is trial 66 with value: 0.7183244250578524.\n",
      "[I 2024-12-23 14:56:37,793] Trial 104 finished with value: 0.7144124925510423 and parameters: {'num_leaves': 100, 'learning_rate': 0.012871043323610842, 'max_depth': 3, 'n_estimators': 360}. Best is trial 66 with value: 0.7183244250578524.\n",
      "[I 2024-12-23 14:56:38,054] Trial 105 finished with value: 0.7060452375313835 and parameters: {'num_leaves': 113, 'learning_rate': 0.018084416261796424, 'max_depth': 4, 'n_estimators': 302}. Best is trial 66 with value: 0.7183244250578524.\n",
      "[I 2024-12-23 14:56:38,305] Trial 106 finished with value: 0.7012625247030344 and parameters: {'num_leaves': 100, 'learning_rate': 0.014751416223695281, 'max_depth': 3, 'n_estimators': 433}. Best is trial 66 with value: 0.7183244250578524.\n",
      "[I 2024-12-23 14:56:38,622] Trial 107 finished with value: 0.6983510321819956 and parameters: {'num_leaves': 106, 'learning_rate': 0.012305392629665082, 'max_depth': 5, 'n_estimators': 324}. Best is trial 66 with value: 0.7183244250578524.\n",
      "[I 2024-12-23 14:56:38,807] Trial 108 finished with value: 0.698596133938469 and parameters: {'num_leaves': 119, 'learning_rate': 0.019766611181417558, 'max_depth': 3, 'n_estimators': 375}. Best is trial 66 with value: 0.7183244250578524.\n",
      "[I 2024-12-23 14:56:39,084] Trial 109 finished with value: 0.6860916383956835 and parameters: {'num_leaves': 99, 'learning_rate': 0.017337816989737367, 'max_depth': 4, 'n_estimators': 399}. Best is trial 66 with value: 0.7183244250578524.\n",
      "[I 2024-12-23 14:56:39,264] Trial 110 finished with value: 0.7164334110103853 and parameters: {'num_leaves': 116, 'learning_rate': 0.014603321406418797, 'max_depth': 3, 'n_estimators': 293}. Best is trial 66 with value: 0.7183244250578524.\n",
      "[I 2024-12-23 14:56:39,421] Trial 111 finished with value: 0.7090027368541849 and parameters: {'num_leaves': 115, 'learning_rate': 0.014035890061781072, 'max_depth': 3, 'n_estimators': 293}. Best is trial 66 with value: 0.7183244250578524.\n",
      "[I 2024-12-23 14:56:39,636] Trial 112 finished with value: 0.7131065388463345 and parameters: {'num_leaves': 107, 'learning_rate': 0.012202650849236309, 'max_depth': 4, 'n_estimators': 265}. Best is trial 66 with value: 0.7183244250578524.\n",
      "[I 2024-12-23 14:56:39,797] Trial 113 finished with value: 0.7164334110103853 and parameters: {'num_leaves': 104, 'learning_rate': 0.01591861229236649, 'max_depth': 3, 'n_estimators': 321}. Best is trial 66 with value: 0.7183244250578524.\n",
      "[I 2024-12-23 14:56:39,968] Trial 114 finished with value: 0.7131065388463345 and parameters: {'num_leaves': 81, 'learning_rate': 0.016088970630619336, 'max_depth': 4, 'n_estimators': 236}. Best is trial 66 with value: 0.7183244250578524.\n",
      "[I 2024-12-23 14:56:40,143] Trial 115 finished with value: 0.7012625247030344 and parameters: {'num_leaves': 118, 'learning_rate': 0.02065380917291178, 'max_depth': 3, 'n_estimators': 321}. Best is trial 66 with value: 0.7183244250578524.\n",
      "[I 2024-12-23 14:56:40,488] Trial 116 finished with value: 0.6819969471259534 and parameters: {'num_leaves': 97, 'learning_rate': 0.01843913181588808, 'max_depth': 5, 'n_estimators': 369}. Best is trial 66 with value: 0.7183244250578524.\n",
      "[I 2024-12-23 14:56:40,625] Trial 117 finished with value: 0.7164334110103853 and parameters: {'num_leaves': 122, 'learning_rate': 0.014698007965958243, 'max_depth': 3, 'n_estimators': 289}. Best is trial 66 with value: 0.7183244250578524.\n",
      "[I 2024-12-23 14:56:40,756] Trial 118 finished with value: 0.7144124925510423 and parameters: {'num_leaves': 121, 'learning_rate': 0.016832105708641732, 'max_depth': 3, 'n_estimators': 250}. Best is trial 66 with value: 0.7183244250578524.\n",
      "[I 2024-12-23 14:56:40,980] Trial 119 finished with value: 0.7155561225566461 and parameters: {'num_leaves': 113, 'learning_rate': 0.014679774412441365, 'max_depth': 4, 'n_estimators': 289}. Best is trial 66 with value: 0.7183244250578524.\n",
      "[I 2024-12-23 14:56:41,194] Trial 120 finished with value: 0.6434660237554264 and parameters: {'num_leaves': 124, 'learning_rate': 0.06923818903557895, 'max_depth': 4, 'n_estimators': 320}. Best is trial 66 with value: 0.7183244250578524.\n",
      "[I 2024-12-23 14:56:41,388] Trial 121 finished with value: 0.7131065388463345 and parameters: {'num_leaves': 112, 'learning_rate': 0.014965415170840705, 'max_depth': 4, 'n_estimators': 290}. Best is trial 66 with value: 0.7183244250578524.\n",
      "[I 2024-12-23 14:56:41,534] Trial 122 finished with value: 0.7039424897350318 and parameters: {'num_leaves': 108, 'learning_rate': 0.022241989104575987, 'max_depth': 3, 'n_estimators': 275}. Best is trial 66 with value: 0.7183244250578524.\n",
      "[I 2024-12-23 14:56:41,721] Trial 123 finished with value: 0.7082355470909871 and parameters: {'num_leaves': 116, 'learning_rate': 0.018090961034740862, 'max_depth': 4, 'n_estimators': 258}. Best is trial 66 with value: 0.7183244250578524.\n",
      "[I 2024-12-23 14:56:41,853] Trial 124 finished with value: 0.7137579489457093 and parameters: {'num_leaves': 113, 'learning_rate': 0.011669684189751705, 'max_depth': 3, 'n_estimators': 226}. Best is trial 66 with value: 0.7183244250578524.\n",
      "[I 2024-12-23 14:56:42,141] Trial 125 finished with value: 0.7036500722742159 and parameters: {'num_leaves': 122, 'learning_rate': 0.013845722507512889, 'max_depth': 5, 'n_estimators': 290}. Best is trial 66 with value: 0.7183244250578524.\n",
      "[I 2024-12-23 14:56:42,318] Trial 126 finished with value: 0.7015726695756163 and parameters: {'num_leaves': 105, 'learning_rate': 0.02054036892740512, 'max_depth': 3, 'n_estimators': 337}. Best is trial 66 with value: 0.7183244250578524.\n",
      "[I 2024-12-23 14:56:42,576] Trial 127 finished with value: 0.700766986066008 and parameters: {'num_leaves': 132, 'learning_rate': 0.016733782966744132, 'max_depth': 5, 'n_estimators': 303}. Best is trial 66 with value: 0.7183244250578524.\n",
      "[I 2024-12-23 14:56:42,728] Trial 128 finished with value: 0.7164334110103853 and parameters: {'num_leaves': 127, 'learning_rate': 0.014545436454228807, 'max_depth': 3, 'n_estimators': 240}. Best is trial 66 with value: 0.7183244250578524.\n",
      "[I 2024-12-23 14:56:42,877] Trial 129 finished with value: 0.7164334110103853 and parameters: {'num_leaves': 126, 'learning_rate': 0.011412608971448643, 'max_depth': 3, 'n_estimators': 245}. Best is trial 66 with value: 0.7183244250578524.\n",
      "[I 2024-12-23 14:56:43,038] Trial 130 finished with value: 0.7117002583116361 and parameters: {'num_leaves': 126, 'learning_rate': 0.019108480028653615, 'max_depth': 3, 'n_estimators': 249}. Best is trial 66 with value: 0.7183244250578524.\n",
      "[I 2024-12-23 14:56:43,192] Trial 131 finished with value: 0.7140629839733383 and parameters: {'num_leaves': 119, 'learning_rate': 0.011878917258718645, 'max_depth': 3, 'n_estimators': 274}. Best is trial 66 with value: 0.7183244250578524.\n",
      "[I 2024-12-23 14:56:43,394] Trial 132 finished with value: 0.7164334110103853 and parameters: {'num_leaves': 128, 'learning_rate': 0.01043759136630154, 'max_depth': 3, 'n_estimators': 323}. Best is trial 66 with value: 0.7183244250578524.\n",
      "[I 2024-12-23 14:56:43,552] Trial 133 finished with value: 0.7188118872814561 and parameters: {'num_leaves': 127, 'learning_rate': 0.010494446482430695, 'max_depth': 3, 'n_estimators': 324}. Best is trial 133 with value: 0.7188118872814561.\n",
      "[I 2024-12-23 14:56:43,746] Trial 134 finished with value: 0.7084483742485115 and parameters: {'num_leaves': 134, 'learning_rate': 0.015704502717925208, 'max_depth': 3, 'n_estimators': 394}. Best is trial 133 with value: 0.7188118872814561.\n",
      "[I 2024-12-23 14:56:43,950] Trial 135 finished with value: 0.7164334110103853 and parameters: {'num_leaves': 127, 'learning_rate': 0.011919592403670961, 'max_depth': 3, 'n_estimators': 345}. Best is trial 133 with value: 0.7188118872814561.\n",
      "[I 2024-12-23 14:56:44,169] Trial 136 finished with value: 0.716764052679646 and parameters: {'num_leaves': 131, 'learning_rate': 0.014468330857147412, 'max_depth': 3, 'n_estimators': 315}. Best is trial 133 with value: 0.7188118872814561.\n",
      "[I 2024-12-23 14:56:44,388] Trial 137 finished with value: 0.7105161010191311 and parameters: {'num_leaves': 132, 'learning_rate': 0.014134510476958788, 'max_depth': 4, 'n_estimators': 307}. Best is trial 133 with value: 0.7188118872814561.\n",
      "[I 2024-12-23 14:56:44,573] Trial 138 finished with value: 0.7090027368541849 and parameters: {'num_leaves': 123, 'learning_rate': 0.0166070940530443, 'max_depth': 3, 'n_estimators': 366}. Best is trial 133 with value: 0.7188118872814561.\n",
      "[I 2024-12-23 14:56:44,750] Trial 139 finished with value: 0.7063194868054847 and parameters: {'num_leaves': 94, 'learning_rate': 0.018210758234208282, 'max_depth': 3, 'n_estimators': 336}. Best is trial 133 with value: 0.7188118872814561.\n",
      "[I 2024-12-23 14:56:44,939] Trial 140 finished with value: 0.7140629839733383 and parameters: {'num_leaves': 131, 'learning_rate': 0.0101050176187907, 'max_depth': 3, 'n_estimators': 385}. Best is trial 133 with value: 0.7188118872814561.\n",
      "[I 2024-12-23 14:56:45,139] Trial 141 finished with value: 0.7140629839733383 and parameters: {'num_leaves': 120, 'learning_rate': 0.012892807091489053, 'max_depth': 3, 'n_estimators': 317}. Best is trial 133 with value: 0.7188118872814561.\n",
      "[I 2024-12-23 14:56:45,372] Trial 142 finished with value: 0.7080653016050115 and parameters: {'num_leaves': 135, 'learning_rate': 0.010000627148985215, 'max_depth': 4, 'n_estimators': 267}. Best is trial 133 with value: 0.7188118872814561.\n",
      "[I 2024-12-23 14:56:45,560] Trial 143 finished with value: 0.7164334110103853 and parameters: {'num_leaves': 124, 'learning_rate': 0.015132040285536018, 'max_depth': 3, 'n_estimators': 356}. Best is trial 133 with value: 0.7188118872814561.\n",
      "[I 2024-12-23 14:56:45,790] Trial 144 finished with value: 0.6988822426158787 and parameters: {'num_leaves': 117, 'learning_rate': 0.012288453335100065, 'max_depth': 3, 'n_estimators': 538}. Best is trial 133 with value: 0.7188118872814561.\n",
      "[I 2024-12-23 14:56:45,942] Trial 145 finished with value: 0.7164334110103853 and parameters: {'num_leaves': 145, 'learning_rate': 0.014337679547383915, 'max_depth': 3, 'n_estimators': 211}. Best is trial 133 with value: 0.7188118872814561.\n",
      "[I 2024-12-23 14:56:46,101] Trial 146 finished with value: 0.7087040106099626 and parameters: {'num_leaves': 128, 'learning_rate': 0.021074069206096373, 'max_depth': 3, 'n_estimators': 289}. Best is trial 133 with value: 0.7188118872814561.\n",
      "[I 2024-12-23 14:56:46,875] Trial 147 finished with value: 0.6778178781570734 and parameters: {'num_leaves': 104, 'learning_rate': 0.01626789357410708, 'max_depth': 4, 'n_estimators': 877}. Best is trial 133 with value: 0.7188118872814561.\n",
      "[I 2024-12-23 14:56:47,098] Trial 148 finished with value: 0.7164334110103853 and parameters: {'num_leaves': 123, 'learning_rate': 0.012860855476154046, 'max_depth': 3, 'n_estimators': 251}. Best is trial 133 with value: 0.7188118872814561.\n",
      "[I 2024-12-23 14:56:47,378] Trial 149 finished with value: 0.6965088752076063 and parameters: {'num_leaves': 67, 'learning_rate': 0.02427326875570833, 'max_depth': 4, 'n_estimators': 329}. Best is trial 133 with value: 0.7188118872814561.\n",
      "[I 2024-12-23 14:56:47,578] Trial 150 finished with value: 0.7066364639436261 and parameters: {'num_leaves': 107, 'learning_rate': 0.01801666930823016, 'max_depth': 3, 'n_estimators': 306}. Best is trial 133 with value: 0.7188118872814561.\n",
      "[I 2024-12-23 14:56:47,846] Trial 151 finished with value: 0.7164334110103853 and parameters: {'num_leaves': 128, 'learning_rate': 0.01127435438939971, 'max_depth': 3, 'n_estimators': 328}. Best is trial 133 with value: 0.7188118872814561.\n",
      "[I 2024-12-23 14:56:48,058] Trial 152 finished with value: 0.6559985202635268 and parameters: {'num_leaves': 131, 'learning_rate': 0.07608906993865144, 'max_depth': 3, 'n_estimators': 405}. Best is trial 133 with value: 0.7188118872814561.\n",
      "[I 2024-12-23 14:56:48,302] Trial 153 finished with value: 0.7140629839733383 and parameters: {'num_leaves': 125, 'learning_rate': 0.010026670060067347, 'max_depth': 3, 'n_estimators': 351}. Best is trial 133 with value: 0.7188118872814561.\n",
      "[I 2024-12-23 14:56:48,607] Trial 154 finished with value: 0.7131065388463345 and parameters: {'num_leaves': 138, 'learning_rate': 0.014107222581678345, 'max_depth': 4, 'n_estimators': 315}. Best is trial 133 with value: 0.7188118872814561.\n",
      "[I 2024-12-23 14:56:48,873] Trial 155 finished with value: 0.7140629839733383 and parameters: {'num_leaves': 120, 'learning_rate': 0.011566179663713436, 'max_depth': 3, 'n_estimators': 275}. Best is trial 133 with value: 0.7188118872814561.\n",
      "[I 2024-12-23 14:56:49,082] Trial 156 finished with value: 0.7140629839733383 and parameters: {'num_leaves': 98, 'learning_rate': 0.01609627856798597, 'max_depth': 3, 'n_estimators': 235}. Best is trial 133 with value: 0.7188118872814561.\n",
      "[I 2024-12-23 14:56:49,429] Trial 157 finished with value: 0.7033997032152535 and parameters: {'num_leaves': 116, 'learning_rate': 0.013499466316441291, 'max_depth': 4, 'n_estimators': 303}. Best is trial 133 with value: 0.7188118872814561.\n",
      "[I 2024-12-23 14:56:49,725] Trial 158 finished with value: 0.7137579489457093 and parameters: {'num_leaves': 111, 'learning_rate': 0.01158481743245034, 'max_depth': 3, 'n_estimators': 432}. Best is trial 133 with value: 0.7188118872814561.\n",
      "[I 2024-12-23 14:56:50,107] Trial 159 finished with value: 0.7188118872814561 and parameters: {'num_leaves': 102, 'learning_rate': 0.010043294255466916, 'max_depth': 3, 'n_estimators': 372}. Best is trial 133 with value: 0.7188118872814561.\n",
      "[I 2024-12-23 14:56:50,605] Trial 160 finished with value: 0.7005810494281632 and parameters: {'num_leaves': 102, 'learning_rate': 0.014910300831189823, 'max_depth': 4, 'n_estimators': 345}. Best is trial 133 with value: 0.7188118872814561.\n",
      "[I 2024-12-23 14:56:50,912] Trial 161 finished with value: 0.7188118872814561 and parameters: {'num_leaves': 95, 'learning_rate': 0.010306262513370648, 'max_depth': 3, 'n_estimators': 374}. Best is trial 133 with value: 0.7188118872814561.\n",
      "[I 2024-12-23 14:56:51,294] Trial 162 finished with value: 0.7117002583116361 and parameters: {'num_leaves': 92, 'learning_rate': 0.013117631189284927, 'max_depth': 3, 'n_estimators': 384}. Best is trial 133 with value: 0.7188118872814561.\n",
      "[I 2024-12-23 14:56:51,728] Trial 163 finished with value: 0.7144124925510423 and parameters: {'num_leaves': 95, 'learning_rate': 0.012098933710085642, 'max_depth': 3, 'n_estimators': 369}. Best is trial 133 with value: 0.7188118872814561.\n",
      "[I 2024-12-23 14:56:52,299] Trial 164 finished with value: 0.6786412541392658 and parameters: {'num_leaves': 101, 'learning_rate': 0.0173014803461567, 'max_depth': 3, 'n_estimators': 636}. Best is trial 133 with value: 0.7188118872814561.\n",
      "[I 2024-12-23 14:56:52,674] Trial 165 finished with value: 0.7164334110103853 and parameters: {'num_leaves': 88, 'learning_rate': 0.010276614630162663, 'max_depth': 3, 'n_estimators': 415}. Best is trial 133 with value: 0.7188118872814561.\n",
      "[I 2024-12-23 14:56:52,984] Trial 166 finished with value: 0.6858405378556512 and parameters: {'num_leaves': 98, 'learning_rate': 0.01970923115441693, 'max_depth': 4, 'n_estimators': 376}. Best is trial 133 with value: 0.7188118872814561.\n",
      "[I 2024-12-23 14:56:53,197] Trial 167 finished with value: 0.7188118872814561 and parameters: {'num_leaves': 102, 'learning_rate': 0.01494043483741958, 'max_depth': 3, 'n_estimators': 362}. Best is trial 133 with value: 0.7188118872814561.\n",
      "[I 2024-12-23 14:56:53,391] Trial 168 finished with value: 0.7164334110103853 and parameters: {'num_leaves': 104, 'learning_rate': 0.015055291478321527, 'max_depth': 3, 'n_estimators': 355}. Best is trial 133 with value: 0.7188118872814561.\n",
      "[I 2024-12-23 14:56:53,695] Trial 169 finished with value: 0.7031911081075546 and parameters: {'num_leaves': 90, 'learning_rate': 0.013900109874608949, 'max_depth': 4, 'n_estimators': 341}. Best is trial 133 with value: 0.7188118872814561.\n",
      "[I 2024-12-23 14:56:53,993] Trial 170 finished with value: 0.7012625247030344 and parameters: {'num_leaves': 108, 'learning_rate': 0.016971427665196367, 'max_depth': 3, 'n_estimators': 462}. Best is trial 133 with value: 0.7188118872814561.\n",
      "[I 2024-12-23 14:56:54,307] Trial 171 finished with value: 0.7164334110103853 and parameters: {'num_leaves': 96, 'learning_rate': 0.012568495078198115, 'max_depth': 3, 'n_estimators': 398}. Best is trial 133 with value: 0.7188118872814561.\n",
      "[I 2024-12-23 14:56:54,540] Trial 172 finished with value: 0.7164334110103853 and parameters: {'num_leaves': 105, 'learning_rate': 0.010113181795270352, 'max_depth': 3, 'n_estimators': 286}. Best is trial 133 with value: 0.7188118872814561.\n",
      "[I 2024-12-23 14:56:54,773] Trial 173 finished with value: 0.7117002583116361 and parameters: {'num_leaves': 100, 'learning_rate': 0.015364294757969223, 'max_depth': 3, 'n_estimators': 321}. Best is trial 133 with value: 0.7188118872814561.\n",
      "[I 2024-12-23 14:56:54,970] Trial 174 finished with value: 0.7164334110103853 and parameters: {'num_leaves': 102, 'learning_rate': 0.012614891695426868, 'max_depth': 3, 'n_estimators': 266}. Best is trial 133 with value: 0.7188118872814561.\n",
      "[I 2024-12-23 14:56:55,185] Trial 175 finished with value: 0.7164334110103853 and parameters: {'num_leaves': 114, 'learning_rate': 0.014078831951648264, 'max_depth': 3, 'n_estimators': 364}. Best is trial 133 with value: 0.7188118872814561.\n",
      "[I 2024-12-23 14:56:55,465] Trial 176 finished with value: 0.7012625247030344 and parameters: {'num_leaves': 110, 'learning_rate': 0.01839848015550084, 'max_depth': 3, 'n_estimators': 441}. Best is trial 133 with value: 0.7188118872814561.\n",
      "[I 2024-12-23 14:56:55,843] Trial 177 finished with value: 0.6908917127745842 and parameters: {'num_leaves': 122, 'learning_rate': 0.01158302051712266, 'max_depth': 4, 'n_estimators': 508}. Best is trial 133 with value: 0.7188118872814561.\n",
      "[I 2024-12-23 14:56:56,029] Trial 178 finished with value: 0.7140629839733383 and parameters: {'num_leaves': 107, 'learning_rate': 0.016210285060466716, 'max_depth': 3, 'n_estimators': 335}. Best is trial 133 with value: 0.7188118872814561.\n",
      "[I 2024-12-23 14:56:56,209] Trial 179 finished with value: 0.6965088752076063 and parameters: {'num_leaves': 118, 'learning_rate': 0.022286595020214697, 'max_depth': 3, 'n_estimators': 294}. Best is trial 133 with value: 0.7188118872814561.\n",
      "[I 2024-12-23 14:56:56,526] Trial 180 finished with value: 0.7031911081075546 and parameters: {'num_leaves': 98, 'learning_rate': 0.013471041445154985, 'max_depth': 4, 'n_estimators': 383}. Best is trial 133 with value: 0.7188118872814561.\n",
      "[I 2024-12-23 14:56:56,740] Trial 181 finished with value: 0.7140629839733383 and parameters: {'num_leaves': 127, 'learning_rate': 0.011224629140675603, 'max_depth': 3, 'n_estimators': 327}. Best is trial 133 with value: 0.7188118872814561.\n",
      "[I 2024-12-23 14:56:56,963] Trial 182 finished with value: 0.7188118872814561 and parameters: {'num_leaves': 130, 'learning_rate': 0.010775274134351783, 'max_depth': 3, 'n_estimators': 310}. Best is trial 133 with value: 0.7188118872814561.\n",
      "[I 2024-12-23 14:56:57,187] Trial 183 finished with value: 0.7140629839733383 and parameters: {'num_leaves': 130, 'learning_rate': 0.011603939591811042, 'max_depth': 3, 'n_estimators': 310}. Best is trial 133 with value: 0.7188118872814561.\n",
      "[I 2024-12-23 14:56:57,423] Trial 184 finished with value: 0.7113764489079352 and parameters: {'num_leaves': 104, 'learning_rate': 0.014947356691993385, 'max_depth': 3, 'n_estimators': 352}. Best is trial 133 with value: 0.7188118872814561.\n",
      "[I 2024-12-23 14:56:57,607] Trial 185 finished with value: 0.7140629839733383 and parameters: {'num_leaves': 94, 'learning_rate': 0.013173738491436304, 'max_depth': 3, 'n_estimators': 259}. Best is trial 133 with value: 0.7188118872814561.\n",
      "[I 2024-12-23 14:56:57,792] Trial 186 finished with value: 0.6685207599009593 and parameters: {'num_leaves': 136, 'learning_rate': 0.06369418667916998, 'max_depth': 3, 'n_estimators': 283}. Best is trial 133 with value: 0.7188118872814561.\n",
      "[I 2024-12-23 14:56:57,956] Trial 187 finished with value: 0.71327998607442 and parameters: {'num_leaves': 101, 'learning_rate': 0.010341974982014349, 'max_depth': 3, 'n_estimators': 220}. Best is trial 133 with value: 0.7188118872814561.\n",
      "[I 2024-12-23 14:56:58,241] Trial 188 finished with value: 0.6906741341845983 and parameters: {'num_leaves': 126, 'learning_rate': 0.016921978377562197, 'max_depth': 4, 'n_estimators': 368}. Best is trial 133 with value: 0.7188118872814561.\n",
      "[I 2024-12-23 14:56:59,041] Trial 189 finished with value: 0.6661261089995466 and parameters: {'num_leaves': 133, 'learning_rate': 0.015020862970682752, 'max_depth': 15, 'n_estimators': 297}. Best is trial 133 with value: 0.7188118872814561.\n",
      "[I 2024-12-23 14:56:59,236] Trial 190 finished with value: 0.7060452375313835 and parameters: {'num_leaves': 122, 'learning_rate': 0.019485733410727967, 'max_depth': 3, 'n_estimators': 339}. Best is trial 133 with value: 0.7188118872814561.\n",
      "[I 2024-12-23 14:56:59,422] Trial 191 finished with value: 0.7140629839733383 and parameters: {'num_leaves': 128, 'learning_rate': 0.01149495858142003, 'max_depth': 3, 'n_estimators': 322}. Best is trial 133 with value: 0.7188118872814561.\n",
      "[I 2024-12-23 14:56:59,625] Trial 192 finished with value: 0.7164334110103853 and parameters: {'num_leaves': 130, 'learning_rate': 0.010294802398034767, 'max_depth': 3, 'n_estimators': 311}. Best is trial 133 with value: 0.7188118872814561.\n",
      "[I 2024-12-23 14:56:59,830] Trial 193 finished with value: 0.7188118872814561 and parameters: {'num_leaves': 73, 'learning_rate': 0.010176348534697687, 'max_depth': 3, 'n_estimators': 355}. Best is trial 133 with value: 0.7188118872814561.\n",
      "[I 2024-12-23 14:57:00,022] Trial 194 finished with value: 0.7117002583116361 and parameters: {'num_leaves': 106, 'learning_rate': 0.013329374898399863, 'max_depth': 3, 'n_estimators': 356}. Best is trial 133 with value: 0.7188118872814561.\n",
      "[I 2024-12-23 14:57:00,192] Trial 195 finished with value: 0.7161475873692498 and parameters: {'num_leaves': 73, 'learning_rate': 0.010064627682158312, 'max_depth': 3, 'n_estimators': 241}. Best is trial 133 with value: 0.7188118872814561.\n",
      "[I 2024-12-23 14:57:00,400] Trial 196 finished with value: 0.7069965268598808 and parameters: {'num_leaves': 59, 'learning_rate': 0.012366028667606508, 'max_depth': 3, 'n_estimators': 374}. Best is trial 133 with value: 0.7188118872814561.\n",
      "[I 2024-12-23 14:57:00,751] Trial 197 finished with value: 0.6906741341845983 and parameters: {'num_leaves': 112, 'learning_rate': 0.013737480096201293, 'max_depth': 4, 'n_estimators': 402}. Best is trial 133 with value: 0.7188118872814561.\n",
      "[I 2024-12-23 14:57:00,926] Trial 198 finished with value: 0.7161475873692498 and parameters: {'num_leaves': 81, 'learning_rate': 0.015921048866950165, 'max_depth': 3, 'n_estimators': 276}. Best is trial 133 with value: 0.7188118872814561.\n",
      "[I 2024-12-23 14:57:01,105] Trial 199 finished with value: 0.7140629839733383 and parameters: {'num_leaves': 125, 'learning_rate': 0.012111018479968413, 'max_depth': 3, 'n_estimators': 325}. Best is trial 133 with value: 0.7188118872814561.\n",
      "[I 2024-12-23 14:57:01,296] Trial 200 finished with value: 0.7191232310924914 and parameters: {'num_leaves': 99, 'learning_rate': 0.014390766527366873, 'max_depth': 3, 'n_estimators': 345}. Best is trial 200 with value: 0.7191232310924914.\n",
      "[I 2024-12-23 14:57:01,505] Trial 201 finished with value: 0.7090027368541849 and parameters: {'num_leaves': 99, 'learning_rate': 0.014476008099420935, 'max_depth': 3, 'n_estimators': 340}. Best is trial 200 with value: 0.7191232310924914.\n",
      "[I 2024-12-23 14:57:01,705] Trial 202 finished with value: 0.7164334110103853 and parameters: {'num_leaves': 103, 'learning_rate': 0.012059745759901628, 'max_depth': 3, 'n_estimators': 352}. Best is trial 200 with value: 0.7191232310924914.\n",
      "[I 2024-12-23 14:57:01,932] Trial 203 finished with value: 0.6914450808395962 and parameters: {'num_leaves': 96, 'learning_rate': 0.017912493197372002, 'max_depth': 3, 'n_estimators': 389}. Best is trial 200 with value: 0.7191232310924914.\n",
      "[I 2024-12-23 14:57:02,123] Trial 204 finished with value: 0.7188118872814561 and parameters: {'num_leaves': 102, 'learning_rate': 0.015576738670876252, 'max_depth': 3, 'n_estimators': 302}. Best is trial 200 with value: 0.7191232310924914.\n",
      "[I 2024-12-23 14:57:02,334] Trial 205 finished with value: 0.7113764489079352 and parameters: {'num_leaves': 102, 'learning_rate': 0.015842640589821287, 'max_depth': 3, 'n_estimators': 362}. Best is trial 200 with value: 0.7191232310924914.\n",
      "[I 2024-12-23 14:57:02,595] Trial 206 finished with value: 0.7108598379474175 and parameters: {'num_leaves': 108, 'learning_rate': 0.014438181337201695, 'max_depth': 4, 'n_estimators': 304}. Best is trial 200 with value: 0.7191232310924914.\n",
      "[I 2024-12-23 14:57:02,810] Trial 207 finished with value: 0.7084483742485115 and parameters: {'num_leaves': 99, 'learning_rate': 0.017428757986077882, 'max_depth': 3, 'n_estimators': 331}. Best is trial 200 with value: 0.7191232310924914.\n",
      "[I 2024-12-23 14:57:02,995] Trial 208 finished with value: 0.7188118872814561 and parameters: {'num_leaves': 91, 'learning_rate': 0.010065500515156438, 'max_depth': 3, 'n_estimators': 307}. Best is trial 200 with value: 0.7191232310924914.\n",
      "[I 2024-12-23 14:57:03,185] Trial 209 finished with value: 0.7164334110103853 and parameters: {'num_leaves': 92, 'learning_rate': 0.01269037007206136, 'max_depth': 3, 'n_estimators': 314}. Best is trial 200 with value: 0.7191232310924914.\n",
      "[I 2024-12-23 14:57:03,377] Trial 210 finished with value: 0.7140629839733383 and parameters: {'num_leaves': 89, 'learning_rate': 0.011326981283181815, 'max_depth': 3, 'n_estimators': 340}. Best is trial 200 with value: 0.7191232310924914.\n",
      "[I 2024-12-23 14:57:03,552] Trial 211 finished with value: 0.7191232310924914 and parameters: {'num_leaves': 96, 'learning_rate': 0.013755455256016708, 'max_depth': 3, 'n_estimators': 301}. Best is trial 200 with value: 0.7191232310924914.\n",
      "[I 2024-12-23 14:57:03,730] Trial 212 finished with value: 0.7188118872814561 and parameters: {'num_leaves': 94, 'learning_rate': 0.010211754334657973, 'max_depth': 3, 'n_estimators': 302}. Best is trial 200 with value: 0.7191232310924914.\n",
      "[I 2024-12-23 14:57:03,920] Trial 213 finished with value: 0.7164334110103853 and parameters: {'num_leaves': 94, 'learning_rate': 0.01004622715116034, 'max_depth': 3, 'n_estimators': 313}. Best is trial 200 with value: 0.7191232310924914.\n",
      "[I 2024-12-23 14:57:04,124] Trial 214 finished with value: 0.7188118872814561 and parameters: {'num_leaves': 92, 'learning_rate': 0.01261989781889016, 'max_depth': 3, 'n_estimators': 297}. Best is trial 200 with value: 0.7191232310924914.\n",
      "[I 2024-12-23 14:57:04,314] Trial 215 finished with value: 0.7140629839733383 and parameters: {'num_leaves': 84, 'learning_rate': 0.010054043264298991, 'max_depth': 3, 'n_estimators': 294}. Best is trial 200 with value: 0.7191232310924914.\n",
      "[I 2024-12-23 14:57:04,600] Trial 216 finished with value: 0.7106664685947205 and parameters: {'num_leaves': 92, 'learning_rate': 0.012843253789059185, 'max_depth': 4, 'n_estimators': 373}. Best is trial 200 with value: 0.7191232310924914.\n",
      "[I 2024-12-23 14:57:04,810] Trial 217 finished with value: 0.7144124925510423 and parameters: {'num_leaves': 96, 'learning_rate': 0.012092819002827573, 'max_depth': 3, 'n_estimators': 350}. Best is trial 200 with value: 0.7191232310924914.\n",
      "[I 2024-12-23 14:57:05,028] Trial 218 finished with value: 0.7164334110103853 and parameters: {'num_leaves': 90, 'learning_rate': 0.013471480365618016, 'max_depth': 3, 'n_estimators': 298}. Best is trial 200 with value: 0.7191232310924914.\n",
      "[I 2024-12-23 14:57:05,246] Trial 219 finished with value: 0.7140629839733383 and parameters: {'num_leaves': 94, 'learning_rate': 0.011587767139071644, 'max_depth': 3, 'n_estimators': 330}. Best is trial 200 with value: 0.7191232310924914.\n",
      "[I 2024-12-23 14:57:05,482] Trial 220 finished with value: 0.7155561225566461 and parameters: {'num_leaves': 98, 'learning_rate': 0.013424161403593407, 'max_depth': 4, 'n_estimators': 272}. Best is trial 200 with value: 0.7191232310924914.\n",
      "[I 2024-12-23 14:57:05,675] Trial 221 finished with value: 0.7164334110103853 and parameters: {'num_leaves': 87, 'learning_rate': 0.010044181935442584, 'max_depth': 3, 'n_estimators': 315}. Best is trial 200 with value: 0.7191232310924914.\n",
      "[I 2024-12-23 14:57:05,882] Trial 222 finished with value: 0.7137579489457093 and parameters: {'num_leaves': 101, 'learning_rate': 0.015423357824092586, 'max_depth': 3, 'n_estimators': 345}. Best is trial 200 with value: 0.7191232310924914.\n",
      "[I 2024-12-23 14:57:06,057] Trial 223 finished with value: 0.6718356906386604 and parameters: {'num_leaves': 96, 'learning_rate': 0.05495067671666809, 'max_depth': 3, 'n_estimators': 299}. Best is trial 200 with value: 0.7191232310924914.\n",
      "[I 2024-12-23 14:57:06,255] Trial 224 finished with value: 0.716764052679646 and parameters: {'num_leaves': 105, 'learning_rate': 0.011930951425270299, 'max_depth': 3, 'n_estimators': 326}. Best is trial 200 with value: 0.7191232310924914.\n",
      "[I 2024-12-23 14:57:06,493] Trial 225 finished with value: 0.7093448876370698 and parameters: {'num_leaves': 98, 'learning_rate': 0.012237117845888008, 'max_depth': 3, 'n_estimators': 364}. Best is trial 200 with value: 0.7191232310924914.\n",
      "[I 2024-12-23 14:57:06,720] Trial 226 finished with value: 0.7164334110103853 and parameters: {'num_leaves': 91, 'learning_rate': 0.010283358329338708, 'max_depth': 3, 'n_estimators': 337}. Best is trial 200 with value: 0.7191232310924914.\n",
      "[I 2024-12-23 14:57:06,935] Trial 227 finished with value: 0.6792747291370688 and parameters: {'num_leaves': 100, 'learning_rate': 0.045166939650503224, 'max_depth': 3, 'n_estimators': 385}. Best is trial 200 with value: 0.7191232310924914.\n",
      "[I 2024-12-23 14:57:07,352] Trial 228 finished with value: 0.6786412541392658 and parameters: {'num_leaves': 105, 'learning_rate': 0.013672859941348751, 'max_depth': 3, 'n_estimators': 773}. Best is trial 200 with value: 0.7191232310924914.\n",
      "[I 2024-12-23 14:57:07,580] Trial 229 finished with value: 0.6759777141907827 and parameters: {'num_leaves': 94, 'learning_rate': 0.03636676965939628, 'max_depth': 3, 'n_estimators': 415}. Best is trial 200 with value: 0.7191232310924914.\n",
      "[I 2024-12-23 14:57:07,858] Trial 230 finished with value: 0.7154469434464065 and parameters: {'num_leaves': 102, 'learning_rate': 0.011829065587135916, 'max_depth': 4, 'n_estimators': 310}. Best is trial 200 with value: 0.7191232310924914.\n",
      "[I 2024-12-23 14:57:08,055] Trial 231 finished with value: 0.7191232310924914 and parameters: {'num_leaves': 103, 'learning_rate': 0.01549955563785749, 'max_depth': 3, 'n_estimators': 326}. Best is trial 200 with value: 0.7191232310924914.\n",
      "[I 2024-12-23 14:57:08,256] Trial 232 finished with value: 0.7140629839733383 and parameters: {'num_leaves': 104, 'learning_rate': 0.014183265239935256, 'max_depth': 3, 'n_estimators': 326}. Best is trial 200 with value: 0.7191232310924914.\n",
      "[I 2024-12-23 14:57:08,431] Trial 233 finished with value: 0.7164334110103853 and parameters: {'num_leaves': 97, 'learning_rate': 0.011864611393739292, 'max_depth': 3, 'n_estimators': 282}. Best is trial 200 with value: 0.7191232310924914.\n",
      "[I 2024-12-23 14:57:08,638] Trial 234 finished with value: 0.7039424897350318 and parameters: {'num_leaves': 101, 'learning_rate': 0.016240986926076898, 'max_depth': 3, 'n_estimators': 360}. Best is trial 200 with value: 0.7191232310924914.\n",
      "[I 2024-12-23 14:57:08,833] Trial 235 finished with value: 0.7140629839733383 and parameters: {'num_leaves': 105, 'learning_rate': 0.010213389266150225, 'max_depth': 3, 'n_estimators': 336}. Best is trial 200 with value: 0.7191232310924914.\n",
      "[I 2024-12-23 14:57:08,948] Trial 236 finished with value: 0.7108598379474175 and parameters: {'num_leaves': 108, 'learning_rate': 0.013438836698324328, 'max_depth': 3, 'n_estimators': 114}. Best is trial 200 with value: 0.7191232310924914.\n",
      "[I 2024-12-23 14:57:09,118] Trial 237 finished with value: 0.716764052679646 and parameters: {'num_leaves': 100, 'learning_rate': 0.01523778967238613, 'max_depth': 3, 'n_estimators': 289}. Best is trial 200 with value: 0.7191232310924914.\n",
      "[I 2024-12-23 14:57:09,855] Trial 238 finished with value: 0.6911486004981339 and parameters: {'num_leaves': 99, 'learning_rate': 0.012006952094597012, 'max_depth': 13, 'n_estimators': 313}. Best is trial 200 with value: 0.7191232310924914.\n",
      "[I 2024-12-23 14:57:12,254] Trial 239 finished with value: 0.672627332109465 and parameters: {'num_leaves': 101, 'learning_rate': 0.01646304437450869, 'max_depth': 14, 'n_estimators': 998}. Best is trial 200 with value: 0.7191232310924914.\n",
      "[I 2024-12-23 14:57:12,455] Trial 240 finished with value: 0.7012625247030344 and parameters: {'num_leaves': 95, 'learning_rate': 0.01804770161472299, 'max_depth': 3, 'n_estimators': 355}. Best is trial 200 with value: 0.7191232310924914.\n",
      "[I 2024-12-23 14:57:12,611] Trial 241 finished with value: 0.7164334110103853 and parameters: {'num_leaves': 103, 'learning_rate': 0.014535359024812318, 'max_depth': 3, 'n_estimators': 292}. Best is trial 200 with value: 0.7191232310924914.\n",
      "[I 2024-12-23 14:57:12,796] Trial 242 finished with value: 0.7191232310924914 and parameters: {'num_leaves': 97, 'learning_rate': 0.013050760876193697, 'max_depth': 3, 'n_estimators': 303}. Best is trial 200 with value: 0.7191232310924914.\n",
      "[I 2024-12-23 14:57:12,995] Trial 243 finished with value: 0.7164334110103853 and parameters: {'num_leaves': 98, 'learning_rate': 0.010098518097493733, 'max_depth': 3, 'n_estimators': 325}. Best is trial 200 with value: 0.7191232310924914.\n",
      "[I 2024-12-23 14:57:13,194] Trial 244 finished with value: 0.716764052679646 and parameters: {'num_leaves': 93, 'learning_rate': 0.012977334610889187, 'max_depth': 3, 'n_estimators': 345}. Best is trial 200 with value: 0.7191232310924914.\n",
      "[I 2024-12-23 14:57:13,377] Trial 245 finished with value: 0.7191232310924914 and parameters: {'num_leaves': 92, 'learning_rate': 0.012822092138926898, 'max_depth': 3, 'n_estimators': 344}. Best is trial 200 with value: 0.7191232310924914.\n",
      "[I 2024-12-23 14:57:13,579] Trial 246 finished with value: 0.7140629839733383 and parameters: {'num_leaves': 92, 'learning_rate': 0.012993295480069939, 'max_depth': 3, 'n_estimators': 346}. Best is trial 200 with value: 0.7191232310924914.\n",
      "[I 2024-12-23 14:57:13,780] Trial 247 finished with value: 0.6616744341513675 and parameters: {'num_leaves': 85, 'learning_rate': 0.09101095328933897, 'max_depth': 3, 'n_estimators': 336}. Best is trial 200 with value: 0.7191232310924914.\n",
      "[I 2024-12-23 14:57:13,964] Trial 248 finished with value: 0.7191232310924914 and parameters: {'num_leaves': 88, 'learning_rate': 0.012131801266890547, 'max_depth': 3, 'n_estimators': 312}. Best is trial 200 with value: 0.7191232310924914.\n",
      "[I 2024-12-23 14:57:14,160] Trial 249 finished with value: 0.7117002583116361 and parameters: {'num_leaves': 91, 'learning_rate': 0.015627581952128596, 'max_depth': 3, 'n_estimators': 309}. Best is trial 200 with value: 0.7191232310924914.\n",
      "[I 2024-12-23 14:57:14,340] Trial 250 finished with value: 0.7164334110103853 and parameters: {'num_leaves': 88, 'learning_rate': 0.01336593323571487, 'max_depth': 3, 'n_estimators': 270}. Best is trial 200 with value: 0.7191232310924914.\n",
      "[I 2024-12-23 14:57:14,561] Trial 251 finished with value: 0.7164334110103853 and parameters: {'num_leaves': 89, 'learning_rate': 0.01179251523585846, 'max_depth': 3, 'n_estimators': 321}. Best is trial 200 with value: 0.7191232310924914.\n",
      "[I 2024-12-23 14:57:14,921] Trial 252 finished with value: 0.7161475873692498 and parameters: {'num_leaves': 94, 'learning_rate': 0.01420040658251533, 'max_depth': 4, 'n_estimators': 291}. Best is trial 200 with value: 0.7191232310924914.\n",
      "[I 2024-12-23 14:57:15,152] Trial 253 finished with value: 0.7188118872814561 and parameters: {'num_leaves': 93, 'learning_rate': 0.01255062663468165, 'max_depth': 3, 'n_estimators': 307}. Best is trial 200 with value: 0.7191232310924914.\n",
      "[I 2024-12-23 14:57:15,339] Trial 254 finished with value: 0.716764052679646 and parameters: {'num_leaves': 93, 'learning_rate': 0.015374741471899548, 'max_depth': 3, 'n_estimators': 279}. Best is trial 200 with value: 0.7191232310924914.\n",
      "[I 2024-12-23 14:57:15,497] Trial 255 finished with value: 0.7188118872814561 and parameters: {'num_leaves': 93, 'learning_rate': 0.015956644192446814, 'max_depth': 3, 'n_estimators': 262}. Best is trial 200 with value: 0.7191232310924914.\n",
      "[I 2024-12-23 14:57:15,676] Trial 256 finished with value: 0.7140629839733383 and parameters: {'num_leaves': 85, 'learning_rate': 0.012923586068162284, 'max_depth': 3, 'n_estimators': 257}. Best is trial 200 with value: 0.7191232310924914.\n",
      "[I 2024-12-23 14:57:15,892] Trial 257 finished with value: 0.7137579489457093 and parameters: {'num_leaves': 90, 'learning_rate': 0.01759726123580281, 'max_depth': 3, 'n_estimators': 300}. Best is trial 200 with value: 0.7191232310924914.\n",
      "[I 2024-12-23 14:57:16,103] Trial 258 finished with value: 0.6933023611487377 and parameters: {'num_leaves': 87, 'learning_rate': 0.03339271045276497, 'max_depth': 4, 'n_estimators': 273}. Best is trial 200 with value: 0.7191232310924914.\n",
      "[I 2024-12-23 14:57:16,306] Trial 259 finished with value: 0.716764052679646 and parameters: {'num_leaves': 92, 'learning_rate': 0.012130274652505197, 'max_depth': 3, 'n_estimators': 289}. Best is trial 200 with value: 0.7191232310924914.\n",
      "[I 2024-12-23 14:57:16,482] Trial 260 finished with value: 0.7140629839733383 and parameters: {'num_leaves': 94, 'learning_rate': 0.016371105631806944, 'max_depth': 3, 'n_estimators': 310}. Best is trial 200 with value: 0.7191232310924914.\n",
      "[I 2024-12-23 14:57:16,670] Trial 261 finished with value: 0.7188118872814561 and parameters: {'num_leaves': 96, 'learning_rate': 0.013987262956553836, 'max_depth': 3, 'n_estimators': 301}. Best is trial 200 with value: 0.7191232310924914.\n",
      "[I 2024-12-23 14:57:16,837] Trial 262 finished with value: 0.7140629839733383 and parameters: {'num_leaves': 96, 'learning_rate': 0.014531482549342563, 'max_depth': 3, 'n_estimators': 264}. Best is trial 200 with value: 0.7191232310924914.\n",
      "[I 2024-12-23 14:57:17,085] Trial 263 finished with value: 0.7105161010191311 and parameters: {'num_leaves': 96, 'learning_rate': 0.011597184569450334, 'max_depth': 4, 'n_estimators': 288}. Best is trial 200 with value: 0.7191232310924914.\n",
      "[I 2024-12-23 14:57:17,276] Trial 264 finished with value: 0.7191232310924914 and parameters: {'num_leaves': 90, 'learning_rate': 0.014492592830471402, 'max_depth': 3, 'n_estimators': 307}. Best is trial 200 with value: 0.7191232310924914.\n",
      "[I 2024-12-23 14:57:17,482] Trial 265 finished with value: 0.716764052679646 and parameters: {'num_leaves': 89, 'learning_rate': 0.013729491226432614, 'max_depth': 3, 'n_estimators': 321}. Best is trial 200 with value: 0.7191232310924914.\n",
      "[I 2024-12-23 14:57:17,668] Trial 266 finished with value: 0.7117002583116361 and parameters: {'num_leaves': 91, 'learning_rate': 0.016938793091922446, 'max_depth': 3, 'n_estimators': 307}. Best is trial 200 with value: 0.7191232310924914.\n",
      "[I 2024-12-23 14:57:17,863] Trial 267 finished with value: 0.7140629839733383 and parameters: {'num_leaves': 82, 'learning_rate': 0.011723208568409332, 'max_depth': 3, 'n_estimators': 323}. Best is trial 200 with value: 0.7191232310924914.\n",
      "[I 2024-12-23 14:57:18,059] Trial 268 finished with value: 0.7080653016050115 and parameters: {'num_leaves': 86, 'learning_rate': 0.01333449084239171, 'max_depth': 4, 'n_estimators': 142}. Best is trial 200 with value: 0.7191232310924914.\n",
      "[I 2024-12-23 14:57:18,248] Trial 269 finished with value: 0.7012625247030344 and parameters: {'num_leaves': 65, 'learning_rate': 0.02033855218287638, 'max_depth': 3, 'n_estimators': 308}. Best is trial 200 with value: 0.7191232310924914.\n",
      "[I 2024-12-23 14:57:18,427] Trial 270 finished with value: 0.7164334110103853 and parameters: {'num_leaves': 88, 'learning_rate': 0.011335913990656218, 'max_depth': 3, 'n_estimators': 263}. Best is trial 200 with value: 0.7191232310924914.\n",
      "[I 2024-12-23 14:57:18,609] Trial 271 finished with value: 0.716764052679646 and parameters: {'num_leaves': 53, 'learning_rate': 0.015077566701969794, 'max_depth': 3, 'n_estimators': 299}. Best is trial 200 with value: 0.7191232310924914.\n",
      "[I 2024-12-23 14:57:18,985] Trial 272 finished with value: 0.6733264422597354 and parameters: {'num_leaves': 95, 'learning_rate': 0.018790050580062365, 'max_depth': 6, 'n_estimators': 327}. Best is trial 200 with value: 0.7191232310924914.\n",
      "[I 2024-12-23 14:57:19,253] Trial 273 finished with value: 0.7105161010191311 and parameters: {'num_leaves': 90, 'learning_rate': 0.010091533883967573, 'max_depth': 4, 'n_estimators': 303}. Best is trial 200 with value: 0.7191232310924914.\n",
      "[I 2024-12-23 14:57:19,429] Trial 274 finished with value: 0.7188118872814561 and parameters: {'num_leaves': 98, 'learning_rate': 0.013287739001928357, 'max_depth': 3, 'n_estimators': 285}. Best is trial 200 with value: 0.7191232310924914.\n",
      "[I 2024-12-23 14:57:19,617] Trial 275 finished with value: 0.7137579489457093 and parameters: {'num_leaves': 98, 'learning_rate': 0.01618261554755999, 'max_depth': 3, 'n_estimators': 280}. Best is trial 200 with value: 0.7191232310924914.\n",
      "[I 2024-12-23 14:57:19,835] Trial 276 finished with value: 0.7188118872814561 and parameters: {'num_leaves': 96, 'learning_rate': 0.014214751294182777, 'max_depth': 3, 'n_estimators': 252}. Best is trial 200 with value: 0.7191232310924914.\n",
      "[I 2024-12-23 14:57:19,983] Trial 277 finished with value: 0.7140629839733383 and parameters: {'num_leaves': 95, 'learning_rate': 0.013686313120283395, 'max_depth': 3, 'n_estimators': 249}. Best is trial 200 with value: 0.7191232310924914.\n",
      "[I 2024-12-23 14:57:20,161] Trial 278 finished with value: 0.7171398866710996 and parameters: {'num_leaves': 93, 'learning_rate': 0.01705630025021389, 'max_depth': 3, 'n_estimators': 264}. Best is trial 200 with value: 0.7191232310924914.\n",
      "[I 2024-12-23 14:57:20,315] Trial 279 finished with value: 0.7137579489457093 and parameters: {'num_leaves': 97, 'learning_rate': 0.012947879424691324, 'max_depth': 3, 'n_estimators': 224}. Best is trial 200 with value: 0.7191232310924914.\n",
      "[I 2024-12-23 14:57:20,518] Trial 280 finished with value: 0.7178841309823678 and parameters: {'num_leaves': 92, 'learning_rate': 0.014594924110228263, 'max_depth': 4, 'n_estimators': 252}. Best is trial 200 with value: 0.7191232310924914.\n",
      "[I 2024-12-23 14:57:20,632] Trial 281 finished with value: 0.7082355470909871 and parameters: {'num_leaves': 97, 'learning_rate': 0.011645441066550754, 'max_depth': 3, 'n_estimators': 113}. Best is trial 200 with value: 0.7191232310924914.\n",
      "[I 2024-12-23 14:57:20,778] Trial 282 finished with value: 0.7113764489079352 and parameters: {'num_leaves': 90, 'learning_rate': 0.027828326590384724, 'max_depth': 3, 'n_estimators': 201}. Best is trial 200 with value: 0.7191232310924914.\n",
      "[I 2024-12-23 14:57:21,006] Trial 283 finished with value: 0.7180155870009947 and parameters: {'num_leaves': 99, 'learning_rate': 0.010104111634874052, 'max_depth': 4, 'n_estimators': 279}. Best is trial 200 with value: 0.7191232310924914.\n",
      "[I 2024-12-23 14:57:21,339] Trial 284 finished with value: 0.7090027368541849 and parameters: {'num_leaves': 99, 'learning_rate': 0.010214233854901314, 'max_depth': 3, 'n_estimators': 583}. Best is trial 200 with value: 0.7191232310924914.\n",
      "[I 2024-12-23 14:57:21,921] Trial 285 finished with value: 0.7106664685947205 and parameters: {'num_leaves': 95, 'learning_rate': 0.010108471391033269, 'max_depth': 7, 'n_estimators': 277}. Best is trial 200 with value: 0.7191232310924914.\n",
      "[I 2024-12-23 14:57:22,254] Trial 286 finished with value: 0.6962055626005841 and parameters: {'num_leaves': 84, 'learning_rate': 0.011912182220495034, 'max_depth': 3, 'n_estimators': 669}. Best is trial 200 with value: 0.7191232310924914.\n",
      "[I 2024-12-23 14:57:22,439] Trial 287 finished with value: 0.6762536977355664 and parameters: {'num_leaves': 149, 'learning_rate': 0.04218563623062904, 'max_depth': 3, 'n_estimators': 293}. Best is trial 200 with value: 0.7191232310924914.\n",
      "[I 2024-12-23 14:57:22,683] Trial 288 finished with value: 0.7154469434464065 and parameters: {'num_leaves': 92, 'learning_rate': 0.013028975540625761, 'max_depth': 4, 'n_estimators': 280}. Best is trial 200 with value: 0.7191232310924914.\n",
      "[I 2024-12-23 14:57:22,854] Trial 289 finished with value: 0.7117002583116361 and parameters: {'num_leaves': 98, 'learning_rate': 0.015638898448969894, 'max_depth': 3, 'n_estimators': 295}. Best is trial 200 with value: 0.7191232310924914.\n",
      "[I 2024-12-23 14:57:23,038] Trial 290 finished with value: 0.7188118872814561 and parameters: {'num_leaves': 87, 'learning_rate': 0.011717214890431107, 'max_depth': 3, 'n_estimators': 267}. Best is trial 200 with value: 0.7191232310924914.\n",
      "[I 2024-12-23 14:57:23,224] Trial 291 finished with value: 0.7164334110103853 and parameters: {'num_leaves': 86, 'learning_rate': 0.013489858791324276, 'max_depth': 3, 'n_estimators': 256}. Best is trial 200 with value: 0.7191232310924914.\n",
      "[I 2024-12-23 14:57:23,416] Trial 292 finished with value: 0.7012625247030344 and parameters: {'num_leaves': 89, 'learning_rate': 0.01827816752631164, 'max_depth': 3, 'n_estimators': 336}. Best is trial 200 with value: 0.7191232310924914.\n",
      "[I 2024-12-23 14:57:23,605] Trial 293 finished with value: 0.7140629839733383 and parameters: {'num_leaves': 87, 'learning_rate': 0.012069711329092398, 'max_depth': 3, 'n_estimators': 368}. Best is trial 200 with value: 0.7191232310924914.\n",
      "[I 2024-12-23 14:57:23,811] Trial 294 finished with value: 0.7090027368541849 and parameters: {'num_leaves': 83, 'learning_rate': 0.015272789560985, 'max_depth': 3, 'n_estimators': 310}. Best is trial 200 with value: 0.7191232310924914.\n",
      "[I 2024-12-23 14:57:23,988] Trial 295 finished with value: 0.7188118872814561 and parameters: {'num_leaves': 93, 'learning_rate': 0.013831108363185754, 'max_depth': 3, 'n_estimators': 175}. Best is trial 200 with value: 0.7191232310924914.\n",
      "[I 2024-12-23 14:57:24,191] Trial 296 finished with value: 0.7164334110103853 and parameters: {'num_leaves': 72, 'learning_rate': 0.014143897029153054, 'max_depth': 3, 'n_estimators': 235}. Best is trial 200 with value: 0.7191232310924914.\n",
      "[I 2024-12-23 14:57:24,362] Trial 297 finished with value: 0.7117002583116361 and parameters: {'num_leaves': 93, 'learning_rate': 0.01652185616081092, 'max_depth': 3, 'n_estimators': 181}. Best is trial 200 with value: 0.7191232310924914.\n",
      "[I 2024-12-23 14:57:24,602] Trial 298 finished with value: 0.7140629839733383 and parameters: {'num_leaves': 80, 'learning_rate': 0.011930713236894007, 'max_depth': 3, 'n_estimators': 270}. Best is trial 200 with value: 0.7191232310924914.\n",
      "[I 2024-12-23 14:57:24,790] Trial 299 finished with value: 0.7183244250578524 and parameters: {'num_leaves': 90, 'learning_rate': 0.013287555929319335, 'max_depth': 3, 'n_estimators': 163}. Best is trial 200 with value: 0.7191232310924914.\n",
      "[I 2024-12-23 14:57:25,010] Trial 300 finished with value: 0.7140629839733383 and parameters: {'num_leaves': 95, 'learning_rate': 0.014937816051705164, 'max_depth': 3, 'n_estimators': 303}. Best is trial 200 with value: 0.7191232310924914.\n",
      "[I 2024-12-23 14:57:25,256] Trial 301 finished with value: 0.716764052679646 and parameters: {'num_leaves': 92, 'learning_rate': 0.011857048703419262, 'max_depth': 3, 'n_estimators': 330}. Best is trial 200 with value: 0.7191232310924914.\n",
      "[I 2024-12-23 14:57:25,457] Trial 302 finished with value: 0.7191232310924914 and parameters: {'num_leaves': 87, 'learning_rate': 0.016922119521549133, 'max_depth': 3, 'n_estimators': 243}. Best is trial 200 with value: 0.7191232310924914.\n",
      "[I 2024-12-23 14:57:25,664] Trial 303 finished with value: 0.7117002583116361 and parameters: {'num_leaves': 75, 'learning_rate': 0.017240520414561374, 'max_depth': 3, 'n_estimators': 231}. Best is trial 200 with value: 0.7191232310924914.\n",
      "[I 2024-12-23 14:57:25,913] Trial 304 finished with value: 0.7164334110103853 and parameters: {'num_leaves': 87, 'learning_rate': 0.01586001245905156, 'max_depth': 3, 'n_estimators': 260}. Best is trial 200 with value: 0.7191232310924914.\n",
      "[I 2024-12-23 14:57:26,121] Trial 305 finished with value: 0.7140629839733383 and parameters: {'num_leaves': 89, 'learning_rate': 0.013633071616386182, 'max_depth': 3, 'n_estimators': 242}. Best is trial 200 with value: 0.7191232310924914.\n",
      "[I 2024-12-23 14:57:26,361] Trial 306 finished with value: 0.7161475873692498 and parameters: {'num_leaves': 85, 'learning_rate': 0.019193601550998564, 'max_depth': 3, 'n_estimators': 282}. Best is trial 200 with value: 0.7191232310924914.\n",
      "[I 2024-12-23 14:57:26,618] Trial 307 finished with value: 0.7140629839733383 and parameters: {'num_leaves': 94, 'learning_rate': 0.011855087421312293, 'max_depth': 3, 'n_estimators': 314}. Best is trial 200 with value: 0.7191232310924914.\n",
      "[I 2024-12-23 14:57:26,848] Trial 308 finished with value: 0.6733264422597354 and parameters: {'num_leaves': 91, 'learning_rate': 0.07591484095027855, 'max_depth': 3, 'n_estimators': 294}. Best is trial 200 with value: 0.7191232310924914.\n",
      "[I 2024-12-23 14:57:27,014] Trial 309 finished with value: 0.7188118872814561 and parameters: {'num_leaves': 80, 'learning_rate': 0.014188199770336215, 'max_depth': 3, 'n_estimators': 260}. Best is trial 200 with value: 0.7191232310924914.\n",
      "[I 2024-12-23 14:57:27,282] Trial 310 finished with value: 0.7180155870009947 and parameters: {'num_leaves': 96, 'learning_rate': 0.010079535643738483, 'max_depth': 4, 'n_estimators': 356}. Best is trial 200 with value: 0.7191232310924914.\n",
      "[I 2024-12-23 14:57:27,460] Trial 311 finished with value: 0.7140629839733383 and parameters: {'num_leaves': 87, 'learning_rate': 0.01763800725585133, 'max_depth': 3, 'n_estimators': 277}. Best is trial 200 with value: 0.7191232310924914.\n",
      "[I 2024-12-23 14:57:27,624] Trial 312 finished with value: 0.7164334110103853 and parameters: {'num_leaves': 92, 'learning_rate': 0.015749762710028002, 'max_depth': 3, 'n_estimators': 216}. Best is trial 200 with value: 0.7191232310924914.\n",
      "[I 2024-12-23 14:57:27,861] Trial 313 finished with value: 0.7117002583116361 and parameters: {'num_leaves': 96, 'learning_rate': 0.012921373916770083, 'max_depth': 3, 'n_estimators': 339}. Best is trial 200 with value: 0.7191232310924914.\n",
      "[I 2024-12-23 14:57:28,085] Trial 314 finished with value: 0.7164334110103853 and parameters: {'num_leaves': 89, 'learning_rate': 0.011771492642414533, 'max_depth': 3, 'n_estimators': 319}. Best is trial 200 with value: 0.7191232310924914.\n",
      "[I 2024-12-23 14:57:29,046] Trial 315 finished with value: 0.6807893629367181 and parameters: {'num_leaves': 93, 'learning_rate': 0.015107854028830133, 'max_depth': 12, 'n_estimators': 379}. Best is trial 200 with value: 0.7191232310924914.\n",
      "[I 2024-12-23 14:57:29,234] Trial 316 finished with value: 0.7164334110103853 and parameters: {'num_leaves': 78, 'learning_rate': 0.010045286390164061, 'max_depth': 3, 'n_estimators': 306}. Best is trial 200 with value: 0.7191232310924914.\n",
      "[I 2024-12-23 14:57:29,388] Trial 317 finished with value: 0.7188118872814561 and parameters: {'num_leaves': 83, 'learning_rate': 0.013283797991313656, 'max_depth': 3, 'n_estimators': 287}. Best is trial 200 with value: 0.7191232310924914.\n",
      "[I 2024-12-23 14:57:29,600] Trial 318 finished with value: 0.7060452375313835 and parameters: {'num_leaves': 99, 'learning_rate': 0.016869939149638677, 'max_depth': 4, 'n_estimators': 244}. Best is trial 200 with value: 0.7191232310924914.\n",
      "[I 2024-12-23 14:57:29,800] Trial 319 finished with value: 0.716764052679646 and parameters: {'num_leaves': 96, 'learning_rate': 0.012084219511062207, 'max_depth': 3, 'n_estimators': 334}. Best is trial 200 with value: 0.7191232310924914.\n",
      "[I 2024-12-23 14:57:30,028] Trial 320 finished with value: 0.7113764489079352 and parameters: {'num_leaves': 90, 'learning_rate': 0.014242368516372826, 'max_depth': 3, 'n_estimators': 357}. Best is trial 200 with value: 0.7191232310924914.\n",
      "[I 2024-12-23 14:57:30,240] Trial 321 finished with value: 0.7188118872814561 and parameters: {'num_leaves': 94, 'learning_rate': 0.011576184010387682, 'max_depth': 3, 'n_estimators': 267}. Best is trial 200 with value: 0.7191232310924914.\n",
      "[I 2024-12-23 14:57:30,448] Trial 322 finished with value: 0.7164334110103853 and parameters: {'num_leaves': 87, 'learning_rate': 0.010006393201240377, 'max_depth': 3, 'n_estimators': 319}. Best is trial 200 with value: 0.7191232310924914.\n",
      "[I 2024-12-23 14:57:30,678] Trial 323 finished with value: 0.6955383398448846 and parameters: {'num_leaves': 61, 'learning_rate': 0.019299853787738717, 'max_depth': 4, 'n_estimators': 298}. Best is trial 200 with value: 0.7191232310924914.\n",
      "[I 2024-12-23 14:57:30,820] Trial 324 finished with value: 0.6688040483252893 and parameters: {'num_leaves': 101, 'learning_rate': 0.08577111435713969, 'max_depth': 3, 'n_estimators': 206}. Best is trial 200 with value: 0.7191232310924914.\n",
      "[I 2024-12-23 14:57:31,012] Trial 325 finished with value: 0.716764052679646 and parameters: {'num_leaves': 97, 'learning_rate': 0.014729887525967508, 'max_depth': 3, 'n_estimators': 345}. Best is trial 200 with value: 0.7191232310924914.\n",
      "[I 2024-12-23 14:57:31,203] Trial 326 finished with value: 0.7188118872814561 and parameters: {'num_leaves': 91, 'learning_rate': 0.013161264813194924, 'max_depth': 3, 'n_estimators': 289}. Best is trial 200 with value: 0.7191232310924914.\n",
      "[I 2024-12-23 14:57:31,430] Trial 327 finished with value: 0.7087040106099626 and parameters: {'num_leaves': 94, 'learning_rate': 0.01645251567989975, 'max_depth': 3, 'n_estimators': 377}. Best is trial 200 with value: 0.7191232310924914.\n",
      "[I 2024-12-23 14:57:31,630] Trial 328 finished with value: 0.7164334110103853 and parameters: {'num_leaves': 99, 'learning_rate': 0.011853139907757602, 'max_depth': 3, 'n_estimators': 323}. Best is trial 200 with value: 0.7191232310924914.\n",
      "[I 2024-12-23 14:57:31,867] Trial 329 finished with value: 0.7179277298893009 and parameters: {'num_leaves': 85, 'learning_rate': 0.014262256821226189, 'max_depth': 4, 'n_estimators': 254}. Best is trial 200 with value: 0.7191232310924914.\n",
      "[I 2024-12-23 14:57:32,064] Trial 330 finished with value: 0.7113764489079352 and parameters: {'num_leaves': 89, 'learning_rate': 0.017778895622839068, 'max_depth': 3, 'n_estimators': 302}. Best is trial 200 with value: 0.7191232310924914.\n",
      "[I 2024-12-23 14:57:32,239] Trial 331 finished with value: 0.7188118872814561 and parameters: {'num_leaves': 97, 'learning_rate': 0.011585409384346945, 'max_depth': 3, 'n_estimators': 278}. Best is trial 200 with value: 0.7191232310924914.\n",
      "[I 2024-12-23 14:57:32,459] Trial 332 finished with value: 0.7084483742485115 and parameters: {'num_leaves': 70, 'learning_rate': 0.015730130395903655, 'max_depth': 4, 'n_estimators': 315}. Best is trial 200 with value: 0.7191232310924914.\n",
      "[I 2024-12-23 14:57:32,809] Trial 333 finished with value: 0.6786412541392658 and parameters: {'num_leaves': 92, 'learning_rate': 0.013136043680331146, 'max_depth': 3, 'n_estimators': 856}. Best is trial 200 with value: 0.7191232310924914.\n",
      "[I 2024-12-23 14:57:32,988] Trial 334 finished with value: 0.7191232310924914 and parameters: {'num_leaves': 101, 'learning_rate': 0.013471953847893998, 'max_depth': 3, 'n_estimators': 335}. Best is trial 200 with value: 0.7191232310924914.\n",
      "[I 2024-12-23 14:57:33,190] Trial 335 finished with value: 0.716764052679646 and parameters: {'num_leaves': 102, 'learning_rate': 0.011374996521287149, 'max_depth': 3, 'n_estimators': 360}. Best is trial 200 with value: 0.7191232310924914.\n",
      "[I 2024-12-23 14:57:33,379] Trial 336 finished with value: 0.6962055626005841 and parameters: {'num_leaves': 100, 'learning_rate': 0.020465766351465242, 'max_depth': 3, 'n_estimators': 331}. Best is trial 200 with value: 0.7191232310924914.\n",
      "[I 2024-12-23 14:57:33,567] Trial 337 finished with value: 0.7140629839733383 and parameters: {'num_leaves': 102, 'learning_rate': 0.015938398331094984, 'max_depth': 3, 'n_estimators': 334}. Best is trial 200 with value: 0.7191232310924914.\n",
      "[I 2024-12-23 14:57:33,837] Trial 338 finished with value: 0.7129765248706348 and parameters: {'num_leaves': 98, 'learning_rate': 0.01020737753809939, 'max_depth': 4, 'n_estimators': 348}. Best is trial 200 with value: 0.7191232310924914.\n",
      "[I 2024-12-23 14:57:34,050] Trial 339 finished with value: 0.7140629839733383 and parameters: {'num_leaves': 100, 'learning_rate': 0.013056193873770284, 'max_depth': 3, 'n_estimators': 302}. Best is trial 200 with value: 0.7191232310924914.\n",
      "[I 2024-12-23 14:57:34,226] Trial 340 finished with value: 0.7164334110103853 and parameters: {'num_leaves': 95, 'learning_rate': 0.014582269190871388, 'max_depth': 3, 'n_estimators': 266}. Best is trial 200 with value: 0.7191232310924914.\n",
      "[I 2024-12-23 14:57:34,366] Trial 341 finished with value: 0.7188118872814561 and parameters: {'num_leaves': 87, 'learning_rate': 0.012076938519951076, 'max_depth': 3, 'n_estimators': 238}. Best is trial 200 with value: 0.7191232310924914.\n",
      "[I 2024-12-23 14:57:34,571] Trial 342 finished with value: 0.7060452375313835 and parameters: {'num_leaves': 96, 'learning_rate': 0.01808961116455401, 'max_depth': 3, 'n_estimators': 391}. Best is trial 200 with value: 0.7191232310924914.\n",
      "[I 2024-12-23 14:57:34,821] Trial 343 finished with value: 0.7053702259330767 and parameters: {'num_leaves': 83, 'learning_rate': 0.011431010765591039, 'max_depth': 4, 'n_estimators': 362}. Best is trial 200 with value: 0.7191232310924914.\n",
      "[I 2024-12-23 14:57:35,020] Trial 344 finished with value: 0.7164334110103853 and parameters: {'num_leaves': 90, 'learning_rate': 0.010074859836578317, 'max_depth': 3, 'n_estimators': 316}. Best is trial 200 with value: 0.7191232310924914.\n",
      "[I 2024-12-23 14:57:35,259] Trial 345 finished with value: 0.7140629839733383 and parameters: {'num_leaves': 105, 'learning_rate': 0.015283154782522335, 'max_depth': 3, 'n_estimators': 290}. Best is trial 200 with value: 0.7191232310924914.\n",
      "[I 2024-12-23 14:57:35,472] Trial 346 finished with value: 0.7120682067654902 and parameters: {'num_leaves': 98, 'learning_rate': 0.013264156725673116, 'max_depth': 3, 'n_estimators': 343}. Best is trial 200 with value: 0.7191232310924914.\n",
      "[I 2024-12-23 14:57:35,637] Trial 347 finished with value: 0.7117002583116361 and parameters: {'num_leaves': 78, 'learning_rate': 0.01646732557671525, 'max_depth': 3, 'n_estimators': 274}. Best is trial 200 with value: 0.7191232310924914.\n",
      "[I 2024-12-23 14:57:35,816] Trial 348 finished with value: 0.6819969471259534 and parameters: {'num_leaves': 102, 'learning_rate': 0.06473278332961604, 'max_depth': 3, 'n_estimators': 312}. Best is trial 200 with value: 0.7191232310924914.\n",
      "[I 2024-12-23 14:57:36,106] Trial 349 finished with value: 0.7154469434464065 and parameters: {'num_leaves': 94, 'learning_rate': 0.01004437927691491, 'max_depth': 4, 'n_estimators': 376}. Best is trial 200 with value: 0.7191232310924914.\n",
      "[I 2024-12-23 14:57:36,291] Trial 350 finished with value: 0.7164334110103853 and parameters: {'num_leaves': 88, 'learning_rate': 0.013092189348496727, 'max_depth': 3, 'n_estimators': 252}. Best is trial 200 with value: 0.7191232310924914.\n",
      "[I 2024-12-23 14:57:36,495] Trial 351 finished with value: 0.716764052679646 and parameters: {'num_leaves': 91, 'learning_rate': 0.014753741444256872, 'max_depth': 3, 'n_estimators': 329}. Best is trial 200 with value: 0.7191232310924914.\n",
      "[I 2024-12-23 14:57:36,704] Trial 352 finished with value: 0.7188118872814561 and parameters: {'num_leaves': 97, 'learning_rate': 0.01234048832227589, 'max_depth': 3, 'n_estimators': 298}. Best is trial 200 with value: 0.7191232310924914.\n",
      "[I 2024-12-23 14:57:36,871] Trial 353 finished with value: 0.7117002583116361 and parameters: {'num_leaves': 140, 'learning_rate': 0.017936921825892262, 'max_depth': 3, 'n_estimators': 281}. Best is trial 200 with value: 0.7191232310924914.\n",
      "[I 2024-12-23 14:57:37,084] Trial 354 finished with value: 0.7140629839733383 and parameters: {'num_leaves': 100, 'learning_rate': 0.014080250888541597, 'max_depth': 3, 'n_estimators': 346}. Best is trial 200 with value: 0.7191232310924914.\n",
      "[I 2024-12-23 14:57:37,335] Trial 355 finished with value: 0.7154469434464065 and parameters: {'num_leaves': 94, 'learning_rate': 0.011983744463327499, 'max_depth': 4, 'n_estimators': 319}. Best is trial 200 with value: 0.7191232310924914.\n",
      "[I 2024-12-23 14:57:37,555] Trial 356 finished with value: 0.7012625247030344 and parameters: {'num_leaves': 104, 'learning_rate': 0.016470434596446336, 'max_depth': 3, 'n_estimators': 481}. Best is trial 200 with value: 0.7191232310924914.\n",
      "[I 2024-12-23 14:57:38,714] Trial 357 finished with value: 0.6933023611487377 and parameters: {'num_leaves': 86, 'learning_rate': 0.010000642959983631, 'max_depth': 13, 'n_estimators': 521}. Best is trial 200 with value: 0.7191232310924914.\n",
      "[I 2024-12-23 14:57:38,935] Trial 358 finished with value: 0.7063194868054847 and parameters: {'num_leaves': 92, 'learning_rate': 0.014494192092051942, 'max_depth': 3, 'n_estimators': 399}. Best is trial 200 with value: 0.7191232310924914.\n",
      "[I 2024-12-23 14:57:39,126] Trial 359 finished with value: 0.7164334110103853 and parameters: {'num_leaves': 96, 'learning_rate': 0.011738442633405958, 'max_depth': 3, 'n_estimators': 299}. Best is trial 200 with value: 0.7191232310924914.\n",
      "[I 2024-12-23 14:57:39,303] Trial 360 finished with value: 0.7140629839733383 and parameters: {'num_leaves': 99, 'learning_rate': 0.013181029386635493, 'max_depth': 3, 'n_estimators': 270}. Best is trial 200 with value: 0.7191232310924914.\n",
      "[I 2024-12-23 14:57:39,602] Trial 361 finished with value: 0.7060452375313835 and parameters: {'num_leaves': 88, 'learning_rate': 0.015559902377243692, 'max_depth': 4, 'n_estimators': 369}. Best is trial 200 with value: 0.7191232310924914.\n",
      "[I 2024-12-23 14:57:39,831] Trial 362 finished with value: 0.7009940626124506 and parameters: {'num_leaves': 57, 'learning_rate': 0.019829312755428024, 'max_depth': 3, 'n_estimators': 331}. Best is trial 200 with value: 0.7191232310924914.\n",
      "[I 2024-12-23 14:57:40,016] Trial 363 finished with value: 0.6658637899858821 and parameters: {'num_leaves': 91, 'learning_rate': 0.09894056920820855, 'max_depth': 3, 'n_estimators': 227}. Best is trial 200 with value: 0.7191232310924914.\n",
      "[I 2024-12-23 14:57:40,229] Trial 364 finished with value: 0.7140629839733383 and parameters: {'num_leaves': 94, 'learning_rate': 0.011923528725189843, 'max_depth': 3, 'n_estimators': 288}. Best is trial 200 with value: 0.7191232310924914.\n",
      "[I 2024-12-23 14:57:40,425] Trial 365 finished with value: 0.7194800974650148 and parameters: {'num_leaves': 103, 'learning_rate': 0.017389201378060423, 'max_depth': 3, 'n_estimators': 250}. Best is trial 365 with value: 0.7194800974650148.\n",
      "[I 2024-12-23 14:57:40,646] Trial 366 finished with value: 0.7060452375313835 and parameters: {'num_leaves': 104, 'learning_rate': 0.018489995771201397, 'max_depth': 4, 'n_estimators': 246}. Best is trial 365 with value: 0.7194800974650148.\n",
      "[I 2024-12-23 14:57:40,822] Trial 367 finished with value: 0.698596133938469 and parameters: {'num_leaves': 107, 'learning_rate': 0.021286090703729277, 'max_depth': 3, 'n_estimators': 312}. Best is trial 365 with value: 0.7194800974650148.\n",
      "[I 2024-12-23 14:57:41,045] Trial 368 finished with value: 0.7090027368541849 and parameters: {'num_leaves': 65, 'learning_rate': 0.017188960624968674, 'max_depth': 3, 'n_estimators': 353}. Best is trial 365 with value: 0.7194800974650148.\n",
      "[I 2024-12-23 14:57:41,232] Trial 369 finished with value: 0.7090027368541849 and parameters: {'num_leaves': 100, 'learning_rate': 0.016396077534148193, 'max_depth': 3, 'n_estimators': 332}. Best is trial 365 with value: 0.7194800974650148.\n",
      "[I 2024-12-23 14:57:41,413] Trial 370 finished with value: 0.716764052679646 and parameters: {'num_leaves': 102, 'learning_rate': 0.01427950808359156, 'max_depth': 3, 'n_estimators': 303}. Best is trial 365 with value: 0.7194800974650148.\n",
      "[I 2024-12-23 14:57:41,579] Trial 371 finished with value: 0.7140629839733383 and parameters: {'num_leaves': 106, 'learning_rate': 0.017352478633638865, 'max_depth': 3, 'n_estimators': 253}. Best is trial 365 with value: 0.7194800974650148.\n",
      "[I 2024-12-23 14:57:41,854] Trial 372 finished with value: 0.6955383398448846 and parameters: {'num_leaves': 97, 'learning_rate': 0.014464287279298911, 'max_depth': 4, 'n_estimators': 342}. Best is trial 365 with value: 0.7194800974650148.\n",
      "[I 2024-12-23 14:57:42,053] Trial 373 finished with value: 0.7144124925510423 and parameters: {'num_leaves': 103, 'learning_rate': 0.016038210734455646, 'max_depth': 3, 'n_estimators': 318}. Best is trial 365 with value: 0.7194800974650148.\n",
      "[I 2024-12-23 14:57:42,268] Trial 374 finished with value: 0.7171398866710996 and parameters: {'num_leaves': 100, 'learning_rate': 0.013110429729381593, 'max_depth': 3, 'n_estimators': 362}. Best is trial 365 with value: 0.7194800974650148.\n",
      "[I 2024-12-23 14:57:42,441] Trial 375 finished with value: 0.7110964124503167 and parameters: {'num_leaves': 97, 'learning_rate': 0.019166295141223384, 'max_depth': 3, 'n_estimators': 286}. Best is trial 365 with value: 0.7194800974650148.\n",
      "[I 2024-12-23 14:57:42,632] Trial 376 finished with value: 0.7188118872814561 and parameters: {'num_leaves': 94, 'learning_rate': 0.015395420586363144, 'max_depth': 3, 'n_estimators': 223}. Best is trial 365 with value: 0.7194800974650148.\n",
      "[I 2024-12-23 14:57:42,821] Trial 377 finished with value: 0.7164334110103853 and parameters: {'num_leaves': 102, 'learning_rate': 0.010028808830253472, 'max_depth': 3, 'n_estimators': 308}. Best is trial 365 with value: 0.7194800974650148.\n",
      "[I 2024-12-23 14:57:43,007] Trial 378 finished with value: 0.6816381273318337 and parameters: {'num_leaves': 98, 'learning_rate': 0.0514538767602288, 'max_depth': 3, 'n_estimators': 268}. Best is trial 365 with value: 0.7194800974650148.\n",
      "[I 2024-12-23 14:57:43,199] Trial 379 finished with value: 0.7137579489457093 and parameters: {'num_leaves': 95, 'learning_rate': 0.013147537149220656, 'max_depth': 3, 'n_estimators': 331}. Best is trial 365 with value: 0.7194800974650148.\n",
      "[I 2024-12-23 14:57:43,454] Trial 380 finished with value: 0.644755970063423 and parameters: {'num_leaves': 92, 'learning_rate': 0.09605394303748897, 'max_depth': 4, 'n_estimators': 384}. Best is trial 365 with value: 0.7194800974650148.\n",
      "[I 2024-12-23 14:57:43,764] Trial 381 finished with value: 0.6933023611487377 and parameters: {'num_leaves': 100, 'learning_rate': 0.01143179062838786, 'max_depth': 3, 'n_estimators': 759}. Best is trial 365 with value: 0.7194800974650148.\n",
      "[I 2024-12-23 14:57:43,962] Trial 382 finished with value: 0.6733264422597354 and parameters: {'num_leaves': 90, 'learning_rate': 0.0716564350487786, 'max_depth': 3, 'n_estimators': 419}. Best is trial 365 with value: 0.7194800974650148.\n",
      "[I 2024-12-23 14:57:44,184] Trial 383 finished with value: 0.6781563480489636 and parameters: {'num_leaves': 106, 'learning_rate': 0.057883419030029554, 'max_depth': 4, 'n_estimators': 284}. Best is trial 365 with value: 0.7194800974650148.\n",
      "[I 2024-12-23 14:57:44,367] Trial 384 finished with value: 0.7137579489457093 and parameters: {'num_leaves': 97, 'learning_rate': 0.014078651173705875, 'max_depth': 3, 'n_estimators': 357}. Best is trial 365 with value: 0.7194800974650148.\n",
      "[I 2024-12-23 14:57:44,525] Trial 385 finished with value: 0.716764052679646 and parameters: {'num_leaves': 93, 'learning_rate': 0.018267977245699688, 'max_depth': 3, 'n_estimators': 239}. Best is trial 365 with value: 0.7194800974650148.\n",
      "[I 2024-12-23 14:57:44,711] Trial 386 finished with value: 0.7140629839733383 and parameters: {'num_leaves': 103, 'learning_rate': 0.011569922076558553, 'max_depth': 3, 'n_estimators': 322}. Best is trial 365 with value: 0.7194800974650148.\n",
      "[I 2024-12-23 14:57:44,900] Trial 387 finished with value: 0.7009940626124506 and parameters: {'num_leaves': 100, 'learning_rate': 0.02265562805988266, 'max_depth': 3, 'n_estimators': 297}. Best is trial 365 with value: 0.7194800974650148.\n",
      "[I 2024-12-23 14:57:45,104] Trial 388 finished with value: 0.7137579489457093 and parameters: {'num_leaves': 109, 'learning_rate': 0.015413255828288858, 'max_depth': 3, 'n_estimators': 343}. Best is trial 365 with value: 0.7194800974650148.\n",
      "[I 2024-12-23 14:57:45,698] Trial 389 finished with value: 0.6879003526397194 and parameters: {'num_leaves': 95, 'learning_rate': 0.012818503340443134, 'max_depth': 10, 'n_estimators': 262}. Best is trial 365 with value: 0.7194800974650148.\n",
      "[I 2024-12-23 14:57:45,883] Trial 390 finished with value: 0.7164334110103853 and parameters: {'num_leaves': 90, 'learning_rate': 0.0170672545818389, 'max_depth': 3, 'n_estimators': 307}. Best is trial 365 with value: 0.7194800974650148.\n",
      "[I 2024-12-23 14:57:46,144] Trial 391 finished with value: 0.7060452375313835 and parameters: {'num_leaves': 133, 'learning_rate': 0.013549667973689408, 'max_depth': 4, 'n_estimators': 372}. Best is trial 365 with value: 0.7194800974650148.\n",
      "[I 2024-12-23 14:57:46,314] Trial 392 finished with value: 0.7191232310924914 and parameters: {'num_leaves': 98, 'learning_rate': 0.011584684872231446, 'max_depth': 3, 'n_estimators': 285}. Best is trial 365 with value: 0.7194800974650148.\n",
      "[I 2024-12-23 14:57:46,517] Trial 393 finished with value: 0.7164334110103853 and parameters: {'num_leaves': 103, 'learning_rate': 0.010191189007121237, 'max_depth': 3, 'n_estimators': 288}. Best is trial 365 with value: 0.7194800974650148.\n",
      "[I 2024-12-23 14:57:47,219] Trial 394 finished with value: 0.6834343189312287 and parameters: {'num_leaves': 99, 'learning_rate': 0.01148413468570223, 'max_depth': 11, 'n_estimators': 319}. Best is trial 365 with value: 0.7194800974650148.\n",
      "[I 2024-12-23 14:57:47,401] Trial 395 finished with value: 0.7188118872814561 and parameters: {'num_leaves': 85, 'learning_rate': 0.012032722001879945, 'max_depth': 3, 'n_estimators': 304}. Best is trial 365 with value: 0.7194800974650148.\n",
      "[I 2024-12-23 14:57:47,621] Trial 396 finished with value: 0.7164334110103853 and parameters: {'num_leaves': 98, 'learning_rate': 0.011271913129984074, 'max_depth': 3, 'n_estimators': 334}. Best is trial 365 with value: 0.7194800974650148.\n",
      "[I 2024-12-23 14:57:48,002] Trial 397 finished with value: 0.6931022301406894 and parameters: {'num_leaves': 101, 'learning_rate': 0.013188402362648347, 'max_depth': 4, 'n_estimators': 578}. Best is trial 365 with value: 0.7194800974650148.\n",
      "[I 2024-12-23 14:57:48,179] Trial 398 finished with value: 0.7164334110103853 and parameters: {'num_leaves': 93, 'learning_rate': 0.014871197434162358, 'max_depth': 3, 'n_estimators': 275}. Best is trial 365 with value: 0.7194800974650148.\n",
      "[I 2024-12-23 14:57:48,368] Trial 399 finished with value: 0.7188118872814561 and parameters: {'num_leaves': 106, 'learning_rate': 0.010140682649076997, 'max_depth': 3, 'n_estimators': 353}. Best is trial 365 with value: 0.7194800974650148.\n",
      "[I 2024-12-23 14:57:48,570] Trial 400 finished with value: 0.7164334110103853 and parameters: {'num_leaves': 96, 'learning_rate': 0.01271876657871115, 'max_depth': 3, 'n_estimators': 292}. Best is trial 365 with value: 0.7194800974650148.\n",
      "[I 2024-12-23 14:57:49,393] Trial 401 finished with value: 0.6843507497130601 and parameters: {'num_leaves': 88, 'learning_rate': 0.01624539787765479, 'max_depth': 15, 'n_estimators': 325}. Best is trial 365 with value: 0.7194800974650148.\n",
      "[I 2024-12-23 14:57:49,659] Trial 402 finished with value: 0.7140629839733383 and parameters: {'num_leaves': 91, 'learning_rate': 0.01006424089701407, 'max_depth': 3, 'n_estimators': 398}. Best is trial 365 with value: 0.7194800974650148.\n",
      "[I 2024-12-23 14:57:49,869] Trial 403 finished with value: 0.7060452375313835 and parameters: {'num_leaves': 137, 'learning_rate': 0.02027976850295106, 'max_depth': 3, 'n_estimators': 309}. Best is trial 365 with value: 0.7194800974650148.\n",
      "[I 2024-12-23 14:57:50,136] Trial 404 finished with value: 0.7154469434464065 and parameters: {'num_leaves': 82, 'learning_rate': 0.014507511676369319, 'max_depth': 4, 'n_estimators': 282}. Best is trial 365 with value: 0.7194800974650148.\n",
      "[I 2024-12-23 14:57:50,353] Trial 405 finished with value: 0.7191232310924914 and parameters: {'num_leaves': 102, 'learning_rate': 0.012705169448299587, 'max_depth': 3, 'n_estimators': 339}. Best is trial 365 with value: 0.7194800974650148.\n",
      "[I 2024-12-23 14:57:50,585] Trial 406 finished with value: 0.7140629839733383 and parameters: {'num_leaves': 105, 'learning_rate': 0.011578628056031975, 'max_depth': 3, 'n_estimators': 349}. Best is trial 365 with value: 0.7194800974650148.\n",
      "[I 2024-12-23 14:57:50,779] Trial 407 finished with value: 0.6714947675206147 and parameters: {'num_leaves': 101, 'learning_rate': 0.0468665903667302, 'max_depth': 3, 'n_estimators': 375}. Best is trial 365 with value: 0.7194800974650148.\n",
      "[I 2024-12-23 14:57:50,993] Trial 408 finished with value: 0.7164334110103853 and parameters: {'num_leaves': 104, 'learning_rate': 0.010077258031390415, 'max_depth': 3, 'n_estimators': 338}. Best is trial 365 with value: 0.7194800974650148.\n",
      "[I 2024-12-23 14:57:51,217] Trial 409 finished with value: 0.7117002583116361 and parameters: {'num_leaves': 102, 'learning_rate': 0.015344715101917419, 'max_depth': 3, 'n_estimators': 363}. Best is trial 365 with value: 0.7194800974650148.\n",
      "[I 2024-12-23 14:57:51,412] Trial 410 finished with value: 0.7161475873692498 and parameters: {'num_leaves': 109, 'learning_rate': 0.012998322131220041, 'max_depth': 3, 'n_estimators': 321}. Best is trial 365 with value: 0.7194800974650148.\n",
      "[I 2024-12-23 14:57:51,683] Trial 411 finished with value: 0.6759777141907827 and parameters: {'num_leaves': 94, 'learning_rate': 0.01779006361468823, 'max_depth': 4, 'n_estimators': 339}. Best is trial 365 with value: 0.7194800974650148.\n",
      "[I 2024-12-23 14:57:51,899] Trial 412 finished with value: 0.7164334110103853 and parameters: {'num_leaves': 89, 'learning_rate': 0.01234100773353886, 'max_depth': 3, 'n_estimators': 317}. Best is trial 365 with value: 0.7194800974650148.\n",
      "[I 2024-12-23 14:57:52,117] Trial 413 finished with value: 0.7090027368541849 and parameters: {'num_leaves': 98, 'learning_rate': 0.014985057240802277, 'max_depth': 3, 'n_estimators': 385}. Best is trial 365 with value: 0.7194800974650148.\n",
      "[I 2024-12-23 14:57:52,960] Trial 414 finished with value: 0.6834343189312287 and parameters: {'num_leaves': 93, 'learning_rate': 0.010022376627320582, 'max_depth': 12, 'n_estimators': 353}. Best is trial 365 with value: 0.7194800974650148.\n",
      "[I 2024-12-23 14:57:53,157] Trial 415 finished with value: 0.7164334110103853 and parameters: {'num_leaves': 142, 'learning_rate': 0.01663362684617932, 'max_depth': 3, 'n_estimators': 327}. Best is trial 365 with value: 0.7194800974650148.\n",
      "[I 2024-12-23 14:57:53,346] Trial 416 finished with value: 0.7140629839733383 and parameters: {'num_leaves': 85, 'learning_rate': 0.013261078189408458, 'max_depth': 3, 'n_estimators': 303}. Best is trial 365 with value: 0.7194800974650148.\n",
      "[I 2024-12-23 14:57:53,636] Trial 417 finished with value: 0.7105161010191311 and parameters: {'num_leaves': 100, 'learning_rate': 0.011793516191883902, 'max_depth': 4, 'n_estimators': 366}. Best is trial 365 with value: 0.7194800974650148.\n",
      "[I 2024-12-23 14:57:53,831] Trial 418 finished with value: 0.7140629839733383 and parameters: {'num_leaves': 96, 'learning_rate': 0.01436647070915003, 'max_depth': 3, 'n_estimators': 341}. Best is trial 365 with value: 0.7194800974650148.\n",
      "[I 2024-12-23 14:57:54,047] Trial 419 finished with value: 0.7140629839733383 and parameters: {'num_leaves': 103, 'learning_rate': 0.01170727002158906, 'max_depth': 3, 'n_estimators': 301}. Best is trial 365 with value: 0.7194800974650148.\n",
      "[I 2024-12-23 14:57:54,283] Trial 420 finished with value: 0.6957205601253033 and parameters: {'num_leaves': 74, 'learning_rate': 0.018951238824500827, 'max_depth': 4, 'n_estimators': 319}. Best is trial 365 with value: 0.7194800974650148.\n",
      "[I 2024-12-23 14:57:54,528] Trial 421 finished with value: 0.7039424897350318 and parameters: {'num_leaves': 91, 'learning_rate': 0.01613153175588048, 'max_depth': 3, 'n_estimators': 448}. Best is trial 365 with value: 0.7194800974650148.\n",
      "[I 2024-12-23 14:57:54,785] Trial 422 finished with value: 0.7164334110103853 and parameters: {'num_leaves': 108, 'learning_rate': 0.013427707396505563, 'max_depth': 3, 'n_estimators': 334}. Best is trial 365 with value: 0.7194800974650148.\n",
      "[I 2024-12-23 14:57:55,586] Trial 423 finished with value: 0.6935421956027223 and parameters: {'num_leaves': 95, 'learning_rate': 0.011763977897084795, 'max_depth': 14, 'n_estimators': 273}. Best is trial 365 with value: 0.7194800974650148.\n",
      "[I 2024-12-23 14:57:55,805] Trial 424 finished with value: 0.7191232310924914 and parameters: {'num_leaves': 106, 'learning_rate': 0.01486264060182875, 'max_depth': 3, 'n_estimators': 300}. Best is trial 365 with value: 0.7194800974650148.\n",
      "[I 2024-12-23 14:57:56,054] Trial 425 finished with value: 0.7036500722742159 and parameters: {'num_leaves': 106, 'learning_rate': 0.01684837551616861, 'max_depth': 3, 'n_estimators': 354}. Best is trial 365 with value: 0.7194800974650148.\n",
      "[I 2024-12-23 14:57:56,262] Trial 426 finished with value: 0.716764052679646 and parameters: {'num_leaves': 103, 'learning_rate': 0.015390745294025116, 'max_depth': 3, 'n_estimators': 296}. Best is trial 365 with value: 0.7194800974650148.\n",
      "[I 2024-12-23 14:57:56,543] Trial 427 finished with value: 0.6807893629367181 and parameters: {'num_leaves': 105, 'learning_rate': 0.01875879872983734, 'max_depth': 4, 'n_estimators': 394}. Best is trial 365 with value: 0.7194800974650148.\n",
      "[I 2024-12-23 14:57:56,753] Trial 428 finished with value: 0.7164334110103853 and parameters: {'num_leaves': 101, 'learning_rate': 0.011580594644501788, 'max_depth': 3, 'n_estimators': 327}. Best is trial 365 with value: 0.7194800974650148.\n",
      "[I 2024-12-23 14:57:57,119] Trial 429 finished with value: 0.6933023611487377 and parameters: {'num_leaves': 99, 'learning_rate': 0.013632273133946035, 'max_depth': 3, 'n_estimators': 623}. Best is trial 365 with value: 0.7194800974650148.\n",
      "[I 2024-12-23 14:57:57,289] Trial 430 finished with value: 0.7164334110103853 and parameters: {'num_leaves': 104, 'learning_rate': 0.010172522915987836, 'max_depth': 3, 'n_estimators': 257}. Best is trial 365 with value: 0.7194800974650148.\n",
      "[I 2024-12-23 14:57:57,717] Trial 431 finished with value: 0.6796480516314758 and parameters: {'num_leaves': 111, 'learning_rate': 0.014337581211751702, 'max_depth': 3, 'n_estimators': 945}. Best is trial 365 with value: 0.7194800974650148.\n",
      "[I 2024-12-23 14:57:57,960] Trial 432 finished with value: 0.7137579489457093 and parameters: {'num_leaves': 107, 'learning_rate': 0.01729624316210461, 'max_depth': 3, 'n_estimators': 313}. Best is trial 365 with value: 0.7194800974650148.\n",
      "[I 2024-12-23 14:57:58,260] Trial 433 finished with value: 0.6938219954967254 and parameters: {'num_leaves': 89, 'learning_rate': 0.021581979468572307, 'max_depth': 3, 'n_estimators': 370}. Best is trial 365 with value: 0.7194800974650148.\n",
      "[I 2024-12-23 14:57:58,503] Trial 434 finished with value: 0.7164334110103853 and parameters: {'num_leaves': 100, 'learning_rate': 0.01271050443365911, 'max_depth': 3, 'n_estimators': 280}. Best is trial 365 with value: 0.7194800974650148.\n",
      "[I 2024-12-23 14:57:58,857] Trial 435 finished with value: 0.7154469434464065 and parameters: {'num_leaves': 130, 'learning_rate': 0.010059916602725677, 'max_depth': 4, 'n_estimators': 346}. Best is trial 365 with value: 0.7194800974650148.\n",
      "[I 2024-12-23 14:57:59,130] Trial 436 finished with value: 0.7191232310924914 and parameters: {'num_leaves': 80, 'learning_rate': 0.015742971272289623, 'max_depth': 3, 'n_estimators': 298}. Best is trial 365 with value: 0.7194800974650148.\n",
      "[I 2024-12-23 14:57:59,370] Trial 437 finished with value: 0.7140629839733383 and parameters: {'num_leaves': 76, 'learning_rate': 0.012720042007754995, 'max_depth': 3, 'n_estimators': 319}. Best is trial 365 with value: 0.7194800974650148.\n",
      "[I 2024-12-23 14:57:59,741] Trial 438 finished with value: 0.7155561225566461 and parameters: {'num_leaves': 79, 'learning_rate': 0.014555673918090066, 'max_depth': 4, 'n_estimators': 297}. Best is trial 365 with value: 0.7194800974650148.\n",
      "[I 2024-12-23 14:58:00,032] Trial 439 finished with value: 0.7140629839733383 and parameters: {'num_leaves': 67, 'learning_rate': 0.011672104001218984, 'max_depth': 3, 'n_estimators': 333}. Best is trial 365 with value: 0.7194800974650148.\n",
      "[I 2024-12-23 14:58:00,298] Trial 440 finished with value: 0.7218278470476559 and parameters: {'num_leaves': 69, 'learning_rate': 0.015406500026775783, 'max_depth': 3, 'n_estimators': 309}. Best is trial 440 with value: 0.7218278470476559.\n",
      "[I 2024-12-23 14:58:00,561] Trial 441 finished with value: 0.7060452375313835 and parameters: {'num_leaves': 65, 'learning_rate': 0.01876854108890625, 'max_depth': 3, 'n_estimators': 352}. Best is trial 440 with value: 0.7218278470476559.\n",
      "[I 2024-12-23 14:58:00,811] Trial 442 finished with value: 0.7140629839733383 and parameters: {'num_leaves': 75, 'learning_rate': 0.016884159423043162, 'max_depth': 3, 'n_estimators': 314}. Best is trial 440 with value: 0.7218278470476559.\n",
      "[I 2024-12-23 14:58:01,002] Trial 443 finished with value: 0.7161475873692498 and parameters: {'num_leaves': 70, 'learning_rate': 0.020207602078955656, 'max_depth': 3, 'n_estimators': 290}. Best is trial 440 with value: 0.7218278470476559.\n",
      "[I 2024-12-23 14:58:01,260] Trial 444 finished with value: 0.6968531670486621 and parameters: {'num_leaves': 71, 'learning_rate': 0.016064756494362883, 'max_depth': 4, 'n_estimators': 341}. Best is trial 440 with value: 0.7218278470476559.\n",
      "[I 2024-12-23 14:58:01,444] Trial 445 finished with value: 0.7140629839733383 and parameters: {'num_leaves': 107, 'learning_rate': 0.014783537595178017, 'max_depth': 3, 'n_estimators': 326}. Best is trial 440 with value: 0.7218278470476559.\n",
      "[I 2024-12-23 14:58:01,693] Trial 446 finished with value: 0.7036500722742159 and parameters: {'num_leaves': 74, 'learning_rate': 0.01775214878309904, 'max_depth': 3, 'n_estimators': 378}. Best is trial 440 with value: 0.7218278470476559.\n",
      "[I 2024-12-23 14:58:01,898] Trial 447 finished with value: 0.7140629839733383 and parameters: {'num_leaves': 68, 'learning_rate': 0.014903262263261528, 'max_depth': 3, 'n_estimators': 304}. Best is trial 440 with value: 0.7218278470476559.\n",
      "[I 2024-12-23 14:58:02,144] Trial 448 finished with value: 0.7090027368541849 and parameters: {'num_leaves': 81, 'learning_rate': 0.013370206140000417, 'max_depth': 3, 'n_estimators': 363}. Best is trial 440 with value: 0.7218278470476559.\n",
      "[I 2024-12-23 14:58:02,416] Trial 449 finished with value: 0.6562797278037865 and parameters: {'num_leaves': 71, 'learning_rate': 0.0829311397236298, 'max_depth': 3, 'n_estimators': 424}. Best is trial 440 with value: 0.7218278470476559.\n",
      "[I 2024-12-23 14:58:02,698] Trial 450 finished with value: 0.7129765248706348 and parameters: {'num_leaves': 71, 'learning_rate': 0.011671274198727169, 'max_depth': 4, 'n_estimators': 284}. Best is trial 440 with value: 0.7218278470476559.\n",
      "[I 2024-12-23 14:58:02,886] Trial 451 finished with value: 0.7191232310924914 and parameters: {'num_leaves': 76, 'learning_rate': 0.015660438110123177, 'max_depth': 3, 'n_estimators': 331}. Best is trial 440 with value: 0.7218278470476559.\n",
      "[I 2024-12-23 14:58:03,098] Trial 452 finished with value: 0.7039424897350318 and parameters: {'num_leaves': 77, 'learning_rate': 0.018382419257809583, 'max_depth': 3, 'n_estimators': 407}. Best is trial 440 with value: 0.7218278470476559.\n",
      "[I 2024-12-23 14:58:03,413] Trial 453 finished with value: 0.6884882572669756 and parameters: {'num_leaves': 78, 'learning_rate': 0.016333922807581235, 'max_depth': 3, 'n_estimators': 709}. Best is trial 440 with value: 0.7218278470476559.\n",
      "[I 2024-12-23 14:58:03,624] Trial 454 finished with value: 0.6863812864715864 and parameters: {'num_leaves': 78, 'learning_rate': 0.024106156235263333, 'max_depth': 3, 'n_estimators': 338}. Best is trial 440 with value: 0.7218278470476559.\n",
      "[I 2024-12-23 14:58:03,816] Trial 455 finished with value: 0.7108598379474175 and parameters: {'num_leaves': 74, 'learning_rate': 0.02081362275568699, 'max_depth': 3, 'n_estimators': 352}. Best is trial 440 with value: 0.7218278470476559.\n",
      "[I 2024-12-23 14:58:04,023] Trial 456 finished with value: 0.7113764489079352 and parameters: {'num_leaves': 68, 'learning_rate': 0.01554891147795183, 'max_depth': 3, 'n_estimators': 326}. Best is trial 440 with value: 0.7218278470476559.\n",
      "[I 2024-12-23 14:58:04,265] Trial 457 finished with value: 0.7084483742485115 and parameters: {'num_leaves': 74, 'learning_rate': 0.017063737657752133, 'max_depth': 4, 'n_estimators': 318}. Best is trial 440 with value: 0.7218278470476559.\n",
      "[I 2024-12-23 14:58:04,542] Trial 458 finished with value: 0.7137579489457093 and parameters: {'num_leaves': 79, 'learning_rate': 0.010036840373514044, 'max_depth': 3, 'n_estimators': 557}. Best is trial 440 with value: 0.7218278470476559.\n",
      "[I 2024-12-23 14:58:04,729] Trial 459 finished with value: 0.698596133938469 and parameters: {'num_leaves': 82, 'learning_rate': 0.01974837084979613, 'max_depth': 3, 'n_estimators': 377}. Best is trial 440 with value: 0.7218278470476559.\n",
      "[I 2024-12-23 14:58:04,930] Trial 460 finished with value: 0.7117002583116361 and parameters: {'num_leaves': 77, 'learning_rate': 0.01418754910303554, 'max_depth': 3, 'n_estimators': 347}. Best is trial 440 with value: 0.7218278470476559.\n",
      "[I 2024-12-23 14:58:05,155] Trial 461 finished with value: 0.7140629839733383 and parameters: {'num_leaves': 73, 'learning_rate': 0.013395776034310436, 'max_depth': 3, 'n_estimators': 364}. Best is trial 440 with value: 0.7218278470476559.\n",
      "[I 2024-12-23 14:58:05,363] Trial 462 finished with value: 0.7164334110103853 and parameters: {'num_leaves': 83, 'learning_rate': 0.015654073056232887, 'max_depth': 3, 'n_estimators': 310}. Best is trial 440 with value: 0.7218278470476559.\n",
      "[I 2024-12-23 14:58:05,641] Trial 463 finished with value: 0.7129765248706348 and parameters: {'num_leaves': 69, 'learning_rate': 0.011550811629803773, 'max_depth': 4, 'n_estimators': 337}. Best is trial 440 with value: 0.7218278470476559.\n",
      "[I 2024-12-23 14:58:05,823] Trial 464 finished with value: 0.6789392581532343 and parameters: {'num_leaves': 72, 'learning_rate': 0.03927258949599002, 'max_depth': 3, 'n_estimators': 328}. Best is trial 440 with value: 0.7218278470476559.\n",
      "[I 2024-12-23 14:58:06,026] Trial 465 finished with value: 0.7063194868054847 and parameters: {'num_leaves': 134, 'learning_rate': 0.017907538372537706, 'max_depth': 3, 'n_estimators': 295}. Best is trial 440 with value: 0.7218278470476559.\n",
      "[I 2024-12-23 14:58:06,247] Trial 466 finished with value: 0.7087040106099626 and parameters: {'num_leaves': 81, 'learning_rate': 0.01424349480644856, 'max_depth': 3, 'n_estimators': 384}. Best is trial 440 with value: 0.7218278470476559.\n",
      "[I 2024-12-23 14:58:06,526] Trial 467 finished with value: 0.7154469434464065 and parameters: {'num_leaves': 102, 'learning_rate': 0.010012299797415811, 'max_depth': 4, 'n_estimators': 309}. Best is trial 440 with value: 0.7218278470476559.\n",
      "[I 2024-12-23 14:58:06,689] Trial 468 finished with value: 0.7164334110103853 and parameters: {'num_leaves': 65, 'learning_rate': 0.012558857065047667, 'max_depth': 3, 'n_estimators': 273}. Best is trial 440 with value: 0.7218278470476559.\n",
      "[I 2024-12-23 14:58:06,903] Trial 469 finished with value: 0.7087040106099626 and parameters: {'num_leaves': 76, 'learning_rate': 0.015991650991748974, 'max_depth': 3, 'n_estimators': 354}. Best is trial 440 with value: 0.7218278470476559.\n",
      "[I 2024-12-23 14:58:07,118] Trial 470 finished with value: 0.7140629839733383 and parameters: {'num_leaves': 104, 'learning_rate': 0.011668993004216926, 'max_depth': 3, 'n_estimators': 331}. Best is trial 440 with value: 0.7218278470476559.\n",
      "[I 2024-12-23 14:58:07,290] Trial 471 finished with value: 0.7140629839733383 and parameters: {'num_leaves': 102, 'learning_rate': 0.013728593846818129, 'max_depth': 3, 'n_estimators': 211}. Best is trial 440 with value: 0.7218278470476559.\n",
      "[I 2024-12-23 14:58:07,490] Trial 472 finished with value: 0.7164334110103853 and parameters: {'num_leaves': 84, 'learning_rate': 0.01707640373430872, 'max_depth': 3, 'n_estimators': 312}. Best is trial 440 with value: 0.7218278470476559.\n",
      "[I 2024-12-23 14:58:07,658] Trial 473 finished with value: 0.7113764489079352 and parameters: {'num_leaves': 111, 'learning_rate': 0.01910310605311785, 'max_depth': 3, 'n_estimators': 291}. Best is trial 440 with value: 0.7218278470476559.\n",
      "[I 2024-12-23 14:58:07,907] Trial 474 finished with value: 0.7137579489457093 and parameters: {'num_leaves': 105, 'learning_rate': 0.014547686478121089, 'max_depth': 3, 'n_estimators': 366}. Best is trial 440 with value: 0.7218278470476559.\n",
      "[I 2024-12-23 14:58:08,197] Trial 475 finished with value: 0.7082355470909871 and parameters: {'num_leaves': 100, 'learning_rate': 0.011400967259383998, 'max_depth': 4, 'n_estimators': 345}. Best is trial 440 with value: 0.7218278470476559.\n",
      "[I 2024-12-23 14:58:08,426] Trial 476 finished with value: 0.7117002583116361 and parameters: {'num_leaves': 98, 'learning_rate': 0.012968773069766668, 'max_depth': 3, 'n_estimators': 324}. Best is trial 440 with value: 0.7218278470476559.\n",
      "[I 2024-12-23 14:58:08,645] Trial 477 finished with value: 0.6634605127818061 and parameters: {'num_leaves': 107, 'learning_rate': 0.06753208605922506, 'max_depth': 3, 'n_estimators': 270}. Best is trial 440 with value: 0.7218278470476559.\n",
      "[I 2024-12-23 14:58:08,906] Trial 478 finished with value: 0.7181477760876576 and parameters: {'num_leaves': 102, 'learning_rate': 0.015286663429330133, 'max_depth': 4, 'n_estimators': 238}. Best is trial 440 with value: 0.7218278470476559.\n",
      "[I 2024-12-23 14:58:09,137] Trial 479 finished with value: 0.716764052679646 and parameters: {'num_leaves': 76, 'learning_rate': 0.011653189773870854, 'max_depth': 3, 'n_estimators': 307}. Best is trial 440 with value: 0.7218278470476559.\n",
      "[I 2024-12-23 14:58:09,333] Trial 480 finished with value: 0.7144124925510423 and parameters: {'num_leaves': 63, 'learning_rate': 0.016991545010375933, 'max_depth': 3, 'n_estimators': 288}. Best is trial 440 with value: 0.7218278470476559.\n",
      "[I 2024-12-23 14:58:09,708] Trial 481 finished with value: 0.6834343189312287 and parameters: {'num_leaves': 86, 'learning_rate': 0.013077140842553863, 'max_depth': 3, 'n_estimators': 788}. Best is trial 440 with value: 0.7218278470476559.\n",
      "[I 2024-12-23 14:58:09,930] Trial 482 finished with value: 0.7161475873692498 and parameters: {'num_leaves': 98, 'learning_rate': 0.015032582993526842, 'max_depth': 3, 'n_estimators': 393}. Best is trial 440 with value: 0.7218278470476559.\n",
      "[I 2024-12-23 14:58:10,155] Trial 483 finished with value: 0.7140629839733383 and parameters: {'num_leaves': 103, 'learning_rate': 0.011388813252508845, 'max_depth': 3, 'n_estimators': 338}. Best is trial 440 with value: 0.7218278470476559.\n",
      "[I 2024-12-23 14:58:10,446] Trial 484 finished with value: 0.698146669124122 and parameters: {'num_leaves': 80, 'learning_rate': 0.013389742832847395, 'max_depth': 4, 'n_estimators': 363}. Best is trial 440 with value: 0.7218278470476559.\n",
      "[I 2024-12-23 14:58:10,658] Trial 485 finished with value: 0.7140629839733383 and parameters: {'num_leaves': 109, 'learning_rate': 0.010193359198695823, 'max_depth': 3, 'n_estimators': 314}. Best is trial 440 with value: 0.7218278470476559.\n",
      "[I 2024-12-23 14:58:11,162] Trial 486 finished with value: 0.7144124925510423 and parameters: {'num_leaves': 100, 'learning_rate': 0.01851156732642255, 'max_depth': 8, 'n_estimators': 259}. Best is trial 440 with value: 0.7218278470476559.\n",
      "[I 2024-12-23 14:58:11,350] Trial 487 finished with value: 0.7117002583116361 and parameters: {'num_leaves': 105, 'learning_rate': 0.015772983894809148, 'max_depth': 3, 'n_estimators': 294}. Best is trial 440 with value: 0.7218278470476559.\n",
      "[I 2024-12-23 14:58:11,557] Trial 488 finished with value: 0.7144124925510423 and parameters: {'num_leaves': 97, 'learning_rate': 0.013737942323403102, 'max_depth': 3, 'n_estimators': 326}. Best is trial 440 with value: 0.7218278470476559.\n",
      "[I 2024-12-23 14:58:11,788] Trial 489 finished with value: 0.7164334110103853 and parameters: {'num_leaves': 72, 'learning_rate': 0.011921097366202237, 'max_depth': 3, 'n_estimators': 340}. Best is trial 440 with value: 0.7218278470476559.\n",
      "[I 2024-12-23 14:58:11,951] Trial 490 finished with value: 0.7161475873692498 and parameters: {'num_leaves': 84, 'learning_rate': 0.021843559401190375, 'max_depth': 3, 'n_estimators': 281}. Best is trial 440 with value: 0.7218278470476559.\n",
      "[I 2024-12-23 14:58:12,196] Trial 491 finished with value: 0.7030240643636885 and parameters: {'num_leaves': 101, 'learning_rate': 0.016933653903087747, 'max_depth': 4, 'n_estimators': 303}. Best is trial 440 with value: 0.7218278470476559.\n",
      "[I 2024-12-23 14:58:12,409] Trial 492 finished with value: 0.7164334110103853 and parameters: {'num_leaves': 98, 'learning_rate': 0.010008911760122469, 'max_depth': 3, 'n_estimators': 356}. Best is trial 440 with value: 0.7218278470476559.\n",
      "[I 2024-12-23 14:58:12,613] Trial 493 finished with value: 0.7117002583116361 and parameters: {'num_leaves': 69, 'learning_rate': 0.014629295258686177, 'max_depth': 3, 'n_estimators': 317}. Best is trial 440 with value: 0.7218278470476559.\n",
      "[I 2024-12-23 14:58:12,802] Trial 494 finished with value: 0.7164334110103853 and parameters: {'num_leaves': 103, 'learning_rate': 0.012648886111764245, 'max_depth': 3, 'n_estimators': 272}. Best is trial 440 with value: 0.7218278470476559.\n",
      "[I 2024-12-23 14:58:13,025] Trial 495 finished with value: 0.7117002583116361 and parameters: {'num_leaves': 87, 'learning_rate': 0.014791963447354135, 'max_depth': 3, 'n_estimators': 377}. Best is trial 440 with value: 0.7218278470476559.\n",
      "[I 2024-12-23 14:58:13,286] Trial 496 finished with value: 0.7181477760876576 and parameters: {'num_leaves': 96, 'learning_rate': 0.011702878898642107, 'max_depth': 4, 'n_estimators': 343}. Best is trial 440 with value: 0.7218278470476559.\n",
      "[I 2024-12-23 14:58:13,473] Trial 497 finished with value: 0.7117002583116361 and parameters: {'num_leaves': 80, 'learning_rate': 0.01756410755660572, 'max_depth': 3, 'n_estimators': 296}. Best is trial 440 with value: 0.7218278470476559.\n",
      "[I 2024-12-23 14:58:13,721] Trial 498 finished with value: 0.7140629839733383 and parameters: {'num_leaves': 128, 'learning_rate': 0.010086963121179932, 'max_depth': 3, 'n_estimators': 405}. Best is trial 440 with value: 0.7218278470476559.\n",
      "[I 2024-12-23 14:58:13,920] Trial 499 finished with value: 0.7060452375313835 and parameters: {'num_leaves': 106, 'learning_rate': 0.01971204957088081, 'max_depth': 3, 'n_estimators': 324}. Best is trial 440 with value: 0.7218278470476559.\n"
     ]
    }
   ],
   "source": [
    "study = optuna.create_study(direction='maximize')\n",
    "study.optimize(objective, n_trials=500)"
   ]
  },
  {
   "cell_type": "code",
   "execution_count": 16,
   "metadata": {},
   "outputs": [
    {
     "name": "stdout",
     "output_type": "stream",
     "text": [
      "{'num_leaves': 69, 'learning_rate': 0.015406500026775783, 'max_depth': 3, 'n_estimators': 309}\n"
     ]
    }
   ],
   "source": [
    "best_params = study.best_params\n",
    "print(best_params)"
   ]
  },
  {
   "cell_type": "code",
   "execution_count": 17,
   "metadata": {},
   "outputs": [],
   "source": [
    "best_params.update({\n",
    "    'objective': 'binary',\n",
    "    'metric': 'binary_logloss',\n",
    "    'boosting_type': 'gbdt',\n",
    "})"
   ]
  },
  {
   "cell_type": "markdown",
   "metadata": {},
   "source": [
    "#### Обучение с лучшими параметрами"
   ]
  },
  {
   "cell_type": "code",
   "execution_count": 18,
   "metadata": {},
   "outputs": [
    {
     "name": "stdout",
     "output_type": "stream",
     "text": [
      "Training until validation scores don't improve for 50 rounds\n",
      "[10]\ttrain's binary_logloss: 0.665651\tvalid's binary_logloss: 0.672279\n",
      "[20]\ttrain's binary_logloss: 0.643749\tvalid's binary_logloss: 0.655448\n",
      "[30]\ttrain's binary_logloss: 0.626177\tvalid's binary_logloss: 0.64288\n",
      "[40]\ttrain's binary_logloss: 0.611732\tvalid's binary_logloss: 0.633038\n",
      "[50]\ttrain's binary_logloss: 0.599573\tvalid's binary_logloss: 0.625042\n",
      "[60]\ttrain's binary_logloss: 0.589195\tvalid's binary_logloss: 0.620249\n",
      "[70]\ttrain's binary_logloss: 0.579786\tvalid's binary_logloss: 0.615827\n",
      "[80]\ttrain's binary_logloss: 0.57167\tvalid's binary_logloss: 0.612303\n",
      "[90]\ttrain's binary_logloss: 0.564415\tvalid's binary_logloss: 0.609803\n",
      "[100]\ttrain's binary_logloss: 0.557533\tvalid's binary_logloss: 0.60767\n",
      "[110]\ttrain's binary_logloss: 0.551526\tvalid's binary_logloss: 0.605486\n",
      "[120]\ttrain's binary_logloss: 0.545745\tvalid's binary_logloss: 0.603493\n",
      "[130]\ttrain's binary_logloss: 0.539733\tvalid's binary_logloss: 0.600767\n",
      "[140]\ttrain's binary_logloss: 0.534375\tvalid's binary_logloss: 0.599317\n",
      "[150]\ttrain's binary_logloss: 0.528826\tvalid's binary_logloss: 0.597953\n",
      "[160]\ttrain's binary_logloss: 0.523724\tvalid's binary_logloss: 0.597863\n",
      "[170]\ttrain's binary_logloss: 0.519543\tvalid's binary_logloss: 0.597726\n",
      "[180]\ttrain's binary_logloss: 0.515248\tvalid's binary_logloss: 0.597848\n",
      "[190]\ttrain's binary_logloss: 0.51115\tvalid's binary_logloss: 0.597832\n",
      "[200]\ttrain's binary_logloss: 0.50767\tvalid's binary_logloss: 0.598532\n",
      "[210]\ttrain's binary_logloss: 0.504734\tvalid's binary_logloss: 0.599077\n",
      "[220]\ttrain's binary_logloss: 0.501161\tvalid's binary_logloss: 0.599384\n",
      "Early stopping, best iteration is:\n",
      "[171]\ttrain's binary_logloss: 0.519083\tvalid's binary_logloss: 0.597521\n"
     ]
    }
   ],
   "source": [
    "model = lgb.train(\n",
    "    params=best_params,\n",
    "    train_set=train_set,\n",
    "    num_boost_round=500,\n",
    "    valid_sets=[train_set, test_set],\n",
    "    valid_names=['train', 'valid'],\n",
    "    callbacks=[early_stopping_cb, lgb.log_evaluation(10)]\n",
    ")\n",
    "y_pred = model.predict(X_test)\n",
    "y_pred_binary = [1 if prob > 0.5 else 0 for prob in y_pred]"
   ]
  },
  {
   "cell_type": "code",
   "execution_count": 19,
   "metadata": {},
   "outputs": [
    {
     "name": "stdout",
     "output_type": "stream",
     "text": [
      "              precision    recall  f1-score   support\n",
      "\n",
      "           0       0.73      0.69      0.71       200\n",
      "           1       0.70      0.74      0.72       197\n",
      "\n",
      "    accuracy                           0.72       397\n",
      "   macro avg       0.72      0.72      0.72       397\n",
      "weighted avg       0.72      0.72      0.72       397\n",
      "\n"
     ]
    }
   ],
   "source": [
    "print(classification_report(y_test, y_pred_binary))"
   ]
  }
 ],
 "metadata": {
  "ExecuteTimeLog": [
   {
    "duration": 1476,
    "start_time": "2022-12-27T20:59:27.668Z"
   },
   {
    "duration": 155,
    "start_time": "2022-12-27T20:59:39.941Z"
   },
   {
    "duration": 5,
    "start_time": "2022-12-27T20:59:47.270Z"
   },
   {
    "duration": 9,
    "start_time": "2022-12-27T20:59:56.274Z"
   },
   {
    "duration": 10,
    "start_time": "2022-12-27T21:00:07.599Z"
   },
   {
    "duration": 251,
    "start_time": "2022-12-27T21:00:44.875Z"
   },
   {
    "duration": 301,
    "start_time": "2022-12-27T21:02:13.897Z"
   },
   {
    "duration": 238,
    "start_time": "2022-12-27T21:02:20.849Z"
   },
   {
    "duration": 230,
    "start_time": "2022-12-27T21:02:27.654Z"
   },
   {
    "duration": 217,
    "start_time": "2022-12-27T21:02:38.139Z"
   },
   {
    "duration": 225,
    "start_time": "2022-12-27T21:02:45.905Z"
   },
   {
    "duration": 6,
    "start_time": "2022-12-27T21:10:10.358Z"
   },
   {
    "duration": 111,
    "start_time": "2022-12-27T21:10:12.170Z"
   },
   {
    "duration": 10,
    "start_time": "2022-12-27T21:10:17.463Z"
   },
   {
    "duration": 190,
    "start_time": "2022-12-27T21:11:10.968Z"
   },
   {
    "duration": 291,
    "start_time": "2022-12-27T21:13:12.013Z"
   },
   {
    "duration": 212,
    "start_time": "2022-12-27T21:13:28.727Z"
   },
   {
    "duration": 49,
    "start_time": "2022-12-27T21:13:46.907Z"
   },
   {
    "duration": 227,
    "start_time": "2022-12-27T21:13:50.879Z"
   },
   {
    "duration": 198,
    "start_time": "2022-12-27T21:14:00.906Z"
   },
   {
    "duration": 9,
    "start_time": "2022-12-27T21:14:25.329Z"
   },
   {
    "duration": 11,
    "start_time": "2022-12-27T21:15:04.670Z"
   },
   {
    "duration": 4,
    "start_time": "2022-12-27T21:15:58.509Z"
   },
   {
    "duration": 45,
    "start_time": "2022-12-27T21:16:00.287Z"
   },
   {
    "duration": 570,
    "start_time": "2022-12-27T21:16:04.630Z"
   },
   {
    "duration": 673,
    "start_time": "2022-12-27T21:16:18.508Z"
   },
   {
    "duration": 185,
    "start_time": "2022-12-27T21:16:25.788Z"
   },
   {
    "duration": 10,
    "start_time": "2022-12-27T21:16:31.059Z"
   },
   {
    "duration": 4,
    "start_time": "2022-12-27T21:16:46.980Z"
   },
   {
    "duration": 46,
    "start_time": "2022-12-27T21:16:47.413Z"
   },
   {
    "duration": 193,
    "start_time": "2022-12-27T21:16:50.583Z"
   },
   {
    "duration": 565,
    "start_time": "2022-12-27T21:16:51.306Z"
   },
   {
    "duration": 322,
    "start_time": "2022-12-27T21:16:54.952Z"
   },
   {
    "duration": 17,
    "start_time": "2022-12-27T21:18:46.138Z"
   },
   {
    "duration": 4,
    "start_time": "2022-12-27T21:19:36.140Z"
   },
   {
    "duration": 54,
    "start_time": "2022-12-27T21:19:36.604Z"
   },
   {
    "duration": 17,
    "start_time": "2022-12-27T21:19:42.868Z"
   },
   {
    "duration": 11,
    "start_time": "2022-12-27T21:19:51.255Z"
   },
   {
    "duration": 908,
    "start_time": "2022-12-27T21:21:25.125Z"
   },
   {
    "duration": 854,
    "start_time": "2022-12-27T21:21:59.919Z"
   },
   {
    "duration": 604,
    "start_time": "2022-12-27T22:09:29.827Z"
   },
   {
    "duration": 4,
    "start_time": "2022-12-27T22:24:17.255Z"
   },
   {
    "duration": 180,
    "start_time": "2022-12-27T22:33:52.178Z"
   },
   {
    "duration": 13,
    "start_time": "2022-12-27T22:35:18.869Z"
   },
   {
    "duration": 1354,
    "start_time": "2022-12-27T22:35:33.777Z"
   },
   {
    "duration": 3,
    "start_time": "2022-12-27T22:35:58.195Z"
   },
   {
    "duration": 7,
    "start_time": "2022-12-27T22:42:28.439Z"
   },
   {
    "duration": 249,
    "start_time": "2022-12-27T22:42:55.213Z"
   },
   {
    "duration": 145,
    "start_time": "2022-12-27T22:43:41.490Z"
   },
   {
    "duration": 208,
    "start_time": "2022-12-27T22:44:30.858Z"
   },
   {
    "duration": 239,
    "start_time": "2022-12-27T22:44:39.720Z"
   },
   {
    "duration": 223,
    "start_time": "2022-12-27T22:46:05.941Z"
   },
   {
    "duration": 257,
    "start_time": "2022-12-27T22:46:17.397Z"
   },
   {
    "duration": 139,
    "start_time": "2022-12-27T22:48:20.815Z"
   },
   {
    "duration": 371,
    "start_time": "2022-12-27T22:48:32.951Z"
   },
   {
    "duration": 234,
    "start_time": "2022-12-27T22:48:47.432Z"
   },
   {
    "duration": 285,
    "start_time": "2022-12-27T22:48:52.704Z"
   },
   {
    "duration": 257,
    "start_time": "2022-12-27T22:49:03.428Z"
   },
   {
    "duration": 219,
    "start_time": "2022-12-27T22:49:10.045Z"
   },
   {
    "duration": 223,
    "start_time": "2022-12-27T22:51:01.947Z"
   },
   {
    "duration": 249,
    "start_time": "2022-12-27T22:51:08.221Z"
   },
   {
    "duration": 198,
    "start_time": "2022-12-27T22:51:14.366Z"
   },
   {
    "duration": 324,
    "start_time": "2022-12-27T22:51:22.323Z"
   },
   {
    "duration": 334,
    "start_time": "2022-12-27T22:51:29.307Z"
   },
   {
    "duration": 268,
    "start_time": "2022-12-27T22:51:40.825Z"
   },
   {
    "duration": 278,
    "start_time": "2022-12-27T22:53:34.475Z"
   },
   {
    "duration": 232,
    "start_time": "2022-12-27T22:53:41.738Z"
   },
   {
    "duration": 256,
    "start_time": "2022-12-27T22:55:28.586Z"
   },
   {
    "duration": 12,
    "start_time": "2022-12-27T22:58:01.676Z"
   },
   {
    "duration": 311,
    "start_time": "2022-12-27T23:00:06.345Z"
   },
   {
    "duration": 248,
    "start_time": "2022-12-27T23:00:20.531Z"
   },
   {
    "duration": 262,
    "start_time": "2022-12-27T23:00:28.305Z"
   },
   {
    "duration": 224,
    "start_time": "2022-12-27T23:04:48.552Z"
   },
   {
    "duration": 809,
    "start_time": "2022-12-27T23:05:15.162Z"
   },
   {
    "duration": 4083,
    "start_time": "2022-12-27T23:05:21.044Z"
   },
   {
    "duration": 2633,
    "start_time": "2022-12-27T23:05:40.005Z"
   },
   {
    "duration": 485,
    "start_time": "2022-12-27T23:05:50.400Z"
   },
   {
    "duration": 2796,
    "start_time": "2022-12-27T23:06:04.279Z"
   },
   {
    "duration": 4181,
    "start_time": "2022-12-27T23:06:15.504Z"
   },
   {
    "duration": 13595,
    "start_time": "2022-12-27T23:06:39.665Z"
   },
   {
    "duration": 12296,
    "start_time": "2022-12-27T23:07:08.504Z"
   },
   {
    "duration": 16729,
    "start_time": "2022-12-27T23:07:31.688Z"
   },
   {
    "duration": 154,
    "start_time": "2022-12-27T23:09:00.171Z"
   },
   {
    "duration": 115,
    "start_time": "2022-12-27T23:12:07.259Z"
   },
   {
    "duration": 125,
    "start_time": "2022-12-27T23:12:18.931Z"
   },
   {
    "duration": 15979,
    "start_time": "2022-12-27T23:13:03.020Z"
   },
   {
    "duration": 15160,
    "start_time": "2022-12-27T23:13:56.747Z"
   },
   {
    "duration": 103,
    "start_time": "2022-12-27T23:16:38.869Z"
   },
   {
    "duration": 6,
    "start_time": "2022-12-27T23:19:38.702Z"
   },
   {
    "duration": 562,
    "start_time": "2022-12-27T23:20:11.377Z"
   },
   {
    "duration": 333,
    "start_time": "2022-12-27T23:20:23.202Z"
   },
   {
    "duration": 306,
    "start_time": "2022-12-27T23:20:28.766Z"
   },
   {
    "duration": 250,
    "start_time": "2022-12-27T23:20:35.950Z"
   },
   {
    "duration": 299,
    "start_time": "2022-12-27T23:20:44.113Z"
   },
   {
    "duration": 297,
    "start_time": "2022-12-27T23:22:22.309Z"
   },
   {
    "duration": 266,
    "start_time": "2022-12-27T23:22:32.717Z"
   },
   {
    "duration": 271,
    "start_time": "2022-12-27T23:22:42.111Z"
   },
   {
    "duration": 242,
    "start_time": "2022-12-27T23:23:17.441Z"
   },
   {
    "duration": 1624,
    "start_time": "2022-12-27T23:43:25.099Z"
   },
   {
    "duration": 73,
    "start_time": "2022-12-27T23:55:23.216Z"
   },
   {
    "duration": 74,
    "start_time": "2022-12-27T23:55:33.823Z"
   },
   {
    "duration": 2544,
    "start_time": "2022-12-27T23:55:41.773Z"
   },
   {
    "duration": 12,
    "start_time": "2022-12-28T10:21:28.967Z"
   },
   {
    "duration": 6,
    "start_time": "2022-12-28T10:22:49.697Z"
   },
   {
    "duration": 6,
    "start_time": "2022-12-28T10:22:56.388Z"
   },
   {
    "duration": 45,
    "start_time": "2022-12-28T10:29:13.608Z"
   },
   {
    "duration": 7,
    "start_time": "2022-12-28T10:29:36.229Z"
   },
   {
    "duration": 1992,
    "start_time": "2022-12-28T10:29:44.214Z"
   },
   {
    "duration": 199,
    "start_time": "2022-12-28T10:29:46.209Z"
   },
   {
    "duration": 7,
    "start_time": "2022-12-28T10:29:46.411Z"
   },
   {
    "duration": 16,
    "start_time": "2022-12-28T10:29:46.420Z"
   },
   {
    "duration": 24,
    "start_time": "2022-12-28T10:29:46.438Z"
   },
   {
    "duration": 5,
    "start_time": "2022-12-28T10:29:46.728Z"
   },
   {
    "duration": 12,
    "start_time": "2022-12-28T10:29:47.033Z"
   },
   {
    "duration": 293,
    "start_time": "2022-12-28T10:29:47.293Z"
   },
   {
    "duration": 261,
    "start_time": "2022-12-28T10:29:47.588Z"
   },
   {
    "duration": 663,
    "start_time": "2022-12-28T10:29:47.851Z"
   },
   {
    "duration": 6,
    "start_time": "2022-12-28T10:29:48.516Z"
   },
   {
    "duration": 999,
    "start_time": "2022-12-28T10:29:48.524Z"
   },
   {
    "duration": 603,
    "start_time": "2022-12-28T10:29:49.525Z"
   },
   {
    "duration": 1524,
    "start_time": "2022-12-28T10:29:50.180Z"
   },
   {
    "duration": 379,
    "start_time": "2022-12-28T10:29:51.798Z"
   },
   {
    "duration": 9,
    "start_time": "2022-12-28T10:29:54.141Z"
   },
   {
    "duration": 120,
    "start_time": "2022-12-28T10:29:54.813Z"
   },
   {
    "duration": 7,
    "start_time": "2022-12-28T10:31:01.292Z"
   },
   {
    "duration": 32,
    "start_time": "2022-12-28T10:31:02.773Z"
   },
   {
    "duration": 3,
    "start_time": "2022-12-28T10:34:58.971Z"
   },
   {
    "duration": 7,
    "start_time": "2022-12-28T10:34:59.392Z"
   },
   {
    "duration": 33,
    "start_time": "2022-12-28T10:35:00.879Z"
   },
   {
    "duration": 34,
    "start_time": "2022-12-28T10:35:08.827Z"
   },
   {
    "duration": 38,
    "start_time": "2022-12-28T10:42:04.013Z"
   },
   {
    "duration": 35,
    "start_time": "2022-12-28T10:42:04.545Z"
   },
   {
    "duration": 15,
    "start_time": "2022-12-28T10:43:35.918Z"
   },
   {
    "duration": 29,
    "start_time": "2022-12-28T10:43:51.209Z"
   },
   {
    "duration": 6,
    "start_time": "2022-12-28T10:45:53.457Z"
   },
   {
    "duration": 29,
    "start_time": "2022-12-28T10:45:54.670Z"
   },
   {
    "duration": 34,
    "start_time": "2022-12-28T10:45:55.310Z"
   },
   {
    "duration": 384,
    "start_time": "2022-12-28T10:46:02.908Z"
   },
   {
    "duration": 378,
    "start_time": "2022-12-28T10:46:29.247Z"
   },
   {
    "duration": 3,
    "start_time": "2022-12-28T10:48:11.874Z"
   },
   {
    "duration": 6,
    "start_time": "2022-12-28T10:48:14.968Z"
   },
   {
    "duration": 28,
    "start_time": "2022-12-28T10:48:15.605Z"
   },
   {
    "duration": 34,
    "start_time": "2022-12-28T10:48:16.305Z"
   },
   {
    "duration": 3,
    "start_time": "2022-12-28T10:55:15.361Z"
   },
   {
    "duration": 136,
    "start_time": "2022-12-28T10:56:51.965Z"
   },
   {
    "duration": 187,
    "start_time": "2022-12-28T10:58:44.212Z"
   },
   {
    "duration": 6,
    "start_time": "2022-12-28T10:58:44.774Z"
   },
   {
    "duration": 197,
    "start_time": "2022-12-28T10:58:52.435Z"
   },
   {
    "duration": 39,
    "start_time": "2022-12-28T11:03:53.062Z"
   },
   {
    "duration": 22,
    "start_time": "2022-12-28T11:04:11.914Z"
   },
   {
    "duration": 10,
    "start_time": "2022-12-28T11:04:15.570Z"
   },
   {
    "duration": 5,
    "start_time": "2022-12-28T11:04:16.029Z"
   },
   {
    "duration": 31,
    "start_time": "2022-12-28T11:04:45.380Z"
   },
   {
    "duration": 51,
    "start_time": "2022-12-28T11:04:53.153Z"
   },
   {
    "duration": 14,
    "start_time": "2022-12-28T11:05:22.215Z"
   },
   {
    "duration": 37,
    "start_time": "2022-12-28T11:05:22.779Z"
   },
   {
    "duration": 6,
    "start_time": "2022-12-28T11:05:50.510Z"
   },
   {
    "duration": 39,
    "start_time": "2022-12-28T11:05:57.777Z"
   },
   {
    "duration": 149,
    "start_time": "2022-12-28T13:41:14.437Z"
   },
   {
    "duration": 9,
    "start_time": "2022-12-28T13:41:27.534Z"
   },
   {
    "duration": 481,
    "start_time": "2022-12-28T13:42:01.231Z"
   },
   {
    "duration": 420,
    "start_time": "2022-12-28T13:42:38.426Z"
   },
   {
    "duration": 7,
    "start_time": "2022-12-28T13:43:06.822Z"
   },
   {
    "duration": 12,
    "start_time": "2022-12-28T13:43:08.127Z"
   },
   {
    "duration": 8,
    "start_time": "2022-12-28T13:43:20.867Z"
   },
   {
    "duration": 5,
    "start_time": "2022-12-28T13:43:21.276Z"
   },
   {
    "duration": 137,
    "start_time": "2022-12-28T13:43:39.860Z"
   },
   {
    "duration": 5,
    "start_time": "2022-12-28T13:43:40.355Z"
   },
   {
    "duration": 4,
    "start_time": "2022-12-28T13:44:35.850Z"
   },
   {
    "duration": 69,
    "start_time": "2022-12-28T13:44:40.345Z"
   },
   {
    "duration": 5,
    "start_time": "2022-12-28T13:44:40.929Z"
   },
   {
    "duration": 7,
    "start_time": "2022-12-28T13:45:24.743Z"
   },
   {
    "duration": 15,
    "start_time": "2022-12-28T13:45:56.572Z"
   },
   {
    "duration": 12,
    "start_time": "2022-12-28T13:46:06.638Z"
   },
   {
    "duration": 16,
    "start_time": "2022-12-28T13:46:18.684Z"
   },
   {
    "duration": 5,
    "start_time": "2022-12-28T13:46:40.836Z"
   },
   {
    "duration": 63,
    "start_time": "2022-12-28T13:46:41.225Z"
   },
   {
    "duration": 5,
    "start_time": "2022-12-28T13:46:41.532Z"
   },
   {
    "duration": 10,
    "start_time": "2022-12-28T13:46:41.755Z"
   },
   {
    "duration": 11,
    "start_time": "2022-12-28T13:46:41.981Z"
   },
   {
    "duration": 5,
    "start_time": "2022-12-28T13:46:42.929Z"
   },
   {
    "duration": 24,
    "start_time": "2022-12-28T13:46:43.184Z"
   },
   {
    "duration": 266,
    "start_time": "2022-12-28T13:46:43.440Z"
   },
   {
    "duration": 303,
    "start_time": "2022-12-28T13:46:43.760Z"
   },
   {
    "duration": 785,
    "start_time": "2022-12-28T13:46:44.066Z"
   },
   {
    "duration": 7,
    "start_time": "2022-12-28T13:46:44.853Z"
   },
   {
    "duration": 918,
    "start_time": "2022-12-28T13:46:44.862Z"
   },
   {
    "duration": 684,
    "start_time": "2022-12-28T13:46:45.783Z"
   },
   {
    "duration": 4650,
    "start_time": "2022-12-28T13:46:46.469Z"
   },
   {
    "duration": 388,
    "start_time": "2022-12-28T13:46:51.201Z"
   },
   {
    "duration": 4,
    "start_time": "2022-12-28T13:46:51.592Z"
   },
   {
    "duration": 26,
    "start_time": "2022-12-28T13:46:51.598Z"
   },
   {
    "duration": 9,
    "start_time": "2022-12-28T13:46:51.626Z"
   },
   {
    "duration": 36,
    "start_time": "2022-12-28T13:46:51.636Z"
   },
   {
    "duration": 37,
    "start_time": "2022-12-28T13:46:51.861Z"
   },
   {
    "duration": 34,
    "start_time": "2022-12-28T13:46:53.569Z"
   },
   {
    "duration": 44,
    "start_time": "2022-12-28T13:46:54.671Z"
   },
   {
    "duration": 29,
    "start_time": "2022-12-28T13:47:01.821Z"
   },
   {
    "duration": 68,
    "start_time": "2022-12-28T13:47:09.332Z"
   },
   {
    "duration": 6,
    "start_time": "2022-12-28T13:47:10.081Z"
   },
   {
    "duration": 197,
    "start_time": "2022-12-28T13:47:12.844Z"
   },
   {
    "duration": 26,
    "start_time": "2022-12-28T13:47:29.334Z"
   },
   {
    "duration": 1919,
    "start_time": "2022-12-28T13:55:56.715Z"
   },
   {
    "duration": 54,
    "start_time": "2022-12-28T13:55:58.636Z"
   },
   {
    "duration": 6,
    "start_time": "2022-12-28T13:55:58.691Z"
   },
   {
    "duration": 16,
    "start_time": "2022-12-28T13:55:58.700Z"
   },
   {
    "duration": 38,
    "start_time": "2022-12-28T13:55:58.718Z"
   },
   {
    "duration": 6,
    "start_time": "2022-12-28T13:55:59.150Z"
   },
   {
    "duration": 18,
    "start_time": "2022-12-28T13:55:59.437Z"
   },
   {
    "duration": 299,
    "start_time": "2022-12-28T13:55:59.724Z"
   },
   {
    "duration": 283,
    "start_time": "2022-12-28T13:56:00.025Z"
   },
   {
    "duration": 700,
    "start_time": "2022-12-28T13:56:00.310Z"
   },
   {
    "duration": 8,
    "start_time": "2022-12-28T13:56:01.012Z"
   },
   {
    "duration": 1063,
    "start_time": "2022-12-28T13:56:01.022Z"
   },
   {
    "duration": 689,
    "start_time": "2022-12-28T13:56:02.088Z"
   },
   {
    "duration": 1231,
    "start_time": "2022-12-28T13:56:02.779Z"
   },
   {
    "duration": 285,
    "start_time": "2022-12-28T13:56:07.625Z"
   },
   {
    "duration": 3,
    "start_time": "2022-12-28T13:56:10.521Z"
   },
   {
    "duration": 4,
    "start_time": "2022-12-28T13:56:10.999Z"
   },
   {
    "duration": 6,
    "start_time": "2022-12-28T13:56:13.109Z"
   },
   {
    "duration": 26,
    "start_time": "2022-12-28T13:56:14.193Z"
   },
   {
    "duration": 47,
    "start_time": "2022-12-28T13:56:15.113Z"
   },
   {
    "duration": 34,
    "start_time": "2022-12-28T13:56:19.369Z"
   },
   {
    "duration": 25,
    "start_time": "2022-12-28T13:56:19.968Z"
   },
   {
    "duration": 27,
    "start_time": "2022-12-28T13:56:27.425Z"
   },
   {
    "duration": 123,
    "start_time": "2022-12-28T13:56:30.685Z"
   },
   {
    "duration": 5,
    "start_time": "2022-12-28T13:56:31.158Z"
   },
   {
    "duration": 10,
    "start_time": "2022-12-28T21:28:18.398Z"
   },
   {
    "duration": 51,
    "start_time": "2022-12-28T21:28:19.484Z"
   },
   {
    "duration": 1987,
    "start_time": "2022-12-28T21:28:29.780Z"
   },
   {
    "duration": 112,
    "start_time": "2022-12-28T21:28:31.769Z"
   },
   {
    "duration": 5,
    "start_time": "2022-12-28T21:28:31.883Z"
   },
   {
    "duration": 11,
    "start_time": "2022-12-28T21:28:31.889Z"
   },
   {
    "duration": 10,
    "start_time": "2022-12-28T21:28:32.182Z"
   },
   {
    "duration": 4,
    "start_time": "2022-12-28T21:28:33.840Z"
   },
   {
    "duration": 12,
    "start_time": "2022-12-28T21:28:34.224Z"
   },
   {
    "duration": 377,
    "start_time": "2022-12-28T21:28:34.644Z"
   },
   {
    "duration": 231,
    "start_time": "2022-12-28T21:28:35.074Z"
   },
   {
    "duration": 645,
    "start_time": "2022-12-28T21:28:35.476Z"
   },
   {
    "duration": 7,
    "start_time": "2022-12-28T21:28:36.124Z"
   },
   {
    "duration": 957,
    "start_time": "2022-12-28T21:28:36.299Z"
   },
   {
    "duration": 562,
    "start_time": "2022-12-28T21:28:37.487Z"
   },
   {
    "duration": 1767,
    "start_time": "2022-12-28T21:28:38.916Z"
   },
   {
    "duration": 269,
    "start_time": "2022-12-28T21:28:41.300Z"
   },
   {
    "duration": 3,
    "start_time": "2022-12-28T21:28:44.084Z"
   },
   {
    "duration": 2,
    "start_time": "2022-12-28T21:28:44.640Z"
   },
   {
    "duration": 6,
    "start_time": "2022-12-28T21:28:45.691Z"
   },
   {
    "duration": 807,
    "start_time": "2022-12-28T21:28:47.344Z"
   },
   {
    "duration": 1681,
    "start_time": "2022-12-28T21:31:33.847Z"
   },
   {
    "duration": 67,
    "start_time": "2022-12-28T21:31:35.530Z"
   },
   {
    "duration": 5,
    "start_time": "2022-12-28T21:31:35.599Z"
   },
   {
    "duration": 10,
    "start_time": "2022-12-28T21:31:35.606Z"
   },
   {
    "duration": 10,
    "start_time": "2022-12-28T21:31:35.618Z"
   },
   {
    "duration": 5,
    "start_time": "2022-12-28T21:31:36.320Z"
   },
   {
    "duration": 12,
    "start_time": "2022-12-28T21:31:36.528Z"
   },
   {
    "duration": 239,
    "start_time": "2022-12-28T21:31:36.751Z"
   },
   {
    "duration": 210,
    "start_time": "2022-12-28T21:31:36.991Z"
   },
   {
    "duration": 599,
    "start_time": "2022-12-28T21:31:37.202Z"
   },
   {
    "duration": 6,
    "start_time": "2022-12-28T21:31:37.803Z"
   },
   {
    "duration": 891,
    "start_time": "2022-12-28T21:31:37.810Z"
   },
   {
    "duration": 567,
    "start_time": "2022-12-28T21:31:38.702Z"
   },
   {
    "duration": 3205,
    "start_time": "2022-12-28T21:31:39.271Z"
   },
   {
    "duration": 404,
    "start_time": "2022-12-28T21:31:42.480Z"
   },
   {
    "duration": 4,
    "start_time": "2022-12-28T21:31:43.054Z"
   },
   {
    "duration": 3,
    "start_time": "2022-12-28T21:31:43.871Z"
   },
   {
    "duration": 9,
    "start_time": "2022-12-28T21:31:45.417Z"
   },
   {
    "duration": 828,
    "start_time": "2022-12-28T21:31:48.863Z"
   },
   {
    "duration": 5,
    "start_time": "2022-12-28T21:32:24.050Z"
   },
   {
    "duration": 894,
    "start_time": "2022-12-28T21:32:26.546Z"
   },
   {
    "duration": 7,
    "start_time": "2022-12-28T21:33:00.071Z"
   },
   {
    "duration": 752,
    "start_time": "2022-12-28T21:33:00.983Z"
   },
   {
    "duration": 9,
    "start_time": "2022-12-28T21:33:34.884Z"
   },
   {
    "duration": 26,
    "start_time": "2022-12-28T21:33:35.419Z"
   },
   {
    "duration": 42,
    "start_time": "2022-12-28T21:33:38.917Z"
   },
   {
    "duration": 6,
    "start_time": "2022-12-28T21:33:50.924Z"
   },
   {
    "duration": 705,
    "start_time": "2022-12-28T21:33:51.452Z"
   },
   {
    "duration": 6,
    "start_time": "2022-12-28T21:37:18.881Z"
   },
   {
    "duration": 710,
    "start_time": "2022-12-28T21:37:19.528Z"
   },
   {
    "duration": 5,
    "start_time": "2022-12-28T21:39:04.263Z"
   },
   {
    "duration": 774,
    "start_time": "2022-12-28T21:39:04.819Z"
   },
   {
    "duration": 4,
    "start_time": "2022-12-28T21:42:00.635Z"
   },
   {
    "duration": 4,
    "start_time": "2022-12-28T21:44:24.574Z"
   },
   {
    "duration": 27,
    "start_time": "2022-12-28T21:44:25.370Z"
   },
   {
    "duration": 35,
    "start_time": "2022-12-28T21:44:33.164Z"
   },
   {
    "duration": 4,
    "start_time": "2022-12-28T21:45:17.179Z"
   },
   {
    "duration": 20,
    "start_time": "2022-12-28T21:45:17.738Z"
   },
   {
    "duration": 31,
    "start_time": "2022-12-28T21:45:21.939Z"
   },
   {
    "duration": 1701,
    "start_time": "2022-12-28T21:45:45.875Z"
   },
   {
    "duration": 56,
    "start_time": "2022-12-28T21:45:47.578Z"
   },
   {
    "duration": 6,
    "start_time": "2022-12-28T21:45:47.636Z"
   },
   {
    "duration": 11,
    "start_time": "2022-12-28T21:45:47.644Z"
   },
   {
    "duration": 20,
    "start_time": "2022-12-28T21:45:47.656Z"
   },
   {
    "duration": 5,
    "start_time": "2022-12-28T21:45:47.678Z"
   },
   {
    "duration": 14,
    "start_time": "2022-12-28T21:45:47.842Z"
   },
   {
    "duration": 259,
    "start_time": "2022-12-28T21:45:48.020Z"
   },
   {
    "duration": 231,
    "start_time": "2022-12-28T21:45:48.281Z"
   },
   {
    "duration": 667,
    "start_time": "2022-12-28T21:45:48.514Z"
   },
   {
    "duration": 7,
    "start_time": "2022-12-28T21:45:49.183Z"
   },
   {
    "duration": 909,
    "start_time": "2022-12-28T21:45:49.192Z"
   },
   {
    "duration": 538,
    "start_time": "2022-12-28T21:45:50.103Z"
   },
   {
    "duration": 3737,
    "start_time": "2022-12-28T21:45:50.643Z"
   },
   {
    "duration": 367,
    "start_time": "2022-12-28T21:45:54.384Z"
   },
   {
    "duration": 4,
    "start_time": "2022-12-28T21:45:54.753Z"
   },
   {
    "duration": 27,
    "start_time": "2022-12-28T21:45:54.759Z"
   },
   {
    "duration": 4,
    "start_time": "2022-12-28T21:45:58.332Z"
   },
   {
    "duration": 31,
    "start_time": "2022-12-28T21:45:58.924Z"
   },
   {
    "duration": 50,
    "start_time": "2022-12-28T21:46:04.893Z"
   },
   {
    "duration": 149,
    "start_time": "2022-12-28T21:46:31.641Z"
   },
   {
    "duration": 5,
    "start_time": "2022-12-28T21:47:08.141Z"
   },
   {
    "duration": 29,
    "start_time": "2022-12-28T21:47:08.773Z"
   },
   {
    "duration": 1685,
    "start_time": "2022-12-28T21:49:30.168Z"
   },
   {
    "duration": 47,
    "start_time": "2022-12-28T21:49:31.854Z"
   },
   {
    "duration": 6,
    "start_time": "2022-12-28T21:49:31.903Z"
   },
   {
    "duration": 89,
    "start_time": "2022-12-28T21:49:31.910Z"
   },
   {
    "duration": 72,
    "start_time": "2022-12-28T21:49:32.000Z"
   },
   {
    "duration": 61,
    "start_time": "2022-12-28T21:49:32.074Z"
   },
   {
    "duration": 67,
    "start_time": "2022-12-28T21:49:32.137Z"
   },
   {
    "duration": 249,
    "start_time": "2022-12-28T21:49:32.635Z"
   },
   {
    "duration": 216,
    "start_time": "2022-12-28T21:49:32.885Z"
   },
   {
    "duration": 614,
    "start_time": "2022-12-28T21:49:33.103Z"
   },
   {
    "duration": 6,
    "start_time": "2022-12-28T21:49:33.719Z"
   },
   {
    "duration": 879,
    "start_time": "2022-12-28T21:49:33.727Z"
   },
   {
    "duration": 607,
    "start_time": "2022-12-28T21:49:34.608Z"
   },
   {
    "duration": 2060,
    "start_time": "2022-12-28T21:49:35.217Z"
   },
   {
    "duration": 362,
    "start_time": "2022-12-28T21:49:37.285Z"
   },
   {
    "duration": 3,
    "start_time": "2022-12-28T21:49:41.004Z"
   },
   {
    "duration": 3,
    "start_time": "2022-12-28T21:49:41.533Z"
   },
   {
    "duration": 6,
    "start_time": "2022-12-28T21:49:42.272Z"
   },
   {
    "duration": 35,
    "start_time": "2022-12-28T21:49:48.333Z"
   },
   {
    "duration": 31,
    "start_time": "2022-12-28T21:50:56.933Z"
   },
   {
    "duration": 32,
    "start_time": "2022-12-28T21:51:40.833Z"
   },
   {
    "duration": 26,
    "start_time": "2022-12-28T21:51:42.133Z"
   },
   {
    "duration": 18,
    "start_time": "2022-12-28T21:52:07.576Z"
   },
   {
    "duration": 43,
    "start_time": "2022-12-28T21:52:08.221Z"
   },
   {
    "duration": 97,
    "start_time": "2022-12-28T21:52:22.880Z"
   },
   {
    "duration": 7,
    "start_time": "2022-12-28T21:52:24.069Z"
   },
   {
    "duration": 131,
    "start_time": "2022-12-28T21:52:26.683Z"
   },
   {
    "duration": 189,
    "start_time": "2022-12-28T21:53:19.441Z"
   },
   {
    "duration": 25,
    "start_time": "2022-12-28T21:53:40.662Z"
   },
   {
    "duration": 25,
    "start_time": "2022-12-28T21:53:45.458Z"
   },
   {
    "duration": 5,
    "start_time": "2022-12-28T21:53:46.286Z"
   },
   {
    "duration": 196,
    "start_time": "2022-12-28T21:53:47.647Z"
   },
   {
    "duration": 1688,
    "start_time": "2022-12-28T21:54:37.762Z"
   },
   {
    "duration": 50,
    "start_time": "2022-12-28T21:54:39.451Z"
   },
   {
    "duration": 6,
    "start_time": "2022-12-28T21:54:39.502Z"
   },
   {
    "duration": 29,
    "start_time": "2022-12-28T21:54:39.509Z"
   },
   {
    "duration": 25,
    "start_time": "2022-12-28T21:54:39.540Z"
   },
   {
    "duration": 4,
    "start_time": "2022-12-28T21:54:40.899Z"
   },
   {
    "duration": 12,
    "start_time": "2022-12-28T21:54:41.172Z"
   },
   {
    "duration": 241,
    "start_time": "2022-12-28T21:54:41.478Z"
   },
   {
    "duration": 228,
    "start_time": "2022-12-28T21:54:41.854Z"
   },
   {
    "duration": 618,
    "start_time": "2022-12-28T21:54:42.191Z"
   },
   {
    "duration": 7,
    "start_time": "2022-12-28T21:54:42.811Z"
   },
   {
    "duration": 903,
    "start_time": "2022-12-28T21:54:42.934Z"
   },
   {
    "duration": 577,
    "start_time": "2022-12-28T21:54:43.839Z"
   },
   {
    "duration": 2178,
    "start_time": "2022-12-28T21:54:44.899Z"
   },
   {
    "duration": 364,
    "start_time": "2022-12-28T21:54:47.080Z"
   },
   {
    "duration": 3,
    "start_time": "2022-12-28T21:54:47.502Z"
   },
   {
    "duration": 3,
    "start_time": "2022-12-28T21:54:47.886Z"
   },
   {
    "duration": 4,
    "start_time": "2022-12-28T21:54:48.295Z"
   },
   {
    "duration": 30,
    "start_time": "2022-12-28T21:54:48.687Z"
   },
   {
    "duration": 32,
    "start_time": "2022-12-28T21:54:49.360Z"
   },
   {
    "duration": 31,
    "start_time": "2022-12-28T21:54:50.971Z"
   },
   {
    "duration": 42,
    "start_time": "2022-12-28T21:55:00.537Z"
   },
   {
    "duration": 28,
    "start_time": "2022-12-28T21:55:16.272Z"
   },
   {
    "duration": 14,
    "start_time": "2022-12-28T21:56:09.001Z"
   },
   {
    "duration": 26,
    "start_time": "2022-12-28T21:56:09.585Z"
   },
   {
    "duration": 21,
    "start_time": "2022-12-28T21:56:15.368Z"
   },
   {
    "duration": 6,
    "start_time": "2022-12-28T21:56:15.936Z"
   },
   {
    "duration": 176,
    "start_time": "2022-12-28T21:56:17.813Z"
   },
   {
    "duration": 84,
    "start_time": "2022-12-28T21:56:58.994Z"
   },
   {
    "duration": 6,
    "start_time": "2022-12-28T21:57:00.073Z"
   },
   {
    "duration": 197,
    "start_time": "2022-12-28T21:57:03.154Z"
   },
   {
    "duration": 58,
    "start_time": "2022-12-28T21:59:51.725Z"
   },
   {
    "duration": 5,
    "start_time": "2022-12-28T21:59:54.201Z"
   },
   {
    "duration": 142,
    "start_time": "2022-12-28T22:01:47.604Z"
   },
   {
    "duration": 181,
    "start_time": "2022-12-28T22:03:31.526Z"
   },
   {
    "duration": 15,
    "start_time": "2022-12-28T22:03:55.047Z"
   },
   {
    "duration": 21,
    "start_time": "2022-12-28T22:05:52.956Z"
   },
   {
    "duration": 34,
    "start_time": "2022-12-28T22:05:53.600Z"
   },
   {
    "duration": 35,
    "start_time": "2022-12-28T22:05:56.734Z"
   },
   {
    "duration": 27,
    "start_time": "2022-12-28T22:05:57.578Z"
   },
   {
    "duration": 199,
    "start_time": "2022-12-28T22:05:59.578Z"
   },
   {
    "duration": 6,
    "start_time": "2022-12-28T22:06:01.962Z"
   },
   {
    "duration": 170,
    "start_time": "2022-12-28T22:06:11.850Z"
   },
   {
    "duration": 2,
    "start_time": "2022-12-28T22:07:01.007Z"
   },
   {
    "duration": 3,
    "start_time": "2022-12-28T22:07:21.325Z"
   },
   {
    "duration": 4,
    "start_time": "2022-12-28T22:07:33.251Z"
   },
   {
    "duration": 26243,
    "start_time": "2022-12-28T22:08:06.883Z"
   },
   {
    "duration": 4,
    "start_time": "2022-12-28T22:10:30.472Z"
   },
   {
    "duration": 2,
    "start_time": "2022-12-28T22:10:44.225Z"
   },
   {
    "duration": 3,
    "start_time": "2022-12-28T22:10:58.750Z"
   },
   {
    "duration": 93,
    "start_time": "2022-12-28T22:11:14.438Z"
   },
   {
    "duration": 21,
    "start_time": "2022-12-28T22:11:29.478Z"
   },
   {
    "duration": 6,
    "start_time": "2022-12-28T22:11:57.018Z"
   },
   {
    "duration": 183,
    "start_time": "2022-12-28T22:12:33.823Z"
   },
   {
    "duration": 171,
    "start_time": "2022-12-28T22:12:57.996Z"
   },
   {
    "duration": 27,
    "start_time": "2022-12-28T22:13:18.126Z"
   },
   {
    "duration": 26,
    "start_time": "2022-12-28T22:13:27.409Z"
   },
   {
    "duration": 6,
    "start_time": "2022-12-28T22:13:54.493Z"
   },
   {
    "duration": 6,
    "start_time": "2022-12-28T22:14:09.045Z"
   },
   {
    "duration": 22,
    "start_time": "2022-12-28T22:15:02.089Z"
   },
   {
    "duration": 6,
    "start_time": "2022-12-28T22:15:02.831Z"
   },
   {
    "duration": 5,
    "start_time": "2022-12-28T22:15:50.263Z"
   },
   {
    "duration": 23,
    "start_time": "2022-12-28T22:15:59.200Z"
   },
   {
    "duration": 6,
    "start_time": "2022-12-28T22:15:59.784Z"
   },
   {
    "duration": 140,
    "start_time": "2022-12-28T22:16:11.236Z"
   },
   {
    "duration": 5,
    "start_time": "2022-12-28T22:16:12.152Z"
   },
   {
    "duration": 79821,
    "start_time": "2022-12-28T22:17:02.361Z"
   },
   {
    "duration": 81606,
    "start_time": "2022-12-28T22:18:22.184Z"
   },
   {
    "duration": 84,
    "start_time": "2022-12-28T22:19:43.793Z"
   },
   {
    "duration": 8,
    "start_time": "2022-12-28T22:19:43.879Z"
   },
   {
    "duration": 8,
    "start_time": "2022-12-28T22:19:43.889Z"
   },
   {
    "duration": 71,
    "start_time": "2022-12-28T22:19:43.898Z"
   },
   {
    "duration": 16,
    "start_time": "2022-12-28T22:20:52.136Z"
   },
   {
    "duration": 6,
    "start_time": "2022-12-28T22:21:30.951Z"
   },
   {
    "duration": 196,
    "start_time": "2022-12-28T22:22:11.146Z"
   },
   {
    "duration": 2,
    "start_time": "2022-12-28T22:26:16.038Z"
   },
   {
    "duration": 4,
    "start_time": "2022-12-28T22:26:16.898Z"
   },
   {
    "duration": 29238,
    "start_time": "2022-12-28T22:26:18.153Z"
   },
   {
    "duration": 3,
    "start_time": "2022-12-28T22:26:47.393Z"
   },
   {
    "duration": 6,
    "start_time": "2022-12-28T22:26:47.397Z"
   },
   {
    "duration": 8,
    "start_time": "2022-12-28T22:26:47.405Z"
   },
   {
    "duration": 23,
    "start_time": "2022-12-28T22:26:47.414Z"
   },
   {
    "duration": 4,
    "start_time": "2022-12-28T22:26:47.439Z"
   },
   {
    "duration": 209,
    "start_time": "2022-12-28T22:26:47.445Z"
   },
   {
    "duration": 2,
    "start_time": "2022-12-28T22:28:51.254Z"
   },
   {
    "duration": 4,
    "start_time": "2022-12-28T22:28:51.934Z"
   },
   {
    "duration": 58405,
    "start_time": "2022-12-28T22:28:52.621Z"
   },
   {
    "duration": 4,
    "start_time": "2022-12-28T22:29:51.027Z"
   },
   {
    "duration": 17,
    "start_time": "2022-12-28T22:29:51.032Z"
   },
   {
    "duration": 7,
    "start_time": "2022-12-28T22:29:51.051Z"
   },
   {
    "duration": 44,
    "start_time": "2022-12-28T22:29:51.060Z"
   },
   {
    "duration": 6,
    "start_time": "2022-12-28T22:29:51.105Z"
   },
   {
    "duration": 207,
    "start_time": "2022-12-28T22:29:51.113Z"
   },
   {
    "duration": 86750,
    "start_time": "2022-12-28T22:32:24.142Z"
   },
   {
    "duration": 76591,
    "start_time": "2022-12-28T22:33:50.894Z"
   },
   {
    "duration": 4,
    "start_time": "2022-12-28T22:35:07.487Z"
   },
   {
    "duration": 7,
    "start_time": "2022-12-28T22:35:07.493Z"
   },
   {
    "duration": 12,
    "start_time": "2022-12-28T22:35:07.502Z"
   },
   {
    "duration": 67,
    "start_time": "2022-12-28T22:35:07.515Z"
   },
   {
    "duration": 5,
    "start_time": "2022-12-28T22:35:07.584Z"
   },
   {
    "duration": 245,
    "start_time": "2022-12-28T22:35:07.591Z"
   },
   {
    "duration": 5,
    "start_time": "2022-12-28T22:35:19.250Z"
   },
   {
    "duration": 46591,
    "start_time": "2022-12-28T22:35:20.902Z"
   },
   {
    "duration": 8,
    "start_time": "2022-12-28T22:37:41.253Z"
   },
   {
    "duration": 1722,
    "start_time": "2022-12-28T22:42:29.860Z"
   },
   {
    "duration": 49,
    "start_time": "2022-12-28T22:42:31.584Z"
   },
   {
    "duration": 6,
    "start_time": "2022-12-28T22:42:31.635Z"
   },
   {
    "duration": 18,
    "start_time": "2022-12-28T22:42:31.643Z"
   },
   {
    "duration": 16,
    "start_time": "2022-12-28T22:42:31.663Z"
   },
   {
    "duration": 4,
    "start_time": "2022-12-28T22:42:33.781Z"
   },
   {
    "duration": 14,
    "start_time": "2022-12-28T22:42:34.211Z"
   },
   {
    "duration": 317,
    "start_time": "2022-12-28T22:42:34.675Z"
   },
   {
    "duration": 249,
    "start_time": "2022-12-28T22:42:35.158Z"
   },
   {
    "duration": 678,
    "start_time": "2022-12-28T22:42:35.583Z"
   },
   {
    "duration": 6,
    "start_time": "2022-12-28T22:42:36.263Z"
   },
   {
    "duration": 979,
    "start_time": "2022-12-28T22:42:36.464Z"
   },
   {
    "duration": 612,
    "start_time": "2022-12-28T22:42:37.445Z"
   },
   {
    "duration": 2815,
    "start_time": "2022-12-28T22:42:38.772Z"
   },
   {
    "duration": 477,
    "start_time": "2022-12-28T22:42:41.590Z"
   },
   {
    "duration": 3,
    "start_time": "2022-12-28T22:42:42.077Z"
   },
   {
    "duration": 3,
    "start_time": "2022-12-28T22:42:42.535Z"
   },
   {
    "duration": 4,
    "start_time": "2022-12-28T22:42:43.023Z"
   },
   {
    "duration": 34,
    "start_time": "2022-12-28T22:42:43.536Z"
   },
   {
    "duration": 35,
    "start_time": "2022-12-28T22:42:44.108Z"
   },
   {
    "duration": 43,
    "start_time": "2022-12-28T22:42:45.372Z"
   },
   {
    "duration": 27,
    "start_time": "2022-12-28T22:42:45.900Z"
   },
   {
    "duration": 182,
    "start_time": "2022-12-28T22:42:46.999Z"
   },
   {
    "duration": 8,
    "start_time": "2022-12-28T22:42:47.495Z"
   },
   {
    "duration": 225,
    "start_time": "2022-12-28T22:42:48.047Z"
   },
   {
    "duration": 3,
    "start_time": "2022-12-28T22:42:49.112Z"
   },
   {
    "duration": 3,
    "start_time": "2022-12-28T22:42:49.584Z"
   },
   {
    "duration": 4,
    "start_time": "2022-12-28T22:42:50.028Z"
   },
   {
    "duration": 56002,
    "start_time": "2022-12-28T22:42:50.467Z"
   },
   {
    "duration": 4,
    "start_time": "2022-12-28T22:43:46.475Z"
   },
   {
    "duration": 5,
    "start_time": "2022-12-28T22:43:46.480Z"
   },
   {
    "duration": 5,
    "start_time": "2022-12-28T22:43:46.487Z"
   },
   {
    "duration": 38,
    "start_time": "2022-12-28T22:43:46.493Z"
   },
   {
    "duration": 6,
    "start_time": "2022-12-28T22:43:46.532Z"
   },
   {
    "duration": 205,
    "start_time": "2022-12-28T22:43:46.539Z"
   },
   {
    "duration": 71433,
    "start_time": "2022-12-28T22:43:46.745Z"
   },
   {
    "duration": 77716,
    "start_time": "2022-12-28T22:44:58.179Z"
   },
   {
    "duration": 4,
    "start_time": "2022-12-28T22:46:15.897Z"
   },
   {
    "duration": 3,
    "start_time": "2022-12-28T22:46:15.977Z"
   },
   {
    "duration": 19,
    "start_time": "2022-12-28T22:46:15.981Z"
   },
   {
    "duration": 25,
    "start_time": "2022-12-28T22:46:16.002Z"
   },
   {
    "duration": 50,
    "start_time": "2022-12-28T22:46:16.029Z"
   },
   {
    "duration": 190,
    "start_time": "2022-12-28T22:46:16.081Z"
   },
   {
    "duration": 3,
    "start_time": "2022-12-28T22:46:16.276Z"
   },
   {
    "duration": 7,
    "start_time": "2022-12-28T22:46:16.280Z"
   },
   {
    "duration": 8,
    "start_time": "2022-12-28T22:46:16.288Z"
   },
   {
    "duration": 111912,
    "start_time": "2022-12-28T22:46:16.298Z"
   },
   {
    "duration": 6,
    "start_time": "2022-12-28T22:48:08.212Z"
   },
   {
    "duration": 5,
    "start_time": "2022-12-28T22:48:08.219Z"
   },
   {
    "duration": 6,
    "start_time": "2022-12-28T22:48:08.225Z"
   },
   {
    "duration": 9,
    "start_time": "2022-12-28T22:48:08.276Z"
   },
   {
    "duration": 24,
    "start_time": "2022-12-28T22:48:08.287Z"
   },
   {
    "duration": 196,
    "start_time": "2022-12-28T22:48:08.313Z"
   },
   {
    "duration": 3,
    "start_time": "2022-12-28T22:48:08.511Z"
   },
   {
    "duration": 9,
    "start_time": "2022-12-28T22:48:08.515Z"
   },
   {
    "duration": 3,
    "start_time": "2022-12-28T22:48:08.527Z"
   },
   {
    "duration": 7,
    "start_time": "2022-12-28T22:48:08.531Z"
   },
   {
    "duration": 9,
    "start_time": "2022-12-28T22:48:49.420Z"
   },
   {
    "duration": 6,
    "start_time": "2022-12-28T22:48:50.287Z"
   },
   {
    "duration": 177,
    "start_time": "2022-12-28T22:48:52.796Z"
   },
   {
    "duration": 73465,
    "start_time": "2022-12-28T22:50:27.412Z"
   },
   {
    "duration": 86199,
    "start_time": "2022-12-28T22:51:40.880Z"
   },
   {
    "duration": 4,
    "start_time": "2022-12-28T22:53:07.080Z"
   },
   {
    "duration": 11,
    "start_time": "2022-12-28T22:53:07.086Z"
   },
   {
    "duration": 27,
    "start_time": "2022-12-28T22:53:07.098Z"
   },
   {
    "duration": 49,
    "start_time": "2022-12-28T22:53:07.127Z"
   },
   {
    "duration": 5,
    "start_time": "2022-12-28T22:53:07.178Z"
   },
   {
    "duration": 199,
    "start_time": "2022-12-28T22:53:07.184Z"
   },
   {
    "duration": 3,
    "start_time": "2022-12-28T22:55:52.029Z"
   },
   {
    "duration": 3,
    "start_time": "2022-12-28T22:55:52.493Z"
   },
   {
    "duration": 5,
    "start_time": "2022-12-28T22:55:52.924Z"
   },
   {
    "duration": 1605,
    "start_time": "2022-12-28T23:02:40.999Z"
   },
   {
    "duration": 47,
    "start_time": "2022-12-28T23:02:44.942Z"
   },
   {
    "duration": 5,
    "start_time": "2022-12-28T23:02:45.399Z"
   },
   {
    "duration": 9,
    "start_time": "2022-12-28T23:02:45.838Z"
   },
   {
    "duration": 10,
    "start_time": "2022-12-28T23:02:46.281Z"
   },
   {
    "duration": 5,
    "start_time": "2022-12-28T23:02:47.986Z"
   },
   {
    "duration": 13,
    "start_time": "2022-12-28T23:02:48.419Z"
   },
   {
    "duration": 238,
    "start_time": "2022-12-28T23:02:48.802Z"
   },
   {
    "duration": 195,
    "start_time": "2022-12-28T23:02:49.200Z"
   },
   {
    "duration": 582,
    "start_time": "2022-12-28T23:02:49.567Z"
   },
   {
    "duration": 7,
    "start_time": "2022-12-28T23:02:50.151Z"
   },
   {
    "duration": 826,
    "start_time": "2022-12-28T23:02:50.278Z"
   },
   {
    "duration": 515,
    "start_time": "2022-12-28T23:02:51.106Z"
   },
   {
    "duration": 1781,
    "start_time": "2022-12-28T23:02:52.194Z"
   },
   {
    "duration": 368,
    "start_time": "2022-12-28T23:02:53.978Z"
   },
   {
    "duration": 3,
    "start_time": "2022-12-28T23:02:54.729Z"
   },
   {
    "duration": 2,
    "start_time": "2022-12-28T23:02:55.078Z"
   },
   {
    "duration": 3,
    "start_time": "2022-12-28T23:02:55.366Z"
   },
   {
    "duration": 29,
    "start_time": "2022-12-28T23:02:55.766Z"
   },
   {
    "duration": 29,
    "start_time": "2022-12-28T23:02:56.159Z"
   },
   {
    "duration": 38,
    "start_time": "2022-12-28T23:02:56.965Z"
   },
   {
    "duration": 25,
    "start_time": "2022-12-28T23:02:57.351Z"
   },
   {
    "duration": 85,
    "start_time": "2022-12-28T23:02:58.098Z"
   },
   {
    "duration": 5,
    "start_time": "2022-12-28T23:02:58.387Z"
   },
   {
    "duration": 163,
    "start_time": "2022-12-28T23:02:58.674Z"
   },
   {
    "duration": 3,
    "start_time": "2022-12-28T23:02:59.330Z"
   },
   {
    "duration": 3,
    "start_time": "2022-12-28T23:02:59.682Z"
   },
   {
    "duration": 4,
    "start_time": "2022-12-28T23:03:00.050Z"
   },
   {
    "duration": 52636,
    "start_time": "2022-12-28T23:03:00.306Z"
   },
   {
    "duration": 4,
    "start_time": "2022-12-28T23:03:52.944Z"
   },
   {
    "duration": 7,
    "start_time": "2022-12-28T23:03:52.949Z"
   },
   {
    "duration": 6,
    "start_time": "2022-12-28T23:03:52.958Z"
   },
   {
    "duration": 40,
    "start_time": "2022-12-28T23:03:52.965Z"
   },
   {
    "duration": 4,
    "start_time": "2022-12-28T23:03:53.006Z"
   },
   {
    "duration": 174,
    "start_time": "2022-12-28T23:03:53.012Z"
   },
   {
    "duration": 73106,
    "start_time": "2022-12-28T23:03:53.187Z"
   },
   {
    "duration": 64216,
    "start_time": "2022-12-28T23:05:06.377Z"
   },
   {
    "duration": 4,
    "start_time": "2022-12-28T23:06:10.595Z"
   },
   {
    "duration": 10,
    "start_time": "2022-12-28T23:06:10.600Z"
   },
   {
    "duration": 5,
    "start_time": "2022-12-28T23:06:10.612Z"
   },
   {
    "duration": 12,
    "start_time": "2022-12-28T23:06:10.677Z"
   },
   {
    "duration": 10,
    "start_time": "2022-12-28T23:06:10.691Z"
   },
   {
    "duration": 245,
    "start_time": "2022-12-28T23:06:10.702Z"
   },
   {
    "duration": 3,
    "start_time": "2022-12-28T23:06:10.948Z"
   },
   {
    "duration": 7,
    "start_time": "2022-12-28T23:06:10.952Z"
   },
   {
    "duration": 16,
    "start_time": "2022-12-28T23:06:10.960Z"
   },
   {
    "duration": 102305,
    "start_time": "2022-12-28T23:06:10.977Z"
   },
   {
    "duration": 6,
    "start_time": "2022-12-28T23:07:53.283Z"
   },
   {
    "duration": 19,
    "start_time": "2022-12-28T23:07:53.290Z"
   },
   {
    "duration": 18,
    "start_time": "2022-12-28T23:07:53.310Z"
   },
   {
    "duration": 26,
    "start_time": "2022-12-28T23:07:53.329Z"
   },
   {
    "duration": 21,
    "start_time": "2022-12-28T23:07:53.356Z"
   },
   {
    "duration": 171,
    "start_time": "2022-12-28T23:07:53.378Z"
   },
   {
    "duration": 3,
    "start_time": "2022-12-28T23:07:53.550Z"
   },
   {
    "duration": 33,
    "start_time": "2022-12-28T23:07:53.554Z"
   },
   {
    "duration": 25,
    "start_time": "2022-12-28T23:07:53.590Z"
   },
   {
    "duration": 29,
    "start_time": "2022-12-28T23:07:53.616Z"
   },
   {
    "duration": 30,
    "start_time": "2022-12-28T23:07:53.646Z"
   },
   {
    "duration": 39,
    "start_time": "2022-12-28T23:07:53.677Z"
   },
   {
    "duration": 19,
    "start_time": "2022-12-28T23:07:53.717Z"
   },
   {
    "duration": 6,
    "start_time": "2022-12-28T23:25:30.018Z"
   },
   {
    "duration": 1911,
    "start_time": "2022-12-29T19:37:56.372Z"
   },
   {
    "duration": 321,
    "start_time": "2022-12-29T19:37:58.285Z"
   },
   {
    "duration": 6,
    "start_time": "2022-12-29T19:37:58.608Z"
   },
   {
    "duration": 11,
    "start_time": "2022-12-29T19:37:58.930Z"
   },
   {
    "duration": 10,
    "start_time": "2022-12-29T19:37:59.426Z"
   },
   {
    "duration": 5,
    "start_time": "2022-12-29T19:38:01.471Z"
   },
   {
    "duration": 19,
    "start_time": "2022-12-29T19:38:01.910Z"
   },
   {
    "duration": 256,
    "start_time": "2022-12-29T19:38:02.326Z"
   },
   {
    "duration": 218,
    "start_time": "2022-12-29T19:38:02.739Z"
   },
   {
    "duration": 642,
    "start_time": "2022-12-29T19:38:03.183Z"
   },
   {
    "duration": 6,
    "start_time": "2022-12-29T19:38:03.828Z"
   },
   {
    "duration": 973,
    "start_time": "2022-12-29T19:38:04.029Z"
   },
   {
    "duration": 563,
    "start_time": "2022-12-29T19:38:05.004Z"
   },
   {
    "duration": 2054,
    "start_time": "2022-12-29T19:38:06.459Z"
   },
   {
    "duration": 369,
    "start_time": "2022-12-29T19:38:08.516Z"
   },
   {
    "duration": 2,
    "start_time": "2022-12-29T19:38:09.550Z"
   },
   {
    "duration": 3,
    "start_time": "2022-12-29T19:38:09.910Z"
   },
   {
    "duration": 4,
    "start_time": "2022-12-29T19:38:10.564Z"
   },
   {
    "duration": 31,
    "start_time": "2022-12-29T19:38:11.139Z"
   },
   {
    "duration": 32,
    "start_time": "2022-12-29T19:38:11.428Z"
   },
   {
    "duration": 36,
    "start_time": "2022-12-29T19:38:12.234Z"
   },
   {
    "duration": 24,
    "start_time": "2022-12-29T19:38:12.765Z"
   },
   {
    "duration": 68,
    "start_time": "2022-12-29T19:38:13.359Z"
   },
   {
    "duration": 7,
    "start_time": "2022-12-29T19:38:13.626Z"
   },
   {
    "duration": 177,
    "start_time": "2022-12-29T19:38:13.886Z"
   },
   {
    "duration": 2,
    "start_time": "2022-12-29T19:38:14.463Z"
   },
   {
    "duration": 3,
    "start_time": "2022-12-29T19:38:14.750Z"
   },
   {
    "duration": 4,
    "start_time": "2022-12-29T19:38:15.134Z"
   },
   {
    "duration": 36904,
    "start_time": "2022-12-29T19:38:16.042Z"
   },
   {
    "duration": 4,
    "start_time": "2022-12-29T19:38:52.947Z"
   },
   {
    "duration": 15,
    "start_time": "2022-12-29T19:38:52.952Z"
   },
   {
    "duration": 11,
    "start_time": "2022-12-29T19:38:52.969Z"
   },
   {
    "duration": 52,
    "start_time": "2022-12-29T19:38:52.982Z"
   },
   {
    "duration": 5,
    "start_time": "2022-12-29T19:38:53.036Z"
   },
   {
    "duration": 197,
    "start_time": "2022-12-29T19:38:53.043Z"
   },
   {
    "duration": 1790,
    "start_time": "2022-12-29T19:45:01.000Z"
   },
   {
    "duration": 55,
    "start_time": "2022-12-29T19:45:02.792Z"
   },
   {
    "duration": 5,
    "start_time": "2022-12-29T19:45:02.849Z"
   },
   {
    "duration": 8,
    "start_time": "2022-12-29T19:45:02.994Z"
   },
   {
    "duration": 11,
    "start_time": "2022-12-29T19:45:03.232Z"
   },
   {
    "duration": 4,
    "start_time": "2022-12-29T19:45:04.326Z"
   },
   {
    "duration": 14,
    "start_time": "2022-12-29T19:45:04.529Z"
   },
   {
    "duration": 262,
    "start_time": "2022-12-29T19:45:04.756Z"
   },
   {
    "duration": 216,
    "start_time": "2022-12-29T19:45:05.027Z"
   },
   {
    "duration": 638,
    "start_time": "2022-12-29T19:45:05.267Z"
   },
   {
    "duration": 9,
    "start_time": "2022-12-29T19:45:05.907Z"
   },
   {
    "duration": 935,
    "start_time": "2022-12-29T19:45:05.918Z"
   },
   {
    "duration": 554,
    "start_time": "2022-12-29T19:45:06.855Z"
   },
   {
    "duration": 2816,
    "start_time": "2022-12-29T19:45:07.413Z"
   },
   {
    "duration": 450,
    "start_time": "2022-12-29T19:45:10.232Z"
   },
   {
    "duration": 3,
    "start_time": "2022-12-29T19:45:10.683Z"
   },
   {
    "duration": 42,
    "start_time": "2022-12-29T19:45:10.688Z"
   },
   {
    "duration": 18,
    "start_time": "2022-12-29T19:45:10.732Z"
   },
   {
    "duration": 62,
    "start_time": "2022-12-29T19:45:10.752Z"
   },
   {
    "duration": 41,
    "start_time": "2022-12-29T19:45:10.815Z"
   },
   {
    "duration": 32,
    "start_time": "2022-12-29T19:45:10.879Z"
   },
   {
    "duration": 31,
    "start_time": "2022-12-29T19:45:11.308Z"
   },
   {
    "duration": 4,
    "start_time": "2022-12-29T19:45:12.010Z"
   },
   {
    "duration": 3,
    "start_time": "2022-12-29T19:45:12.232Z"
   },
   {
    "duration": 4,
    "start_time": "2022-12-29T19:45:12.456Z"
   },
   {
    "duration": 37391,
    "start_time": "2022-12-29T19:45:12.904Z"
   },
   {
    "duration": 12,
    "start_time": "2022-12-29T19:45:50.296Z"
   },
   {
    "duration": 4,
    "start_time": "2022-12-29T19:45:50.310Z"
   },
   {
    "duration": 32,
    "start_time": "2022-12-29T19:45:50.316Z"
   },
   {
    "duration": 938067,
    "start_time": "2022-12-29T19:45:50.350Z"
   },
   {
    "duration": 70817,
    "start_time": "2022-12-29T20:01:28.418Z"
   },
   {
    "duration": 77,
    "start_time": "2022-12-29T20:02:39.236Z"
   },
   {
    "duration": 33,
    "start_time": "2022-12-29T20:02:39.316Z"
   },
   {
    "duration": 18,
    "start_time": "2022-12-29T20:02:39.351Z"
   },
   {
    "duration": 29,
    "start_time": "2022-12-29T20:02:39.372Z"
   },
   {
    "duration": 14,
    "start_time": "2022-12-29T20:02:39.403Z"
   },
   {
    "duration": 41,
    "start_time": "2022-12-29T20:02:39.418Z"
   },
   {
    "duration": 271153,
    "start_time": "2022-12-29T20:02:39.460Z"
   },
   {
    "duration": 6,
    "start_time": "2022-12-29T20:07:10.614Z"
   },
   {
    "duration": 3,
    "start_time": "2022-12-29T20:07:10.622Z"
   },
   {
    "duration": 7,
    "start_time": "2022-12-29T20:07:10.626Z"
   },
   {
    "duration": 5,
    "start_time": "2022-12-29T20:07:10.634Z"
   },
   {
    "duration": 8,
    "start_time": "2022-12-29T20:07:10.641Z"
   },
   {
    "duration": 5,
    "start_time": "2022-12-29T20:07:10.650Z"
   },
   {
    "duration": 8,
    "start_time": "2022-12-29T20:07:10.656Z"
   },
   {
    "duration": 52,
    "start_time": "2022-12-29T20:07:10.665Z"
   },
   {
    "duration": 6,
    "start_time": "2022-12-29T20:07:10.718Z"
   },
   {
    "duration": 232,
    "start_time": "2022-12-29T20:07:10.725Z"
   },
   {
    "duration": 1604,
    "start_time": "2022-12-29T20:12:57.868Z"
   },
   {
    "duration": 47,
    "start_time": "2022-12-29T20:12:59.474Z"
   },
   {
    "duration": 5,
    "start_time": "2022-12-29T20:12:59.523Z"
   },
   {
    "duration": 11,
    "start_time": "2022-12-29T20:12:59.530Z"
   },
   {
    "duration": 10,
    "start_time": "2022-12-29T20:12:59.542Z"
   },
   {
    "duration": 5,
    "start_time": "2022-12-29T20:12:59.923Z"
   },
   {
    "duration": 12,
    "start_time": "2022-12-29T20:13:00.115Z"
   },
   {
    "duration": 276,
    "start_time": "2022-12-29T20:13:00.308Z"
   },
   {
    "duration": 215,
    "start_time": "2022-12-29T20:13:00.586Z"
   },
   {
    "duration": 622,
    "start_time": "2022-12-29T20:13:00.803Z"
   },
   {
    "duration": 6,
    "start_time": "2022-12-29T20:13:01.427Z"
   },
   {
    "duration": 919,
    "start_time": "2022-12-29T20:13:01.435Z"
   },
   {
    "duration": 515,
    "start_time": "2022-12-29T20:13:02.356Z"
   },
   {
    "duration": 1540,
    "start_time": "2022-12-29T20:13:02.873Z"
   },
   {
    "duration": 366,
    "start_time": "2022-12-29T20:13:04.418Z"
   },
   {
    "duration": 3,
    "start_time": "2022-12-29T20:13:04.785Z"
   },
   {
    "duration": 41,
    "start_time": "2022-12-29T20:13:04.789Z"
   },
   {
    "duration": 3,
    "start_time": "2022-12-29T20:13:04.934Z"
   },
   {
    "duration": 30,
    "start_time": "2022-12-29T20:13:05.460Z"
   },
   {
    "duration": 33,
    "start_time": "2022-12-29T20:13:05.733Z"
   },
   {
    "duration": 38,
    "start_time": "2022-12-29T20:13:06.879Z"
   },
   {
    "duration": 26,
    "start_time": "2022-12-29T20:13:07.328Z"
   },
   {
    "duration": 2,
    "start_time": "2022-12-29T20:13:08.072Z"
   },
   {
    "duration": 3,
    "start_time": "2022-12-29T20:13:08.360Z"
   },
   {
    "duration": 4,
    "start_time": "2022-12-29T20:13:08.616Z"
   },
   {
    "duration": 123,
    "start_time": "2022-12-29T20:13:09.956Z"
   },
   {
    "duration": 11,
    "start_time": "2022-12-29T20:13:10.260Z"
   },
   {
    "duration": 11,
    "start_time": "2022-12-29T20:13:10.548Z"
   },
   {
    "duration": 13597,
    "start_time": "2022-12-29T20:13:22.759Z"
   },
   {
    "duration": 4,
    "start_time": "2022-12-29T20:13:36.358Z"
   },
   {
    "duration": 16,
    "start_time": "2022-12-29T20:13:36.363Z"
   },
   {
    "duration": 9,
    "start_time": "2022-12-29T20:13:36.381Z"
   },
   {
    "duration": 91,
    "start_time": "2022-12-29T20:14:40.436Z"
   },
   {
    "duration": 1685,
    "start_time": "2022-12-29T20:15:07.209Z"
   },
   {
    "duration": 55,
    "start_time": "2022-12-29T20:15:08.896Z"
   },
   {
    "duration": 6,
    "start_time": "2022-12-29T20:15:08.953Z"
   },
   {
    "duration": 48,
    "start_time": "2022-12-29T20:15:08.961Z"
   },
   {
    "duration": 51,
    "start_time": "2022-12-29T20:15:09.011Z"
   },
   {
    "duration": 4,
    "start_time": "2022-12-29T20:15:09.526Z"
   },
   {
    "duration": 14,
    "start_time": "2022-12-29T20:15:09.721Z"
   },
   {
    "duration": 277,
    "start_time": "2022-12-29T20:15:09.899Z"
   },
   {
    "duration": 264,
    "start_time": "2022-12-29T20:15:10.178Z"
   },
   {
    "duration": 644,
    "start_time": "2022-12-29T20:15:10.445Z"
   },
   {
    "duration": 6,
    "start_time": "2022-12-29T20:15:11.090Z"
   },
   {
    "duration": 936,
    "start_time": "2022-12-29T20:15:11.098Z"
   },
   {
    "duration": 541,
    "start_time": "2022-12-29T20:15:12.036Z"
   },
   {
    "duration": 3139,
    "start_time": "2022-12-29T20:15:12.579Z"
   },
   {
    "duration": 357,
    "start_time": "2022-12-29T20:15:15.722Z"
   },
   {
    "duration": 3,
    "start_time": "2022-12-29T20:15:16.081Z"
   },
   {
    "duration": 7,
    "start_time": "2022-12-29T20:15:16.086Z"
   },
   {
    "duration": 6,
    "start_time": "2022-12-29T20:15:16.094Z"
   },
   {
    "duration": 31,
    "start_time": "2022-12-29T20:15:16.116Z"
   },
   {
    "duration": 32,
    "start_time": "2022-12-29T20:15:16.148Z"
   },
   {
    "duration": 57,
    "start_time": "2022-12-29T20:15:16.182Z"
   },
   {
    "duration": 26,
    "start_time": "2022-12-29T20:15:16.241Z"
   },
   {
    "duration": 3,
    "start_time": "2022-12-29T20:15:16.268Z"
   },
   {
    "duration": 7,
    "start_time": "2022-12-29T20:15:16.272Z"
   },
   {
    "duration": 5,
    "start_time": "2022-12-29T20:15:16.281Z"
   },
   {
    "duration": 14172,
    "start_time": "2022-12-29T20:15:16.810Z"
   },
   {
    "duration": 3,
    "start_time": "2022-12-29T20:15:30.984Z"
   },
   {
    "duration": 8,
    "start_time": "2022-12-29T20:15:30.988Z"
   },
   {
    "duration": 33,
    "start_time": "2022-12-29T20:15:30.998Z"
   },
   {
    "duration": 500097,
    "start_time": "2022-12-29T20:15:31.033Z"
   },
   {
    "duration": 186893,
    "start_time": "2022-12-29T20:23:51.132Z"
   },
   {
    "duration": 3,
    "start_time": "2022-12-29T20:26:58.027Z"
   },
   {
    "duration": 13,
    "start_time": "2022-12-29T20:26:58.032Z"
   },
   {
    "duration": 10,
    "start_time": "2022-12-29T20:26:58.047Z"
   },
   {
    "duration": 8,
    "start_time": "2022-12-29T20:26:58.060Z"
   },
   {
    "duration": 43,
    "start_time": "2022-12-29T20:26:58.070Z"
   },
   {
    "duration": 3,
    "start_time": "2022-12-29T20:26:58.115Z"
   }
  ],
  "kernelspec": {
   "display_name": ".venv",
   "language": "python",
   "name": "python3"
  },
  "language_info": {
   "codemirror_mode": {
    "name": "ipython",
    "version": 3
   },
   "file_extension": ".py",
   "mimetype": "text/x-python",
   "name": "python",
   "nbconvert_exporter": "python",
   "pygments_lexer": "ipython3",
   "version": "3.12.1"
  },
  "toc": {
   "base_numbering": 1,
   "nav_menu": {},
   "number_sections": true,
   "sideBar": true,
   "skip_h1_title": true,
   "title_cell": "Содержание",
   "title_sidebar": "Contents",
   "toc_cell": true,
   "toc_position": {},
   "toc_section_display": true,
   "toc_window_display": false
  }
 },
 "nbformat": 4,
 "nbformat_minor": 2
}
