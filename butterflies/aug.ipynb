{
 "cells": [
  {
   "cell_type": "code",
   "execution_count": 3,
   "metadata": {},
   "outputs": [],
   "source": [
    "from PIL import Image, ImageEnhance, ImageFilter\n",
    "import os"
   ]
  },
  {
   "cell_type": "code",
   "execution_count": 4,
   "metadata": {},
   "outputs": [],
   "source": [
    "input_dir = \"crop/\"\n",
    "output_dir = \"aug/\"\n",
    "os.makedirs(output_dir, exist_ok=True)\n",
    "transformations = [\n",
    "    lambda img: img.rotate(30),\n",
    "    lambda img: img.rotate(-30),\n",
    "    lambda img: img.transpose(Image.FLIP_LEFT_RIGHT),\n",
    "    lambda img: img.transpose(Image.FLIP_TOP_BOTTOM),\n",
    "    lambda img: img.resize((int(img.width * 0.8), int(img.height * 0.8))),\n",
    "    lambda img: img.resize((int(img.width * 1.2), int(img.height * 1.2))),\n",
    "    lambda img: ImageEnhance.Brightness(img).enhance(1.5),\n",
    "    lambda img: ImageEnhance.Contrast(img).enhance(1.5),\n",
    "    lambda img: img.filter(ImageFilter.GaussianBlur(2)),\n",
    "    lambda img: img.filter(ImageFilter.DETAIL),\n",
    "]\n",
    "\n",
    "for i in range(1, 26):\n",
    "    image_path = os.path.join(input_dir, f\"{i}.jpeg\")\n",
    "    image = Image.open(image_path)\n",
    "    \n",
    "    for j, transform in enumerate(transformations):\n",
    "        augmented_image = transform(image)\n",
    "        augmented_image.save(os.path.join(output_dir, f\"{i}_aug_{j+1}.jpeg\"))"
   ]
  }
 ],
 "metadata": {
  "kernelspec": {
   "display_name": ".venv",
   "language": "python",
   "name": "python3"
  },
  "language_info": {
   "codemirror_mode": {
    "name": "ipython",
    "version": 3
   },
   "file_extension": ".py",
   "mimetype": "text/x-python",
   "name": "python",
   "nbconvert_exporter": "python",
   "pygments_lexer": "ipython3",
   "version": "3.12.1"
  }
 },
 "nbformat": 4,
 "nbformat_minor": 2
}
